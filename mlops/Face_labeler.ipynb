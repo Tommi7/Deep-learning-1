{
 "cells": [
  {
   "cell_type": "markdown",
   "id": "15a559f6-7dbc-4b67-bbef-43b01d6074ed",
   "metadata": {},
   "source": [
    "https://github.com/adobe-research/VideoSham-dataset"
   ]
  },
  {
   "cell_type": "code",
   "execution_count": 16,
   "id": "46d7ba4c-9c16-44cb-94ab-2d7302309c29",
   "metadata": {},
   "outputs": [],
   "source": [
    "import cv2\n",
    "import os\n",
    "import moviepy.editor as mp"
   ]
  },
  {
   "cell_type": "code",
   "execution_count": 5,
   "id": "964e8cbe-5398-4ec6-a966-a37dcbd065d7",
   "metadata": {},
   "outputs": [],
   "source": [
    "base_path = 'Videos'\n",
    "resized_path = 'resized_' + path \n",
    "def get_video_paths(path):\n",
    "    video_paths = []\n",
    "    for video in os.listdir(path):\n",
    "        video_paths.append(f'{path}/{video}')\n",
    "    return video_paths\n",
    "video_paths = get_video_paths(base_path)\n",
    "rezised_video_paths = get_video_paths(resized_path)"
   ]
  },
  {
   "cell_type": "code",
   "execution_count": 6,
   "id": "3f42095c-b466-4eb3-a843-c98140e686eb",
   "metadata": {},
   "outputs": [],
   "source": [
    "def resize_video(paths):\n",
    "    for path in paths:\n",
    "        new_path = 'resized_' + path.rstrip('.mp4') + '_resized.mp4'\n",
    "        clip = mp.VideoFileClip(path)\n",
    "        clip_resized = clip.resize((1280, 720))\n",
    "        clip_resized.write_videofile(new_path)"
   ]
  },
  {
   "cell_type": "code",
   "execution_count": 7,
   "id": "3cafd996-887c-4acf-b6a6-2b37f4d37838",
   "metadata": {},
   "outputs": [],
   "source": [
    "# resize_video(video_paths)"
   ]
  },
  {
   "cell_type": "code",
   "execution_count": 14,
   "id": "0aefb1a4-8925-4d0a-99db-515b542ec172",
   "metadata": {},
   "outputs": [],
   "source": [
    "def detect_faces(vid_path):\n",
    "    face_classifier = cv2.CascadeClassifier(\n",
    "    cv2.data.haarcascades + \"haarcascade_profileface.xml\")\n",
    "    \n",
    "    new_path = 'faces_' + vid_path.rstrip('.mp4').lstrip('resized_') + '_faces.mp4'\n",
    "    \n",
    "    vid = cv2.VideoCapture(vid_path)\n",
    "    fps = vid.get(cv2.CAP_PROP_FPS)\n",
    "    fourcc = cv2.VideoWriter_fourcc(*'MP4V')\n",
    "    video_writer = cv2.VideoWriter(new_path, fourcc, fps, (int(vid.get(3)),int(vid.get(4))))\n",
    "    \n",
    "    success = True\n",
    "    while success:\n",
    "        success, video_frame = vid.read()\n",
    "        if success:\n",
    "            faces = face_classifier.detectMultiScale(video_frame, 4, minSize=(40, 40))\n",
    "            for (x, y, w, h) in faces:\n",
    "                cv2.rectangle(video_frame, (x, y), (x + w, y + h), (0, 255, 0), 4)\n",
    "            video_writer.write(video_frame)\n",
    "    video_writer.release()"
   ]
  },
  {
   "cell_type": "code",
   "execution_count": 15,
   "id": "a83bebdb-7c8f-45da-b335-a2827a2614d1",
   "metadata": {},
   "outputs": [],
   "source": [
    "detect_faces(rezised_video_paths[0])"
   ]
  },
  {
   "cell_type": "code",
   "execution_count": null,
   "id": "c275f7ac-99e0-4b54-8bd8-35a9efd64b94",
   "metadata": {},
   "outputs": [],
   "source": []
  }
 ],
 "metadata": {
  "kernelspec": {
   "display_name": "Python 3 (ipykernel)",
   "language": "python",
   "name": "python3"
  },
  "language_info": {
   "codemirror_mode": {
    "name": "ipython",
    "version": 3
   },
   "file_extension": ".py",
   "mimetype": "text/x-python",
   "name": "python",
   "nbconvert_exporter": "python",
   "pygments_lexer": "ipython3",
   "version": "3.9.18"
  }
 },
 "nbformat": 4,
 "nbformat_minor": 5
}
