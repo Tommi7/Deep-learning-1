{
 "cells": [
  {
   "cell_type": "markdown",
   "id": "15a559f6-7dbc-4b67-bbef-43b01d6074ed",
   "metadata": {},
   "source": [
    "https://github.com/adobe-research/VideoSham-dataset"
   ]
  },
  {
   "cell_type": "code",
   "execution_count": 1,
   "id": "46d7ba4c-9c16-44cb-94ab-2d7302309c29",
   "metadata": {},
   "outputs": [],
   "source": [
    "import cv2\n",
    "import os\n",
    "import moviepy.editor as mp\n",
    "import pandas as pd"
   ]
  },
  {
   "cell_type": "code",
   "execution_count": 2,
   "id": "dc0b6ee9",
   "metadata": {},
   "outputs": [],
   "source": [
    "base_path = 'Videos'\n",
    "resized_path = 'resized_' + base_path "
   ]
  },
  {
   "cell_type": "code",
   "execution_count": 3,
   "id": "964e8cbe-5398-4ec6-a966-a37dcbd065d7",
   "metadata": {},
   "outputs": [],
   "source": [
    "def get_video_paths(path):\n",
    "    video_paths = []\n",
    "    for video in os.listdir(path):\n",
    "        if video.endswith('.mp4'):\n",
    "            video_paths.append(f'{path}/{video}')\n",
    "        else:\n",
    "            pass\n",
    "    return video_paths"
   ]
  },
  {
   "cell_type": "code",
   "execution_count": 4,
   "id": "013f34bc",
   "metadata": {},
   "outputs": [],
   "source": [
    "video_paths = get_video_paths(base_path)\n",
    "rezised_video_paths = get_video_paths(resized_path)"
   ]
  },
  {
   "cell_type": "code",
   "execution_count": 5,
   "id": "3f42095c-b466-4eb3-a843-c98140e686eb",
   "metadata": {},
   "outputs": [],
   "source": [
    "def resize_video(paths):\n",
    "    for path in paths:\n",
    "        print(path)\n",
    "        new_path = 'resized_' + path.rstrip('.mp4') + '_resized.mp4'\n",
    "        clip = mp.VideoFileClip(path)\n",
    "        clip_resized = clip.resize((1280, 720))\n",
    "        print(clip_resized)\n",
    "        # try:\n",
    "        clip_resized.write_videofile(new_path)\n",
    "        # except TypeError:\n",
    "        #     print('TypeError occured! Please upgrade ffmpeg with: pip install ffmpeg --upgrade')"
   ]
  },
  {
   "cell_type": "code",
   "execution_count": 6,
   "id": "295fb1a8",
   "metadata": {},
   "outputs": [
    {
     "name": "stdout",
     "output_type": "stream",
     "text": [
      "Videos/061_unedited.mp4\n",
      "<moviepy.video.io.VideoFileClip.VideoFileClip object at 0x0000022D60D73FA0>\n",
      "Moviepy - Building video resized_Videos/061_unedited_resized.mp4.\n",
      "Moviepy - Writing video resized_Videos/061_unedited_resized.mp4\n",
      "\n"
     ]
    },
    {
     "name": "stderr",
     "output_type": "stream",
     "text": [
      "                                                               \r"
     ]
    },
    {
     "name": "stdout",
     "output_type": "stream",
     "text": [
      "Moviepy - Done !\n",
      "Moviepy - video ready resized_Videos/061_unedited_resized.mp4\n",
      "Videos/062_unedited.mp4\n",
      "<moviepy.video.io.VideoFileClip.VideoFileClip object at 0x0000022D60DB6590>\n",
      "Moviepy - Building video resized_Videos/062_unedited_resized.mp4.\n",
      "MoviePy - Writing audio in 062_unedited_resizedTEMP_MPY_wvf_snd.mp3\n"
     ]
    },
    {
     "name": "stderr",
     "output_type": "stream",
     "text": [
      "                                                                  \r"
     ]
    },
    {
     "name": "stdout",
     "output_type": "stream",
     "text": [
      "MoviePy - Done.\n",
      "Moviepy - Writing video resized_Videos/062_unedited_resized.mp4\n",
      "\n"
     ]
    },
    {
     "name": "stderr",
     "output_type": "stream",
     "text": [
      "                                                               \r"
     ]
    },
    {
     "name": "stdout",
     "output_type": "stream",
     "text": [
      "Moviepy - Done !\n",
      "Moviepy - video ready resized_Videos/062_unedited_resized.mp4\n",
      "Videos/063_unedited.mp4\n",
      "<moviepy.video.io.VideoFileClip.VideoFileClip object at 0x0000022D60DB66E0>\n",
      "Moviepy - Building video resized_Videos/063_unedited_resized.mp4.\n",
      "MoviePy - Writing audio in 063_unedited_resizedTEMP_MPY_wvf_snd.mp3\n"
     ]
    },
    {
     "name": "stderr",
     "output_type": "stream",
     "text": [
      "                                                                  \r"
     ]
    },
    {
     "name": "stdout",
     "output_type": "stream",
     "text": [
      "MoviePy - Done.\n",
      "Moviepy - Writing video resized_Videos/063_unedited_resized.mp4\n",
      "\n"
     ]
    },
    {
     "name": "stderr",
     "output_type": "stream",
     "text": [
      "                                                              \r"
     ]
    },
    {
     "name": "stdout",
     "output_type": "stream",
     "text": [
      "Moviepy - Done !\n",
      "Moviepy - video ready resized_Videos/063_unedited_resized.mp4\n",
      "Videos/064_unedited.mp4\n",
      "<moviepy.video.io.VideoFileClip.VideoFileClip object at 0x0000022D60DB6A40>\n",
      "Moviepy - Building video resized_Videos/064_unedited_resized.mp4.\n",
      "Moviepy - Writing video resized_Videos/064_unedited_resized.mp4\n",
      "\n"
     ]
    },
    {
     "name": "stderr",
     "output_type": "stream",
     "text": [
      "                                                               \r"
     ]
    },
    {
     "name": "stdout",
     "output_type": "stream",
     "text": [
      "Moviepy - Done !\n",
      "Moviepy - video ready resized_Videos/064_unedited_resized.mp4\n",
      "Videos/065_unedited.mp4\n",
      "<moviepy.video.io.VideoFileClip.VideoFileClip object at 0x0000022D60DB6740>\n",
      "Moviepy - Building video resized_Videos/065_unedited_resized.mp4.\n",
      "MoviePy - Writing audio in 065_unedited_resizedTEMP_MPY_wvf_snd.mp3\n"
     ]
    },
    {
     "name": "stderr",
     "output_type": "stream",
     "text": [
      "                                                       \r"
     ]
    },
    {
     "name": "stdout",
     "output_type": "stream",
     "text": [
      "MoviePy - Done.\n",
      "Moviepy - Writing video resized_Videos/065_unedited_resized.mp4\n",
      "\n"
     ]
    },
    {
     "name": "stderr",
     "output_type": "stream",
     "text": [
      "                                                              \r"
     ]
    },
    {
     "name": "stdout",
     "output_type": "stream",
     "text": [
      "Moviepy - Done !\n",
      "Moviepy - video ready resized_Videos/065_unedited_resized.mp4\n",
      "Videos/066_unedited.mp4\n",
      "<moviepy.video.io.VideoFileClip.VideoFileClip object at 0x0000022D60DB6D40>\n",
      "Moviepy - Building video resized_Videos/066_unedited_resized.mp4.\n",
      "MoviePy - Writing audio in 066_unedited_resizedTEMP_MPY_wvf_snd.mp3\n"
     ]
    },
    {
     "name": "stderr",
     "output_type": "stream",
     "text": [
      "                                                                    \r"
     ]
    },
    {
     "name": "stdout",
     "output_type": "stream",
     "text": [
      "MoviePy - Done.\n",
      "Moviepy - Writing video resized_Videos/066_unedited_resized.mp4\n",
      "\n"
     ]
    },
    {
     "name": "stderr",
     "output_type": "stream",
     "text": [
      "                                                               \r"
     ]
    },
    {
     "name": "stdout",
     "output_type": "stream",
     "text": [
      "Moviepy - Done !\n",
      "Moviepy - video ready resized_Videos/066_unedited_resized.mp4\n",
      "Videos/067_unedited.mp4\n",
      "<moviepy.video.io.VideoFileClip.VideoFileClip object at 0x0000022D60DB7100>\n",
      "Moviepy - Building video resized_Videos/067_unedited_resized.mp4.\n",
      "MoviePy - Writing audio in 067_unedited_resizedTEMP_MPY_wvf_snd.mp3\n"
     ]
    },
    {
     "name": "stderr",
     "output_type": "stream",
     "text": [
      "                                                                    \r"
     ]
    },
    {
     "name": "stdout",
     "output_type": "stream",
     "text": [
      "MoviePy - Done.\n",
      "Moviepy - Writing video resized_Videos/067_unedited_resized.mp4\n",
      "\n"
     ]
    },
    {
     "name": "stderr",
     "output_type": "stream",
     "text": [
      "                                                               \r"
     ]
    },
    {
     "name": "stdout",
     "output_type": "stream",
     "text": [
      "Moviepy - Done !\n",
      "Moviepy - video ready resized_Videos/067_unedited_resized.mp4\n",
      "Videos/068_unedited.mp4\n",
      "<moviepy.video.io.VideoFileClip.VideoFileClip object at 0x0000022D60DB6830>\n",
      "Moviepy - Building video resized_Videos/068_unedited_resized.mp4.\n",
      "MoviePy - Writing audio in 068_unedited_resizedTEMP_MPY_wvf_snd.mp3\n"
     ]
    },
    {
     "name": "stderr",
     "output_type": "stream",
     "text": [
      "                                                                   \r"
     ]
    },
    {
     "name": "stdout",
     "output_type": "stream",
     "text": [
      "MoviePy - Done.\n",
      "Moviepy - Writing video resized_Videos/068_unedited_resized.mp4\n",
      "\n"
     ]
    },
    {
     "name": "stderr",
     "output_type": "stream",
     "text": [
      "                                                               \r"
     ]
    },
    {
     "name": "stdout",
     "output_type": "stream",
     "text": [
      "Moviepy - Done !\n",
      "Moviepy - video ready resized_Videos/068_unedited_resized.mp4\n",
      "Videos/069_unedited.mp4\n",
      "<moviepy.video.io.VideoFileClip.VideoFileClip object at 0x0000022D60DB6F50>\n",
      "Moviepy - Building video resized_Videos/069_unedited_resized.mp4.\n",
      "MoviePy - Writing audio in 069_unedited_resizedTEMP_MPY_wvf_snd.mp3\n"
     ]
    },
    {
     "name": "stderr",
     "output_type": "stream",
     "text": [
      "                                                       \r"
     ]
    },
    {
     "name": "stdout",
     "output_type": "stream",
     "text": [
      "MoviePy - Done.\n",
      "Moviepy - Writing video resized_Videos/069_unedited_resized.mp4\n",
      "\n"
     ]
    },
    {
     "name": "stderr",
     "output_type": "stream",
     "text": [
      "                                                               \r"
     ]
    },
    {
     "name": "stdout",
     "output_type": "stream",
     "text": [
      "Moviepy - Done !\n",
      "Moviepy - video ready resized_Videos/069_unedited_resized.mp4\n",
      "Videos/070_unedited.mp4\n",
      "<moviepy.video.io.VideoFileClip.VideoFileClip object at 0x0000022D60DB72E0>\n",
      "Moviepy - Building video resized_Videos/070_unedited_resized.mp4.\n",
      "MoviePy - Writing audio in 070_unedited_resizedTEMP_MPY_wvf_snd.mp3\n"
     ]
    },
    {
     "name": "stderr",
     "output_type": "stream",
     "text": [
      "                                                                    \r"
     ]
    },
    {
     "name": "stdout",
     "output_type": "stream",
     "text": [
      "MoviePy - Done.\n",
      "Moviepy - Writing video resized_Videos/070_unedited_resized.mp4\n",
      "\n"
     ]
    },
    {
     "name": "stderr",
     "output_type": "stream",
     "text": [
      "                                                               \r"
     ]
    },
    {
     "name": "stdout",
     "output_type": "stream",
     "text": [
      "Moviepy - Done !\n",
      "Moviepy - video ready resized_Videos/070_unedited_resized.mp4\n",
      "Videos/071_unedited.mp4\n",
      "<moviepy.video.io.VideoFileClip.VideoFileClip object at 0x0000022D60DB7070>\n",
      "Moviepy - Building video resized_Videos/071_unedited_resized.mp4.\n",
      "MoviePy - Writing audio in 071_unedited_resizedTEMP_MPY_wvf_snd.mp3\n"
     ]
    },
    {
     "name": "stderr",
     "output_type": "stream",
     "text": [
      "                                                                   \r"
     ]
    },
    {
     "name": "stdout",
     "output_type": "stream",
     "text": [
      "MoviePy - Done.\n",
      "Moviepy - Writing video resized_Videos/071_unedited_resized.mp4\n",
      "\n"
     ]
    },
    {
     "name": "stderr",
     "output_type": "stream",
     "text": [
      "                                                               \r"
     ]
    },
    {
     "name": "stdout",
     "output_type": "stream",
     "text": [
      "Moviepy - Done !\n",
      "Moviepy - video ready resized_Videos/071_unedited_resized.mp4\n",
      "Videos/072_unedited.mp4\n",
      "<moviepy.video.io.VideoFileClip.VideoFileClip object at 0x0000022D60DB7430>\n",
      "Moviepy - Building video resized_Videos/072_unedited_resized.mp4.\n",
      "Moviepy - Writing video resized_Videos/072_unedited_resized.mp4\n",
      "\n"
     ]
    },
    {
     "name": "stderr",
     "output_type": "stream",
     "text": [
      "                                                              \r"
     ]
    },
    {
     "name": "stdout",
     "output_type": "stream",
     "text": [
      "Moviepy - Done !\n",
      "Moviepy - video ready resized_Videos/072_unedited_resized.mp4\n",
      "Videos/073_unedited.mp4\n",
      "<moviepy.video.io.VideoFileClip.VideoFileClip object at 0x0000022D60DB6E90>\n",
      "Moviepy - Building video resized_Videos/073_unedited_resized.mp4.\n",
      "MoviePy - Writing audio in 073_unedited_resizedTEMP_MPY_wvf_snd.mp3\n"
     ]
    },
    {
     "name": "stderr",
     "output_type": "stream",
     "text": [
      "                                                                    \r"
     ]
    },
    {
     "name": "stdout",
     "output_type": "stream",
     "text": [
      "MoviePy - Done.\n",
      "Moviepy - Writing video resized_Videos/073_unedited_resized.mp4\n",
      "\n"
     ]
    },
    {
     "name": "stderr",
     "output_type": "stream",
     "text": [
      "                                                              \r"
     ]
    },
    {
     "name": "stdout",
     "output_type": "stream",
     "text": [
      "Moviepy - Done !\n",
      "Moviepy - video ready resized_Videos/073_unedited_resized.mp4\n",
      "Videos/074_unedited.mp4\n",
      "<moviepy.video.io.VideoFileClip.VideoFileClip object at 0x0000022D60DB6C20>\n",
      "Moviepy - Building video resized_Videos/074_unedited_resized.mp4.\n",
      "MoviePy - Writing audio in 074_unedited_resizedTEMP_MPY_wvf_snd.mp3\n"
     ]
    },
    {
     "name": "stderr",
     "output_type": "stream",
     "text": [
      "                                                                   \r"
     ]
    },
    {
     "name": "stdout",
     "output_type": "stream",
     "text": [
      "MoviePy - Done.\n",
      "Moviepy - Writing video resized_Videos/074_unedited_resized.mp4\n",
      "\n"
     ]
    },
    {
     "name": "stderr",
     "output_type": "stream",
     "text": [
      "                                                               \r"
     ]
    },
    {
     "name": "stdout",
     "output_type": "stream",
     "text": [
      "Moviepy - Done !\n",
      "Moviepy - video ready resized_Videos/074_unedited_resized.mp4\n",
      "Videos/075_unedited.mp4\n",
      "<moviepy.video.io.VideoFileClip.VideoFileClip object at 0x0000022D60DB7940>\n",
      "Moviepy - Building video resized_Videos/075_unedited_resized.mp4.\n",
      "Moviepy - Writing video resized_Videos/075_unedited_resized.mp4\n",
      "\n"
     ]
    },
    {
     "name": "stderr",
     "output_type": "stream",
     "text": [
      "                                                               \r"
     ]
    },
    {
     "name": "stdout",
     "output_type": "stream",
     "text": [
      "Moviepy - Done !\n",
      "Moviepy - video ready resized_Videos/075_unedited_resized.mp4\n",
      "Videos/076_unedited.mp4\n",
      "<moviepy.video.io.VideoFileClip.VideoFileClip object at 0x0000022D60DB7A00>\n",
      "Moviepy - Building video resized_Videos/076_unedited_resized.mp4.\n",
      "MoviePy - Writing audio in 076_unedited_resizedTEMP_MPY_wvf_snd.mp3\n"
     ]
    },
    {
     "name": "stderr",
     "output_type": "stream",
     "text": [
      "                                                                  \r"
     ]
    },
    {
     "name": "stdout",
     "output_type": "stream",
     "text": [
      "MoviePy - Done.\n",
      "Moviepy - Writing video resized_Videos/076_unedited_resized.mp4\n",
      "\n"
     ]
    },
    {
     "name": "stderr",
     "output_type": "stream",
     "text": [
      "                                                               \r"
     ]
    },
    {
     "name": "stdout",
     "output_type": "stream",
     "text": [
      "Moviepy - Done !\n",
      "Moviepy - video ready resized_Videos/076_unedited_resized.mp4\n",
      "Videos/077_unedited.mp4\n",
      "<moviepy.video.io.VideoFileClip.VideoFileClip object at 0x0000022D60DB7D00>\n",
      "Moviepy - Building video resized_Videos/077_unedited_resized.mp4.\n",
      "MoviePy - Writing audio in 077_unedited_resizedTEMP_MPY_wvf_snd.mp3\n"
     ]
    },
    {
     "name": "stderr",
     "output_type": "stream",
     "text": [
      "                                                                    \r"
     ]
    },
    {
     "name": "stdout",
     "output_type": "stream",
     "text": [
      "MoviePy - Done.\n",
      "Moviepy - Writing video resized_Videos/077_unedited_resized.mp4\n",
      "\n"
     ]
    },
    {
     "name": "stderr",
     "output_type": "stream",
     "text": [
      "                                                               \r"
     ]
    },
    {
     "name": "stdout",
     "output_type": "stream",
     "text": [
      "Moviepy - Done !\n",
      "Moviepy - video ready resized_Videos/077_unedited_resized.mp4\n",
      "Videos/078_unedited.mp4\n",
      "<moviepy.video.io.VideoFileClip.VideoFileClip object at 0x0000022D60DB6BF0>\n",
      "Moviepy - Building video resized_Videos/078_unedited_resized.mp4.\n",
      "MoviePy - Writing audio in 078_unedited_resizedTEMP_MPY_wvf_snd.mp3\n"
     ]
    },
    {
     "name": "stderr",
     "output_type": "stream",
     "text": [
      "                                                                  \r"
     ]
    },
    {
     "name": "stdout",
     "output_type": "stream",
     "text": [
      "MoviePy - Done.\n",
      "Moviepy - Writing video resized_Videos/078_unedited_resized.mp4\n",
      "\n"
     ]
    },
    {
     "name": "stderr",
     "output_type": "stream",
     "text": [
      "                                                               \r"
     ]
    },
    {
     "name": "stdout",
     "output_type": "stream",
     "text": [
      "Moviepy - Done !\n",
      "Moviepy - video ready resized_Videos/078_unedited_resized.mp4\n",
      "Videos/079_unedited.mp4\n",
      "<moviepy.video.io.VideoFileClip.VideoFileClip object at 0x0000022D60DB7BB0>\n",
      "Moviepy - Building video resized_Videos/079_unedited_resized.mp4.\n",
      "MoviePy - Writing audio in 079_unedited_resizedTEMP_MPY_wvf_snd.mp3\n"
     ]
    },
    {
     "name": "stderr",
     "output_type": "stream",
     "text": [
      "                                                                    \r"
     ]
    },
    {
     "name": "stdout",
     "output_type": "stream",
     "text": [
      "MoviePy - Done.\n",
      "Moviepy - Writing video resized_Videos/079_unedited_resized.mp4\n",
      "\n"
     ]
    },
    {
     "name": "stderr",
     "output_type": "stream",
     "text": [
      "                                                               \r"
     ]
    },
    {
     "name": "stdout",
     "output_type": "stream",
     "text": [
      "Moviepy - Done !\n",
      "Moviepy - video ready resized_Videos/079_unedited_resized.mp4\n",
      "Videos/080_unedited.mp4\n",
      "<moviepy.video.io.VideoFileClip.VideoFileClip object at 0x0000022D60DB6E60>\n",
      "Moviepy - Building video resized_Videos/080_unedited_resized.mp4.\n",
      "Moviepy - Writing video resized_Videos/080_unedited_resized.mp4\n",
      "\n"
     ]
    },
    {
     "name": "stderr",
     "output_type": "stream",
     "text": [
      "                                                               \r"
     ]
    },
    {
     "name": "stdout",
     "output_type": "stream",
     "text": [
      "Moviepy - Done !\n",
      "Moviepy - video ready resized_Videos/080_unedited_resized.mp4\n",
      "Videos/081_unedited.mp4\n",
      "<moviepy.video.io.VideoFileClip.VideoFileClip object at 0x0000022D60DB7A30>\n",
      "Moviepy - Building video resized_Videos/081_unedited_resized.mp4.\n",
      "MoviePy - Writing audio in 081_unedited_resizedTEMP_MPY_wvf_snd.mp3\n"
     ]
    },
    {
     "name": "stderr",
     "output_type": "stream",
     "text": [
      "                                                        \r"
     ]
    },
    {
     "name": "stdout",
     "output_type": "stream",
     "text": [
      "MoviePy - Done.\n",
      "Moviepy - Writing video resized_Videos/081_unedited_resized.mp4\n",
      "\n"
     ]
    },
    {
     "name": "stderr",
     "output_type": "stream",
     "text": [
      "                                                               \r"
     ]
    },
    {
     "name": "stdout",
     "output_type": "stream",
     "text": [
      "Moviepy - Done !\n",
      "Moviepy - video ready resized_Videos/081_unedited_resized.mp4\n",
      "Videos/082_unedited.mp4\n",
      "<moviepy.video.io.VideoFileClip.VideoFileClip object at 0x0000022D61450310>\n",
      "Moviepy - Building video resized_Videos/082_unedited_resized.mp4.\n",
      "MoviePy - Writing audio in 082_unedited_resizedTEMP_MPY_wvf_snd.mp3\n"
     ]
    },
    {
     "name": "stderr",
     "output_type": "stream",
     "text": [
      "                                                                    \r"
     ]
    },
    {
     "name": "stdout",
     "output_type": "stream",
     "text": [
      "MoviePy - Done.\n",
      "Moviepy - Writing video resized_Videos/082_unedited_resized.mp4\n",
      "\n"
     ]
    },
    {
     "name": "stderr",
     "output_type": "stream",
     "text": [
      "                                                               \r"
     ]
    },
    {
     "name": "stdout",
     "output_type": "stream",
     "text": [
      "Moviepy - Done !\n",
      "Moviepy - video ready resized_Videos/082_unedited_resized.mp4\n",
      "Videos/083_unedited.mp4\n",
      "<moviepy.video.io.VideoFileClip.VideoFileClip object at 0x0000022D61450490>\n",
      "Moviepy - Building video resized_Videos/083_unedited_resized.mp4.\n",
      "Moviepy - Writing video resized_Videos/083_unedited_resized.mp4\n",
      "\n"
     ]
    },
    {
     "name": "stderr",
     "output_type": "stream",
     "text": [
      "                                                               \r"
     ]
    },
    {
     "name": "stdout",
     "output_type": "stream",
     "text": [
      "Moviepy - Done !\n",
      "Moviepy - video ready resized_Videos/083_unedited_resized.mp4\n",
      "Videos/084_unedited.mp4\n",
      "<moviepy.video.io.VideoFileClip.VideoFileClip object at 0x0000022D614504C0>\n",
      "Moviepy - Building video resized_Videos/084_unedited_resized.mp4.\n",
      "MoviePy - Writing audio in 084_unedited_resizedTEMP_MPY_wvf_snd.mp3\n"
     ]
    },
    {
     "name": "stderr",
     "output_type": "stream",
     "text": [
      "                                                                    \r"
     ]
    },
    {
     "name": "stdout",
     "output_type": "stream",
     "text": [
      "MoviePy - Done.\n",
      "Moviepy - Writing video resized_Videos/084_unedited_resized.mp4\n",
      "\n"
     ]
    },
    {
     "name": "stderr",
     "output_type": "stream",
     "text": [
      "                                                              \r"
     ]
    },
    {
     "name": "stdout",
     "output_type": "stream",
     "text": [
      "Moviepy - Done !\n",
      "Moviepy - video ready resized_Videos/084_unedited_resized.mp4\n",
      "Videos/085_unedited.mp4\n",
      "<moviepy.video.io.VideoFileClip.VideoFileClip object at 0x0000022D614503D0>\n",
      "Moviepy - Building video resized_Videos/085_unedited_resized.mp4.\n",
      "MoviePy - Writing audio in 085_unedited_resizedTEMP_MPY_wvf_snd.mp3\n"
     ]
    },
    {
     "name": "stderr",
     "output_type": "stream",
     "text": [
      "                                                                    \r"
     ]
    },
    {
     "name": "stdout",
     "output_type": "stream",
     "text": [
      "MoviePy - Done.\n",
      "Moviepy - Writing video resized_Videos/085_unedited_resized.mp4\n",
      "\n"
     ]
    },
    {
     "name": "stderr",
     "output_type": "stream",
     "text": [
      "                                                               \r"
     ]
    },
    {
     "name": "stdout",
     "output_type": "stream",
     "text": [
      "Moviepy - Done !\n",
      "Moviepy - video ready resized_Videos/085_unedited_resized.mp4\n",
      "Videos/086_unedited.mp4\n",
      "<moviepy.video.io.VideoFileClip.VideoFileClip object at 0x0000022D61450A30>\n",
      "Moviepy - Building video resized_Videos/086_unedited_resized.mp4.\n",
      "MoviePy - Writing audio in 086_unedited_resizedTEMP_MPY_wvf_snd.mp3\n"
     ]
    },
    {
     "name": "stderr",
     "output_type": "stream",
     "text": [
      "                                                        \r"
     ]
    },
    {
     "name": "stdout",
     "output_type": "stream",
     "text": [
      "MoviePy - Done.\n",
      "Moviepy - Writing video resized_Videos/086_unedited_resized.mp4\n",
      "\n"
     ]
    },
    {
     "name": "stderr",
     "output_type": "stream",
     "text": [
      "                                                               \r"
     ]
    },
    {
     "name": "stdout",
     "output_type": "stream",
     "text": [
      "Moviepy - Done !\n",
      "Moviepy - video ready resized_Videos/086_unedited_resized.mp4\n",
      "Videos/087_unedited.mp4\n",
      "<moviepy.video.io.VideoFileClip.VideoFileClip object at 0x0000022D60DB7E80>\n",
      "Moviepy - Building video resized_Videos/087_unedited_resized.mp4.\n",
      "MoviePy - Writing audio in 087_unedited_resizedTEMP_MPY_wvf_snd.mp3\n"
     ]
    },
    {
     "name": "stderr",
     "output_type": "stream",
     "text": [
      "                                                                    \r"
     ]
    },
    {
     "name": "stdout",
     "output_type": "stream",
     "text": [
      "MoviePy - Done.\n",
      "Moviepy - Writing video resized_Videos/087_unedited_resized.mp4\n",
      "\n"
     ]
    },
    {
     "name": "stderr",
     "output_type": "stream",
     "text": [
      "                                                              \r"
     ]
    },
    {
     "name": "stdout",
     "output_type": "stream",
     "text": [
      "Moviepy - Done !\n",
      "Moviepy - video ready resized_Videos/087_unedited_resized.mp4\n",
      "Videos/088_unedited.mp4\n",
      "<moviepy.video.io.VideoFileClip.VideoFileClip object at 0x0000022D60DB7DC0>\n",
      "Moviepy - Building video resized_Videos/088_unedited_resized.mp4.\n",
      "MoviePy - Writing audio in 088_unedited_resizedTEMP_MPY_wvf_snd.mp3\n"
     ]
    },
    {
     "name": "stderr",
     "output_type": "stream",
     "text": [
      "                                                       \r"
     ]
    },
    {
     "name": "stdout",
     "output_type": "stream",
     "text": [
      "MoviePy - Done.\n",
      "Moviepy - Writing video resized_Videos/088_unedited_resized.mp4\n",
      "\n"
     ]
    },
    {
     "name": "stderr",
     "output_type": "stream",
     "text": [
      "                                                             \r"
     ]
    },
    {
     "name": "stdout",
     "output_type": "stream",
     "text": [
      "Moviepy - Done !\n",
      "Moviepy - video ready resized_Videos/088_unedited_resized.mp4\n",
      "Videos/089_unedited.mp4\n",
      "<moviepy.video.io.VideoFileClip.VideoFileClip object at 0x0000022D60DB6F20>\n",
      "Moviepy - Building video resized_Videos/089_unedited_resized.mp4.\n",
      "MoviePy - Writing audio in 089_unedited_resizedTEMP_MPY_wvf_snd.mp3\n"
     ]
    },
    {
     "name": "stderr",
     "output_type": "stream",
     "text": [
      "                                                                    \r"
     ]
    },
    {
     "name": "stdout",
     "output_type": "stream",
     "text": [
      "MoviePy - Done.\n",
      "Moviepy - Writing video resized_Videos/089_unedited_resized.mp4\n",
      "\n"
     ]
    },
    {
     "name": "stderr",
     "output_type": "stream",
     "text": [
      "                                                              \r"
     ]
    },
    {
     "name": "stdout",
     "output_type": "stream",
     "text": [
      "Moviepy - Done !\n",
      "Moviepy - video ready resized_Videos/089_unedited_resized.mp4\n",
      "Videos/090_unedited.mp4\n",
      "<moviepy.video.io.VideoFileClip.VideoFileClip object at 0x0000022D60DB64A0>\n",
      "Moviepy - Building video resized_Videos/090_unedited_resized.mp4.\n",
      "MoviePy - Writing audio in 090_unedited_resizedTEMP_MPY_wvf_snd.mp3\n"
     ]
    },
    {
     "name": "stderr",
     "output_type": "stream",
     "text": [
      "                                                                    \r"
     ]
    },
    {
     "name": "stdout",
     "output_type": "stream",
     "text": [
      "MoviePy - Done.\n",
      "Moviepy - Writing video resized_Videos/090_unedited_resized.mp4\n",
      "\n"
     ]
    },
    {
     "name": "stderr",
     "output_type": "stream",
     "text": [
      "                                                              \r"
     ]
    },
    {
     "name": "stdout",
     "output_type": "stream",
     "text": [
      "Moviepy - Done !\n",
      "Moviepy - video ready resized_Videos/090_unedited_resized.mp4\n",
      "Videos/091_unedited.mp4\n",
      "<moviepy.video.io.VideoFileClip.VideoFileClip object at 0x0000022D60DB7790>\n",
      "Moviepy - Building video resized_Videos/091_unedited_resized.mp4.\n",
      "MoviePy - Writing audio in 091_unedited_resizedTEMP_MPY_wvf_snd.mp3\n"
     ]
    },
    {
     "name": "stderr",
     "output_type": "stream",
     "text": [
      "                                                       \r"
     ]
    },
    {
     "name": "stdout",
     "output_type": "stream",
     "text": [
      "MoviePy - Done.\n",
      "Moviepy - Writing video resized_Videos/091_unedited_resized.mp4\n",
      "\n"
     ]
    },
    {
     "name": "stderr",
     "output_type": "stream",
     "text": [
      "                                                             \r"
     ]
    },
    {
     "name": "stdout",
     "output_type": "stream",
     "text": [
      "Moviepy - Done !\n",
      "Moviepy - video ready resized_Videos/091_unedited_resized.mp4\n",
      "Videos/092_unedited.mp4\n",
      "<moviepy.video.io.VideoFileClip.VideoFileClip object at 0x0000022D60DB6410>\n",
      "Moviepy - Building video resized_Videos/092_unedited_resized.mp4.\n",
      "Moviepy - Writing video resized_Videos/092_unedited_resized.mp4\n",
      "\n"
     ]
    },
    {
     "name": "stderr",
     "output_type": "stream",
     "text": [
      "                                                               \r"
     ]
    },
    {
     "name": "stdout",
     "output_type": "stream",
     "text": [
      "Moviepy - Done !\n",
      "Moviepy - video ready resized_Videos/092_unedited_resized.mp4\n",
      "Videos/093_unedited.mp4\n",
      "<moviepy.video.io.VideoFileClip.VideoFileClip object at 0x0000022D60DB7D30>\n",
      "Moviepy - Building video resized_Videos/093_unedited_resized.mp4.\n",
      "MoviePy - Writing audio in 093_unedited_resizedTEMP_MPY_wvf_snd.mp3\n"
     ]
    },
    {
     "name": "stderr",
     "output_type": "stream",
     "text": [
      "                                                                    \r"
     ]
    },
    {
     "name": "stdout",
     "output_type": "stream",
     "text": [
      "MoviePy - Done.\n",
      "Moviepy - Writing video resized_Videos/093_unedited_resized.mp4\n",
      "\n"
     ]
    },
    {
     "name": "stderr",
     "output_type": "stream",
     "text": [
      "                                                               \r"
     ]
    },
    {
     "name": "stdout",
     "output_type": "stream",
     "text": [
      "Moviepy - Done !\n",
      "Moviepy - video ready resized_Videos/093_unedited_resized.mp4\n",
      "Videos/094_unedited.mp4\n",
      "<moviepy.video.io.VideoFileClip.VideoFileClip object at 0x0000022D60DB7FA0>\n",
      "Moviepy - Building video resized_Videos/094_unedited_resized.mp4.\n",
      "MoviePy - Writing audio in 094_unedited_resizedTEMP_MPY_wvf_snd.mp3\n"
     ]
    },
    {
     "name": "stderr",
     "output_type": "stream",
     "text": [
      "                                                                    \r"
     ]
    },
    {
     "name": "stdout",
     "output_type": "stream",
     "text": [
      "MoviePy - Done.\n",
      "Moviepy - Writing video resized_Videos/094_unedited_resized.mp4\n",
      "\n"
     ]
    },
    {
     "name": "stderr",
     "output_type": "stream",
     "text": [
      "                                                              \r"
     ]
    },
    {
     "name": "stdout",
     "output_type": "stream",
     "text": [
      "Moviepy - Done !\n",
      "Moviepy - video ready resized_Videos/094_unedited_resized.mp4\n",
      "Videos/095_unedited.mp4\n",
      "<moviepy.video.io.VideoFileClip.VideoFileClip object at 0x0000022D60DB61D0>\n",
      "Moviepy - Building video resized_Videos/095_unedited_resized.mp4.\n",
      "MoviePy - Writing audio in 095_unedited_resizedTEMP_MPY_wvf_snd.mp3\n"
     ]
    },
    {
     "name": "stderr",
     "output_type": "stream",
     "text": [
      "                                                        \r"
     ]
    },
    {
     "name": "stdout",
     "output_type": "stream",
     "text": [
      "MoviePy - Done.\n",
      "Moviepy - Writing video resized_Videos/095_unedited_resized.mp4\n",
      "\n"
     ]
    },
    {
     "name": "stderr",
     "output_type": "stream",
     "text": [
      "                                                               \r"
     ]
    },
    {
     "name": "stdout",
     "output_type": "stream",
     "text": [
      "Moviepy - Done !\n",
      "Moviepy - video ready resized_Videos/095_unedited_resized.mp4\n",
      "Videos/096_unedited.mp4\n",
      "<moviepy.video.io.VideoFileClip.VideoFileClip object at 0x0000022D60DB70A0>\n",
      "Moviepy - Building video resized_Videos/096_unedited_resized.mp4.\n",
      "MoviePy - Writing audio in 096_unedited_resizedTEMP_MPY_wvf_snd.mp3\n"
     ]
    },
    {
     "name": "stderr",
     "output_type": "stream",
     "text": [
      "                                                        \r"
     ]
    },
    {
     "name": "stdout",
     "output_type": "stream",
     "text": [
      "MoviePy - Done.\n",
      "Moviepy - Writing video resized_Videos/096_unedited_resized.mp4\n",
      "\n"
     ]
    },
    {
     "name": "stderr",
     "output_type": "stream",
     "text": [
      "                                                               \r"
     ]
    },
    {
     "name": "stdout",
     "output_type": "stream",
     "text": [
      "Moviepy - Done !\n",
      "Moviepy - video ready resized_Videos/096_unedited_resized.mp4\n",
      "Videos/097_unedited.mp4\n",
      "<moviepy.video.io.VideoFileClip.VideoFileClip object at 0x0000022D60DB6770>\n",
      "Moviepy - Building video resized_Videos/097_unedited_resized.mp4.\n",
      "MoviePy - Writing audio in 097_unedited_resizedTEMP_MPY_wvf_snd.mp3\n"
     ]
    },
    {
     "name": "stderr",
     "output_type": "stream",
     "text": [
      "                                                                    \r"
     ]
    },
    {
     "name": "stdout",
     "output_type": "stream",
     "text": [
      "MoviePy - Done.\n",
      "Moviepy - Writing video resized_Videos/097_unedited_resized.mp4\n",
      "\n"
     ]
    },
    {
     "name": "stderr",
     "output_type": "stream",
     "text": [
      "                                                               \r"
     ]
    },
    {
     "name": "stdout",
     "output_type": "stream",
     "text": [
      "Moviepy - Done !\n",
      "Moviepy - video ready resized_Videos/097_unedited_resized.mp4\n",
      "Videos/098_unedited.mp4\n",
      "<moviepy.video.io.VideoFileClip.VideoFileClip object at 0x0000022D60DB7880>\n",
      "Moviepy - Building video resized_Videos/098_unedited_resized.mp4.\n",
      "MoviePy - Writing audio in 098_unedited_resizedTEMP_MPY_wvf_snd.mp3\n"
     ]
    },
    {
     "name": "stderr",
     "output_type": "stream",
     "text": [
      "                                                                    \r"
     ]
    },
    {
     "name": "stdout",
     "output_type": "stream",
     "text": [
      "MoviePy - Done.\n",
      "Moviepy - Writing video resized_Videos/098_unedited_resized.mp4\n",
      "\n"
     ]
    },
    {
     "name": "stderr",
     "output_type": "stream",
     "text": [
      "                                                              \r"
     ]
    },
    {
     "name": "stdout",
     "output_type": "stream",
     "text": [
      "Moviepy - Done !\n",
      "Moviepy - video ready resized_Videos/098_unedited_resized.mp4\n",
      "Videos/099_unedited.mp4\n",
      "<moviepy.video.io.VideoFileClip.VideoFileClip object at 0x0000022D614504C0>\n",
      "Moviepy - Building video resized_Videos/099_unedited_resized.mp4.\n",
      "MoviePy - Writing audio in 099_unedited_resizedTEMP_MPY_wvf_snd.mp3\n"
     ]
    },
    {
     "name": "stderr",
     "output_type": "stream",
     "text": [
      "                                                                    \r"
     ]
    },
    {
     "name": "stdout",
     "output_type": "stream",
     "text": [
      "MoviePy - Done.\n",
      "Moviepy - Writing video resized_Videos/099_unedited_resized.mp4\n",
      "\n"
     ]
    },
    {
     "name": "stderr",
     "output_type": "stream",
     "text": [
      "                                                               \r"
     ]
    },
    {
     "name": "stdout",
     "output_type": "stream",
     "text": [
      "Moviepy - Done !\n",
      "Moviepy - video ready resized_Videos/099_unedited_resized.mp4\n",
      "Videos/1002_unedited.mp4\n",
      "<moviepy.video.io.VideoFileClip.VideoFileClip object at 0x0000022D61450B50>\n",
      "Moviepy - Building video resized_Videos/1002_unedited_resized.mp4.\n",
      "MoviePy - Writing audio in 1002_unedited_resizedTEMP_MPY_wvf_snd.mp3\n"
     ]
    },
    {
     "name": "stderr",
     "output_type": "stream",
     "text": [
      "                                                       \r"
     ]
    },
    {
     "name": "stdout",
     "output_type": "stream",
     "text": [
      "MoviePy - Done.\n",
      "Moviepy - Writing video resized_Videos/1002_unedited_resized.mp4\n",
      "\n"
     ]
    },
    {
     "name": "stderr",
     "output_type": "stream",
     "text": [
      "                                                            \r"
     ]
    },
    {
     "name": "stdout",
     "output_type": "stream",
     "text": [
      "Moviepy - Done !\n",
      "Moviepy - video ready resized_Videos/1002_unedited_resized.mp4\n",
      "Videos/1003_unedited.mp4\n",
      "<moviepy.video.io.VideoFileClip.VideoFileClip object at 0x0000022D61450D30>\n",
      "Moviepy - Building video resized_Videos/1003_unedited_resized.mp4.\n",
      "MoviePy - Writing audio in 1003_unedited_resizedTEMP_MPY_wvf_snd.mp3\n"
     ]
    },
    {
     "name": "stderr",
     "output_type": "stream",
     "text": [
      "                                                                  \r"
     ]
    },
    {
     "name": "stdout",
     "output_type": "stream",
     "text": [
      "MoviePy - Done.\n",
      "Moviepy - Writing video resized_Videos/1003_unedited_resized.mp4\n",
      "\n"
     ]
    },
    {
     "name": "stderr",
     "output_type": "stream",
     "text": [
      "                                                               \r"
     ]
    },
    {
     "name": "stdout",
     "output_type": "stream",
     "text": [
      "Moviepy - Done !\n",
      "Moviepy - video ready resized_Videos/1003_unedited_resized.mp4\n",
      "Videos/1004_unedited.mp4\n",
      "<moviepy.video.io.VideoFileClip.VideoFileClip object at 0x0000022D61450D60>\n",
      "Moviepy - Building video resized_Videos/1004_unedited_resized.mp4.\n",
      "MoviePy - Writing audio in 1004_unedited_resizedTEMP_MPY_wvf_snd.mp3\n"
     ]
    },
    {
     "name": "stderr",
     "output_type": "stream",
     "text": [
      "                                                                      \r"
     ]
    },
    {
     "name": "stdout",
     "output_type": "stream",
     "text": [
      "MoviePy - Done.\n",
      "Moviepy - Writing video resized_Videos/1004_unedited_resized.mp4\n",
      "\n"
     ]
    },
    {
     "name": "stderr",
     "output_type": "stream",
     "text": [
      "                                                                 \r"
     ]
    },
    {
     "name": "stdout",
     "output_type": "stream",
     "text": [
      "Moviepy - Done !\n",
      "Moviepy - video ready resized_Videos/1004_unedited_resized.mp4\n",
      "Videos/1005_unedited.mp4\n",
      "<moviepy.video.io.VideoFileClip.VideoFileClip object at 0x0000022D614509A0>\n",
      "Moviepy - Building video resized_Videos/1005_unedited_resized.mp4.\n",
      "MoviePy - Writing audio in 1005_unedited_resizedTEMP_MPY_wvf_snd.mp3\n"
     ]
    },
    {
     "name": "stderr",
     "output_type": "stream",
     "text": [
      "                                                        \r"
     ]
    },
    {
     "name": "stdout",
     "output_type": "stream",
     "text": [
      "MoviePy - Done.\n",
      "Moviepy - Writing video resized_Videos/1005_unedited_resized.mp4\n",
      "\n"
     ]
    },
    {
     "name": "stderr",
     "output_type": "stream",
     "text": [
      "                                                               \r"
     ]
    },
    {
     "name": "stdout",
     "output_type": "stream",
     "text": [
      "Moviepy - Done !\n",
      "Moviepy - video ready resized_Videos/1005_unedited_resized.mp4\n",
      "Videos/1006_unedited.mp4\n",
      "<moviepy.video.io.VideoFileClip.VideoFileClip object at 0x0000022D60DB75E0>\n",
      "Moviepy - Building video resized_Videos/1006_unedited_resized.mp4.\n",
      "MoviePy - Writing audio in 1006_unedited_resizedTEMP_MPY_wvf_snd.mp3\n"
     ]
    },
    {
     "name": "stderr",
     "output_type": "stream",
     "text": [
      "                                                                    \r"
     ]
    },
    {
     "name": "stdout",
     "output_type": "stream",
     "text": [
      "MoviePy - Done.\n",
      "Moviepy - Writing video resized_Videos/1006_unedited_resized.mp4\n",
      "\n"
     ]
    },
    {
     "name": "stderr",
     "output_type": "stream",
     "text": [
      "                                                               \r"
     ]
    },
    {
     "name": "stdout",
     "output_type": "stream",
     "text": [
      "Moviepy - Done !\n",
      "Moviepy - video ready resized_Videos/1006_unedited_resized.mp4\n",
      "Videos/1007_unedited.mp4\n",
      "<moviepy.video.io.VideoFileClip.VideoFileClip object at 0x0000022D60DB6830>\n",
      "Moviepy - Building video resized_Videos/1007_unedited_resized.mp4.\n",
      "MoviePy - Writing audio in 1007_unedited_resizedTEMP_MPY_wvf_snd.mp3\n"
     ]
    },
    {
     "name": "stderr",
     "output_type": "stream",
     "text": [
      "                                                                    \r"
     ]
    },
    {
     "name": "stdout",
     "output_type": "stream",
     "text": [
      "MoviePy - Done.\n",
      "Moviepy - Writing video resized_Videos/1007_unedited_resized.mp4\n",
      "\n"
     ]
    },
    {
     "name": "stderr",
     "output_type": "stream",
     "text": [
      "                                                               \r"
     ]
    },
    {
     "name": "stdout",
     "output_type": "stream",
     "text": [
      "Moviepy - Done !\n",
      "Moviepy - video ready resized_Videos/1007_unedited_resized.mp4\n",
      "Videos/1008_unedited.mp4\n",
      "<moviepy.video.io.VideoFileClip.VideoFileClip object at 0x0000022D60DB6950>\n",
      "Moviepy - Building video resized_Videos/1008_unedited_resized.mp4.\n",
      "MoviePy - Writing audio in 1008_unedited_resizedTEMP_MPY_wvf_snd.mp3\n"
     ]
    },
    {
     "name": "stderr",
     "output_type": "stream",
     "text": [
      "                                                       \r"
     ]
    },
    {
     "name": "stdout",
     "output_type": "stream",
     "text": [
      "MoviePy - Done.\n",
      "Moviepy - Writing video resized_Videos/1008_unedited_resized.mp4\n",
      "\n"
     ]
    },
    {
     "name": "stderr",
     "output_type": "stream",
     "text": [
      "                                                              \r"
     ]
    },
    {
     "name": "stdout",
     "output_type": "stream",
     "text": [
      "Moviepy - Done !\n",
      "Moviepy - video ready resized_Videos/1008_unedited_resized.mp4\n",
      "Videos/1009_unedited.mp4\n",
      "<moviepy.video.io.VideoFileClip.VideoFileClip object at 0x0000022D60DB7280>\n",
      "Moviepy - Building video resized_Videos/1009_unedited_resized.mp4.\n",
      "MoviePy - Writing audio in 1009_unedited_resizedTEMP_MPY_wvf_snd.mp3\n"
     ]
    },
    {
     "name": "stderr",
     "output_type": "stream",
     "text": [
      "                                                       \r"
     ]
    },
    {
     "name": "stdout",
     "output_type": "stream",
     "text": [
      "MoviePy - Done.\n",
      "Moviepy - Writing video resized_Videos/1009_unedited_resized.mp4\n",
      "\n"
     ]
    },
    {
     "name": "stderr",
     "output_type": "stream",
     "text": [
      "                                                               \r"
     ]
    },
    {
     "name": "stdout",
     "output_type": "stream",
     "text": [
      "Moviepy - Done !\n",
      "Moviepy - video ready resized_Videos/1009_unedited_resized.mp4\n",
      "Videos/100_unedited.mp4\n",
      "<moviepy.video.io.VideoFileClip.VideoFileClip object at 0x0000022D60DB7D90>\n",
      "Moviepy - Building video resized_Videos/100_unedited_resized.mp4.\n",
      "MoviePy - Writing audio in 100_unedited_resizedTEMP_MPY_wvf_snd.mp3\n"
     ]
    },
    {
     "name": "stderr",
     "output_type": "stream",
     "text": [
      "                                                                  "
     ]
    },
    {
     "name": "stdout",
     "output_type": "stream",
     "text": [
      "MoviePy - Done.\n",
      "Moviepy - Writing video resized_Videos/100_unedited_resized.mp4\n",
      "\n"
     ]
    },
    {
     "name": "stderr",
     "output_type": "stream",
     "text": [
      "                                                               \r"
     ]
    },
    {
     "name": "stdout",
     "output_type": "stream",
     "text": [
      "Moviepy - Done !\n",
      "Moviepy - video ready resized_Videos/100_unedited_resized.mp4\n",
      "Videos/1010_unedited.mp4\n",
      "<moviepy.video.io.VideoFileClip.VideoFileClip object at 0x0000022D60DB7BB0>\n",
      "Moviepy - Building video resized_Videos/1010_unedited_resized.mp4.\n",
      "MoviePy - Writing audio in 1010_unedited_resizedTEMP_MPY_wvf_snd.mp3\n"
     ]
    },
    {
     "name": "stderr",
     "output_type": "stream",
     "text": [
      "                                                       \r"
     ]
    },
    {
     "name": "stdout",
     "output_type": "stream",
     "text": [
      "MoviePy - Done.\n",
      "Moviepy - Writing video resized_Videos/1010_unedited_resized.mp4\n",
      "\n"
     ]
    },
    {
     "name": "stderr",
     "output_type": "stream",
     "text": [
      "                                                             \r"
     ]
    },
    {
     "name": "stdout",
     "output_type": "stream",
     "text": [
      "Moviepy - Done !\n",
      "Moviepy - video ready resized_Videos/1010_unedited_resized.mp4\n",
      "Videos/1011_unedited.mp4\n",
      "<moviepy.video.io.VideoFileClip.VideoFileClip object at 0x0000022D60DB6E60>\n",
      "Moviepy - Building video resized_Videos/1011_unedited_resized.mp4.\n",
      "MoviePy - Writing audio in 1011_unedited_resizedTEMP_MPY_wvf_snd.mp3\n"
     ]
    },
    {
     "name": "stderr",
     "output_type": "stream",
     "text": [
      "                                                       \r"
     ]
    },
    {
     "name": "stdout",
     "output_type": "stream",
     "text": [
      "MoviePy - Done.\n",
      "Moviepy - Writing video resized_Videos/1011_unedited_resized.mp4\n",
      "\n"
     ]
    },
    {
     "name": "stderr",
     "output_type": "stream",
     "text": [
      "                                                             \r"
     ]
    },
    {
     "name": "stdout",
     "output_type": "stream",
     "text": [
      "Moviepy - Done !\n",
      "Moviepy - video ready resized_Videos/1011_unedited_resized.mp4\n",
      "Videos/1012_unedited.mp4\n",
      "<moviepy.video.io.VideoFileClip.VideoFileClip object at 0x0000022D60DB6D10>\n",
      "Moviepy - Building video resized_Videos/1012_unedited_resized.mp4.\n",
      "MoviePy - Writing audio in 1012_unedited_resizedTEMP_MPY_wvf_snd.mp3\n"
     ]
    },
    {
     "name": "stderr",
     "output_type": "stream",
     "text": [
      "                                                       \r"
     ]
    },
    {
     "name": "stdout",
     "output_type": "stream",
     "text": [
      "MoviePy - Done.\n",
      "Moviepy - Writing video resized_Videos/1012_unedited_resized.mp4\n",
      "\n"
     ]
    },
    {
     "name": "stderr",
     "output_type": "stream",
     "text": [
      "                                                             \r"
     ]
    },
    {
     "name": "stdout",
     "output_type": "stream",
     "text": [
      "Moviepy - Done !\n",
      "Moviepy - video ready resized_Videos/1012_unedited_resized.mp4\n",
      "Videos/1013_unedited.mp4\n",
      "<moviepy.video.io.VideoFileClip.VideoFileClip object at 0x0000022D60DB7EE0>\n",
      "Moviepy - Building video resized_Videos/1013_unedited_resized.mp4.\n",
      "MoviePy - Writing audio in 1013_unedited_resizedTEMP_MPY_wvf_snd.mp3\n"
     ]
    },
    {
     "name": "stderr",
     "output_type": "stream",
     "text": [
      "                                                        \r"
     ]
    },
    {
     "name": "stdout",
     "output_type": "stream",
     "text": [
      "MoviePy - Done.\n",
      "Moviepy - Writing video resized_Videos/1013_unedited_resized.mp4\n",
      "\n"
     ]
    },
    {
     "name": "stderr",
     "output_type": "stream",
     "text": [
      "                                                               \r"
     ]
    },
    {
     "name": "stdout",
     "output_type": "stream",
     "text": [
      "Moviepy - Done !\n",
      "Moviepy - video ready resized_Videos/1013_unedited_resized.mp4\n",
      "Videos/1014_unedited.mp4\n",
      "<moviepy.video.io.VideoFileClip.VideoFileClip object at 0x0000022D60DB6470>\n",
      "Moviepy - Building video resized_Videos/1014_unedited_resized.mp4.\n",
      "MoviePy - Writing audio in 1014_unedited_resizedTEMP_MPY_wvf_snd.mp3\n"
     ]
    },
    {
     "name": "stderr",
     "output_type": "stream",
     "text": [
      "                                                                   \r"
     ]
    },
    {
     "name": "stdout",
     "output_type": "stream",
     "text": [
      "MoviePy - Done.\n",
      "Moviepy - Writing video resized_Videos/1014_unedited_resized.mp4\n",
      "\n"
     ]
    },
    {
     "name": "stderr",
     "output_type": "stream",
     "text": [
      "                                                               \r"
     ]
    },
    {
     "name": "stdout",
     "output_type": "stream",
     "text": [
      "Moviepy - Done !\n",
      "Moviepy - video ready resized_Videos/1014_unedited_resized.mp4\n",
      "Videos/1015_unedited.mp4\n",
      "<moviepy.video.io.VideoFileClip.VideoFileClip object at 0x0000022D60DB6AA0>\n",
      "Moviepy - Building video resized_Videos/1015_unedited_resized.mp4.\n",
      "MoviePy - Writing audio in 1015_unedited_resizedTEMP_MPY_wvf_snd.mp3\n"
     ]
    },
    {
     "name": "stderr",
     "output_type": "stream",
     "text": [
      "                                                       \r"
     ]
    },
    {
     "name": "stdout",
     "output_type": "stream",
     "text": [
      "MoviePy - Done.\n",
      "Moviepy - Writing video resized_Videos/1015_unedited_resized.mp4\n",
      "\n"
     ]
    },
    {
     "name": "stderr",
     "output_type": "stream",
     "text": [
      "                                                            \r"
     ]
    },
    {
     "name": "stdout",
     "output_type": "stream",
     "text": [
      "Moviepy - Done !\n",
      "Moviepy - video ready resized_Videos/1015_unedited_resized.mp4\n",
      "Videos/1016_unedited.mp4\n",
      "<moviepy.video.io.VideoFileClip.VideoFileClip object at 0x0000022D61450340>\n",
      "Moviepy - Building video resized_Videos/1016_unedited_resized.mp4.\n",
      "MoviePy - Writing audio in 1016_unedited_resizedTEMP_MPY_wvf_snd.mp3\n"
     ]
    },
    {
     "name": "stderr",
     "output_type": "stream",
     "text": [
      "                                                       \r"
     ]
    },
    {
     "name": "stdout",
     "output_type": "stream",
     "text": [
      "MoviePy - Done.\n",
      "Moviepy - Writing video resized_Videos/1016_unedited_resized.mp4\n",
      "\n"
     ]
    },
    {
     "name": "stderr",
     "output_type": "stream",
     "text": [
      "                                                             \r"
     ]
    },
    {
     "name": "stdout",
     "output_type": "stream",
     "text": [
      "Moviepy - Done !\n",
      "Moviepy - video ready resized_Videos/1016_unedited_resized.mp4\n",
      "Videos/1017_unedited.mp4\n",
      "<moviepy.video.io.VideoFileClip.VideoFileClip object at 0x0000022D61450850>\n",
      "Moviepy - Building video resized_Videos/1017_unedited_resized.mp4.\n",
      "MoviePy - Writing audio in 1017_unedited_resizedTEMP_MPY_wvf_snd.mp3\n"
     ]
    },
    {
     "name": "stderr",
     "output_type": "stream",
     "text": [
      "                                                                    \r"
     ]
    },
    {
     "name": "stdout",
     "output_type": "stream",
     "text": [
      "MoviePy - Done.\n",
      "Moviepy - Writing video resized_Videos/1017_unedited_resized.mp4\n",
      "\n"
     ]
    },
    {
     "name": "stderr",
     "output_type": "stream",
     "text": [
      "                                                               \r"
     ]
    },
    {
     "name": "stdout",
     "output_type": "stream",
     "text": [
      "Moviepy - Done !\n",
      "Moviepy - video ready resized_Videos/1017_unedited_resized.mp4\n",
      "Videos/1018_unedited.mp4\n",
      "<moviepy.video.io.VideoFileClip.VideoFileClip object at 0x0000022D614509A0>\n",
      "Moviepy - Building video resized_Videos/1018_unedited_resized.mp4.\n",
      "MoviePy - Writing audio in 1018_unedited_resizedTEMP_MPY_wvf_snd.mp3\n"
     ]
    },
    {
     "name": "stderr",
     "output_type": "stream",
     "text": [
      "                                                        \r"
     ]
    },
    {
     "name": "stdout",
     "output_type": "stream",
     "text": [
      "MoviePy - Done.\n",
      "Moviepy - Writing video resized_Videos/1018_unedited_resized.mp4\n",
      "\n"
     ]
    },
    {
     "name": "stderr",
     "output_type": "stream",
     "text": [
      "                                                               \r"
     ]
    },
    {
     "name": "stdout",
     "output_type": "stream",
     "text": [
      "Moviepy - Done !\n",
      "Moviepy - video ready resized_Videos/1018_unedited_resized.mp4\n",
      "Videos/1019_unedited.mp4\n",
      "<moviepy.video.io.VideoFileClip.VideoFileClip object at 0x0000022D61450D90>\n",
      "Moviepy - Building video resized_Videos/1019_unedited_resized.mp4.\n",
      "MoviePy - Writing audio in 1019_unedited_resizedTEMP_MPY_wvf_snd.mp3\n"
     ]
    },
    {
     "name": "stderr",
     "output_type": "stream",
     "text": [
      "                                                       \r"
     ]
    },
    {
     "name": "stdout",
     "output_type": "stream",
     "text": [
      "MoviePy - Done.\n",
      "Moviepy - Writing video resized_Videos/1019_unedited_resized.mp4\n",
      "\n"
     ]
    },
    {
     "name": "stderr",
     "output_type": "stream",
     "text": [
      "                                                               \r"
     ]
    },
    {
     "name": "stdout",
     "output_type": "stream",
     "text": [
      "Moviepy - Done !\n",
      "Moviepy - video ready resized_Videos/1019_unedited_resized.mp4\n",
      "Videos/101_unedited.mp4\n",
      "<moviepy.video.io.VideoFileClip.VideoFileClip object at 0x0000022D61450040>\n",
      "Moviepy - Building video resized_Videos/101_unedited_resized.mp4.\n",
      "MoviePy - Writing audio in 101_unedited_resizedTEMP_MPY_wvf_snd.mp3\n"
     ]
    },
    {
     "name": "stderr",
     "output_type": "stream",
     "text": [
      "                                                                    \r"
     ]
    },
    {
     "name": "stdout",
     "output_type": "stream",
     "text": [
      "MoviePy - Done.\n",
      "Moviepy - Writing video resized_Videos/101_unedited_resized.mp4\n",
      "\n"
     ]
    },
    {
     "name": "stderr",
     "output_type": "stream",
     "text": [
      "                                                              \r"
     ]
    },
    {
     "name": "stdout",
     "output_type": "stream",
     "text": [
      "Moviepy - Done !\n",
      "Moviepy - video ready resized_Videos/101_unedited_resized.mp4\n",
      "Videos/1020_unedited.mp4\n",
      "<moviepy.video.io.VideoFileClip.VideoFileClip object at 0x0000022D60DB6AA0>\n",
      "Moviepy - Building video resized_Videos/1020_unedited_resized.mp4.\n",
      "MoviePy - Writing audio in 1020_unedited_resizedTEMP_MPY_wvf_snd.mp3\n"
     ]
    },
    {
     "name": "stderr",
     "output_type": "stream",
     "text": [
      "                                                                   \r"
     ]
    },
    {
     "name": "stdout",
     "output_type": "stream",
     "text": [
      "MoviePy - Done.\n",
      "Moviepy - Writing video resized_Videos/1020_unedited_resized.mp4\n",
      "\n"
     ]
    },
    {
     "name": "stderr",
     "output_type": "stream",
     "text": [
      "                                                               \r"
     ]
    },
    {
     "name": "stdout",
     "output_type": "stream",
     "text": [
      "Moviepy - Done !\n",
      "Moviepy - video ready resized_Videos/1020_unedited_resized.mp4\n",
      "Videos/1021_unedited.mp4\n",
      "<moviepy.video.io.VideoFileClip.VideoFileClip object at 0x0000022D60DB7820>\n",
      "Moviepy - Building video resized_Videos/1021_unedited_resized.mp4.\n",
      "MoviePy - Writing audio in 1021_unedited_resizedTEMP_MPY_wvf_snd.mp3\n"
     ]
    },
    {
     "name": "stderr",
     "output_type": "stream",
     "text": [
      "                                                       \r"
     ]
    },
    {
     "name": "stdout",
     "output_type": "stream",
     "text": [
      "MoviePy - Done.\n",
      "Moviepy - Writing video resized_Videos/1021_unedited_resized.mp4\n",
      "\n"
     ]
    },
    {
     "name": "stderr",
     "output_type": "stream",
     "text": [
      "                                                               \r"
     ]
    },
    {
     "name": "stdout",
     "output_type": "stream",
     "text": [
      "Moviepy - Done !\n",
      "Moviepy - video ready resized_Videos/1021_unedited_resized.mp4\n",
      "Videos/1022_unedited.mp4\n",
      "<moviepy.video.io.VideoFileClip.VideoFileClip object at 0x0000022D60DB64A0>\n",
      "Moviepy - Building video resized_Videos/1022_unedited_resized.mp4.\n",
      "MoviePy - Writing audio in 1022_unedited_resizedTEMP_MPY_wvf_snd.mp3\n"
     ]
    },
    {
     "name": "stderr",
     "output_type": "stream",
     "text": [
      "                                                                   \r"
     ]
    },
    {
     "name": "stdout",
     "output_type": "stream",
     "text": [
      "MoviePy - Done.\n",
      "Moviepy - Writing video resized_Videos/1022_unedited_resized.mp4\n",
      "\n"
     ]
    },
    {
     "name": "stderr",
     "output_type": "stream",
     "text": [
      "                                                               \r"
     ]
    },
    {
     "name": "stdout",
     "output_type": "stream",
     "text": [
      "Moviepy - Done !\n",
      "Moviepy - video ready resized_Videos/1022_unedited_resized.mp4\n",
      "Videos/1023_unedited.mp4\n",
      "<moviepy.video.io.VideoFileClip.VideoFileClip object at 0x0000022D60DB7700>\n",
      "Moviepy - Building video resized_Videos/1023_unedited_resized.mp4.\n",
      "MoviePy - Writing audio in 1023_unedited_resizedTEMP_MPY_wvf_snd.mp3\n"
     ]
    },
    {
     "name": "stderr",
     "output_type": "stream",
     "text": [
      "                                                                    \r"
     ]
    },
    {
     "name": "stdout",
     "output_type": "stream",
     "text": [
      "MoviePy - Done.\n",
      "Moviepy - Writing video resized_Videos/1023_unedited_resized.mp4\n",
      "\n"
     ]
    },
    {
     "name": "stderr",
     "output_type": "stream",
     "text": [
      "                                                               \r"
     ]
    },
    {
     "name": "stdout",
     "output_type": "stream",
     "text": [
      "Moviepy - Done !\n",
      "Moviepy - video ready resized_Videos/1023_unedited_resized.mp4\n",
      "Videos/1024_unedited.mp4\n",
      "<moviepy.video.io.VideoFileClip.VideoFileClip object at 0x0000022D60DB7670>\n",
      "Moviepy - Building video resized_Videos/1024_unedited_resized.mp4.\n",
      "MoviePy - Writing audio in 1024_unedited_resizedTEMP_MPY_wvf_snd.mp3\n"
     ]
    },
    {
     "name": "stderr",
     "output_type": "stream",
     "text": [
      "                                                       \r"
     ]
    },
    {
     "name": "stdout",
     "output_type": "stream",
     "text": [
      "MoviePy - Done.\n",
      "Moviepy - Writing video resized_Videos/1024_unedited_resized.mp4\n",
      "\n"
     ]
    },
    {
     "name": "stderr",
     "output_type": "stream",
     "text": [
      "                                                             \r"
     ]
    },
    {
     "name": "stdout",
     "output_type": "stream",
     "text": [
      "Moviepy - Done !\n",
      "Moviepy - video ready resized_Videos/1024_unedited_resized.mp4\n",
      "Videos/1025_unedited.mp4\n",
      "<moviepy.video.io.VideoFileClip.VideoFileClip object at 0x0000022D60DB75E0>\n",
      "Moviepy - Building video resized_Videos/1025_unedited_resized.mp4.\n",
      "MoviePy - Writing audio in 1025_unedited_resizedTEMP_MPY_wvf_snd.mp3\n"
     ]
    },
    {
     "name": "stderr",
     "output_type": "stream",
     "text": [
      "                                                       \r"
     ]
    },
    {
     "name": "stdout",
     "output_type": "stream",
     "text": [
      "MoviePy - Done.\n",
      "Moviepy - Writing video resized_Videos/1025_unedited_resized.mp4\n",
      "\n"
     ]
    },
    {
     "name": "stderr",
     "output_type": "stream",
     "text": [
      "                                                             \r"
     ]
    },
    {
     "name": "stdout",
     "output_type": "stream",
     "text": [
      "Moviepy - Done !\n",
      "Moviepy - video ready resized_Videos/1025_unedited_resized.mp4\n",
      "Videos/1026_unedited.mp4\n",
      "<moviepy.video.io.VideoFileClip.VideoFileClip object at 0x0000022D60DB71C0>\n",
      "Moviepy - Building video resized_Videos/1026_unedited_resized.mp4.\n",
      "MoviePy - Writing audio in 1026_unedited_resizedTEMP_MPY_wvf_snd.mp3\n"
     ]
    },
    {
     "name": "stderr",
     "output_type": "stream",
     "text": [
      "                                                        \r"
     ]
    },
    {
     "name": "stdout",
     "output_type": "stream",
     "text": [
      "MoviePy - Done.\n",
      "Moviepy - Writing video resized_Videos/1026_unedited_resized.mp4\n",
      "\n"
     ]
    },
    {
     "name": "stderr",
     "output_type": "stream",
     "text": [
      "                                                               \r"
     ]
    },
    {
     "name": "stdout",
     "output_type": "stream",
     "text": [
      "Moviepy - Done !\n",
      "Moviepy - video ready resized_Videos/1026_unedited_resized.mp4\n",
      "Videos/1027_unedited.mp4\n",
      "<moviepy.video.io.VideoFileClip.VideoFileClip object at 0x0000022D60DB7490>\n",
      "Moviepy - Building video resized_Videos/1027_unedited_resized.mp4.\n",
      "MoviePy - Writing audio in 1027_unedited_resizedTEMP_MPY_wvf_snd.mp3\n"
     ]
    },
    {
     "name": "stderr",
     "output_type": "stream",
     "text": [
      "                                                                    \r"
     ]
    },
    {
     "name": "stdout",
     "output_type": "stream",
     "text": [
      "MoviePy - Done.\n",
      "Moviepy - Writing video resized_Videos/1027_unedited_resized.mp4\n",
      "\n"
     ]
    },
    {
     "name": "stderr",
     "output_type": "stream",
     "text": [
      "                                                               \r"
     ]
    },
    {
     "name": "stdout",
     "output_type": "stream",
     "text": [
      "Moviepy - Done !\n",
      "Moviepy - video ready resized_Videos/1027_unedited_resized.mp4\n",
      "Videos/1028_unedited.mp4\n",
      "<moviepy.video.io.VideoFileClip.VideoFileClip object at 0x0000022D60DB6F50>\n",
      "Moviepy - Building video resized_Videos/1028_unedited_resized.mp4.\n",
      "MoviePy - Writing audio in 1028_unedited_resizedTEMP_MPY_wvf_snd.mp3\n"
     ]
    },
    {
     "name": "stderr",
     "output_type": "stream",
     "text": [
      "                                                                    \r"
     ]
    },
    {
     "name": "stdout",
     "output_type": "stream",
     "text": [
      "MoviePy - Done.\n",
      "Moviepy - Writing video resized_Videos/1028_unedited_resized.mp4\n",
      "\n"
     ]
    },
    {
     "name": "stderr",
     "output_type": "stream",
     "text": [
      "                                                               \r"
     ]
    },
    {
     "name": "stdout",
     "output_type": "stream",
     "text": [
      "Moviepy - Done !\n",
      "Moviepy - video ready resized_Videos/1028_unedited_resized.mp4\n",
      "Videos/1029_unedited.mp4\n",
      "<moviepy.video.io.VideoFileClip.VideoFileClip object at 0x0000022D60DB79D0>\n",
      "Moviepy - Building video resized_Videos/1029_unedited_resized.mp4.\n",
      "MoviePy - Writing audio in 1029_unedited_resizedTEMP_MPY_wvf_snd.mp3\n"
     ]
    },
    {
     "name": "stderr",
     "output_type": "stream",
     "text": [
      "                                                       \r"
     ]
    },
    {
     "name": "stdout",
     "output_type": "stream",
     "text": [
      "MoviePy - Done.\n",
      "Moviepy - Writing video resized_Videos/1029_unedited_resized.mp4\n",
      "\n"
     ]
    },
    {
     "name": "stderr",
     "output_type": "stream",
     "text": [
      "                                                             \r"
     ]
    },
    {
     "name": "stdout",
     "output_type": "stream",
     "text": [
      "Moviepy - Done !\n",
      "Moviepy - video ready resized_Videos/1029_unedited_resized.mp4\n",
      "Videos/102_unedited.mp4\n",
      "<moviepy.video.io.VideoFileClip.VideoFileClip object at 0x0000022D60DB7970>\n",
      "Moviepy - Building video resized_Videos/102_unedited_resized.mp4.\n",
      "MoviePy - Writing audio in 102_unedited_resizedTEMP_MPY_wvf_snd.mp3\n"
     ]
    },
    {
     "name": "stderr",
     "output_type": "stream",
     "text": [
      "                                                                  \r"
     ]
    },
    {
     "name": "stdout",
     "output_type": "stream",
     "text": [
      "MoviePy - Done.\n",
      "Moviepy - Writing video resized_Videos/102_unedited_resized.mp4\n",
      "\n"
     ]
    },
    {
     "name": "stderr",
     "output_type": "stream",
     "text": [
      "                                                              \r"
     ]
    },
    {
     "name": "stdout",
     "output_type": "stream",
     "text": [
      "Moviepy - Done !\n",
      "Moviepy - video ready resized_Videos/102_unedited_resized.mp4\n",
      "Videos/1030_unedited.mp4\n",
      "<moviepy.video.io.VideoFileClip.VideoFileClip object at 0x0000022D61450040>\n",
      "Moviepy - Building video resized_Videos/1030_unedited_resized.mp4.\n",
      "MoviePy - Writing audio in 1030_unedited_resizedTEMP_MPY_wvf_snd.mp3\n"
     ]
    },
    {
     "name": "stderr",
     "output_type": "stream",
     "text": [
      "                                                       \r"
     ]
    },
    {
     "name": "stdout",
     "output_type": "stream",
     "text": [
      "MoviePy - Done.\n",
      "Moviepy - Writing video resized_Videos/1030_unedited_resized.mp4\n",
      "\n"
     ]
    },
    {
     "name": "stderr",
     "output_type": "stream",
     "text": [
      "                                                            \r"
     ]
    },
    {
     "name": "stdout",
     "output_type": "stream",
     "text": [
      "Moviepy - Done !\n",
      "Moviepy - video ready resized_Videos/1030_unedited_resized.mp4\n",
      "Videos/1031_unedited.mp4\n",
      "<moviepy.video.io.VideoFileClip.VideoFileClip object at 0x0000022D614510F0>\n",
      "Moviepy - Building video resized_Videos/1031_unedited_resized.mp4.\n",
      "MoviePy - Writing audio in 1031_unedited_resizedTEMP_MPY_wvf_snd.mp3\n"
     ]
    },
    {
     "name": "stderr",
     "output_type": "stream",
     "text": [
      "                                                                    \r"
     ]
    },
    {
     "name": "stdout",
     "output_type": "stream",
     "text": [
      "MoviePy - Done.\n",
      "Moviepy - Writing video resized_Videos/1031_unedited_resized.mp4\n",
      "\n"
     ]
    },
    {
     "name": "stderr",
     "output_type": "stream",
     "text": [
      "                                                               \r"
     ]
    },
    {
     "name": "stdout",
     "output_type": "stream",
     "text": [
      "Moviepy - Done !\n",
      "Moviepy - video ready resized_Videos/1031_unedited_resized.mp4\n",
      "Videos/1032_unedited.mp4\n",
      "<moviepy.video.io.VideoFileClip.VideoFileClip object at 0x0000022D61450EE0>\n",
      "Moviepy - Building video resized_Videos/1032_unedited_resized.mp4.\n",
      "MoviePy - Writing audio in 1032_unedited_resizedTEMP_MPY_wvf_snd.mp3\n"
     ]
    },
    {
     "name": "stderr",
     "output_type": "stream",
     "text": [
      "                                                                  \r"
     ]
    },
    {
     "name": "stdout",
     "output_type": "stream",
     "text": [
      "MoviePy - Done.\n",
      "Moviepy - Writing video resized_Videos/1032_unedited_resized.mp4\n",
      "\n"
     ]
    },
    {
     "name": "stderr",
     "output_type": "stream",
     "text": [
      "                                                               \r"
     ]
    },
    {
     "name": "stdout",
     "output_type": "stream",
     "text": [
      "Moviepy - Done !\n",
      "Moviepy - video ready resized_Videos/1032_unedited_resized.mp4\n",
      "Videos/1033_unedited.mp4\n",
      "<moviepy.video.io.VideoFileClip.VideoFileClip object at 0x0000022D61451210>\n",
      "Moviepy - Building video resized_Videos/1033_unedited_resized.mp4.\n",
      "MoviePy - Writing audio in 1033_unedited_resizedTEMP_MPY_wvf_snd.mp3\n"
     ]
    },
    {
     "name": "stderr",
     "output_type": "stream",
     "text": [
      "                                                        \r"
     ]
    },
    {
     "name": "stdout",
     "output_type": "stream",
     "text": [
      "MoviePy - Done.\n",
      "Moviepy - Writing video resized_Videos/1033_unedited_resized.mp4\n",
      "\n"
     ]
    },
    {
     "name": "stderr",
     "output_type": "stream",
     "text": [
      "                                                               \r"
     ]
    },
    {
     "name": "stdout",
     "output_type": "stream",
     "text": [
      "Moviepy - Done !\n",
      "Moviepy - video ready resized_Videos/1033_unedited_resized.mp4\n",
      "Videos/1034_unedited.mp4\n",
      "<moviepy.video.io.VideoFileClip.VideoFileClip object at 0x0000022D61450550>\n",
      "Moviepy - Building video resized_Videos/1034_unedited_resized.mp4.\n",
      "MoviePy - Writing audio in 1034_unedited_resizedTEMP_MPY_wvf_snd.mp3\n"
     ]
    },
    {
     "name": "stderr",
     "output_type": "stream",
     "text": [
      "                                                                    \r"
     ]
    },
    {
     "name": "stdout",
     "output_type": "stream",
     "text": [
      "MoviePy - Done.\n",
      "Moviepy - Writing video resized_Videos/1034_unedited_resized.mp4\n",
      "\n"
     ]
    },
    {
     "name": "stderr",
     "output_type": "stream",
     "text": [
      "                                                               \r"
     ]
    },
    {
     "name": "stdout",
     "output_type": "stream",
     "text": [
      "Moviepy - Done !\n",
      "Moviepy - video ready resized_Videos/1034_unedited_resized.mp4\n",
      "Videos/1035_unedited.mp4\n",
      "<moviepy.video.io.VideoFileClip.VideoFileClip object at 0x0000022D60DB6D10>\n",
      "Moviepy - Building video resized_Videos/1035_unedited_resized.mp4.\n",
      "MoviePy - Writing audio in 1035_unedited_resizedTEMP_MPY_wvf_snd.mp3\n"
     ]
    },
    {
     "name": "stderr",
     "output_type": "stream",
     "text": [
      "                                                        \r"
     ]
    },
    {
     "name": "stdout",
     "output_type": "stream",
     "text": [
      "MoviePy - Done.\n",
      "Moviepy - Writing video resized_Videos/1035_unedited_resized.mp4\n",
      "\n"
     ]
    },
    {
     "name": "stderr",
     "output_type": "stream",
     "text": [
      "                                                               \r"
     ]
    },
    {
     "name": "stdout",
     "output_type": "stream",
     "text": [
      "Moviepy - Done !\n",
      "Moviepy - video ready resized_Videos/1035_unedited_resized.mp4\n",
      "Videos/1036_unedited.mp4\n",
      "<moviepy.video.io.VideoFileClip.VideoFileClip object at 0x0000022D60DB4F70>\n",
      "Moviepy - Building video resized_Videos/1036_unedited_resized.mp4.\n",
      "MoviePy - Writing audio in 1036_unedited_resizedTEMP_MPY_wvf_snd.mp3\n"
     ]
    },
    {
     "name": "stderr",
     "output_type": "stream",
     "text": [
      "                                                        \r"
     ]
    },
    {
     "name": "stdout",
     "output_type": "stream",
     "text": [
      "MoviePy - Done.\n",
      "Moviepy - Writing video resized_Videos/1036_unedited_resized.mp4\n",
      "\n"
     ]
    },
    {
     "name": "stderr",
     "output_type": "stream",
     "text": [
      "                                                               \r"
     ]
    },
    {
     "name": "stdout",
     "output_type": "stream",
     "text": [
      "Moviepy - Done !\n",
      "Moviepy - video ready resized_Videos/1036_unedited_resized.mp4\n",
      "Videos/1037_unedited.mp4\n",
      "<moviepy.video.io.VideoFileClip.VideoFileClip object at 0x0000022D60DB7A60>\n",
      "Moviepy - Building video resized_Videos/1037_unedited_resized.mp4.\n",
      "MoviePy - Writing audio in 1037_unedited_resizedTEMP_MPY_wvf_snd.mp3\n"
     ]
    },
    {
     "name": "stderr",
     "output_type": "stream",
     "text": [
      "                                                                  \r"
     ]
    },
    {
     "name": "stdout",
     "output_type": "stream",
     "text": [
      "MoviePy - Done.\n",
      "Moviepy - Writing video resized_Videos/1037_unedited_resized.mp4\n",
      "\n"
     ]
    },
    {
     "name": "stderr",
     "output_type": "stream",
     "text": [
      "                                                               \r"
     ]
    },
    {
     "name": "stdout",
     "output_type": "stream",
     "text": [
      "Moviepy - Done !\n",
      "Moviepy - video ready resized_Videos/1037_unedited_resized.mp4\n",
      "Videos/1038_unedited.mp4\n",
      "<moviepy.video.io.VideoFileClip.VideoFileClip object at 0x0000022D60DB79D0>\n",
      "Moviepy - Building video resized_Videos/1038_unedited_resized.mp4.\n",
      "MoviePy - Writing audio in 1038_unedited_resizedTEMP_MPY_wvf_snd.mp3\n"
     ]
    },
    {
     "name": "stderr",
     "output_type": "stream",
     "text": [
      "                                                                      \r"
     ]
    },
    {
     "name": "stdout",
     "output_type": "stream",
     "text": [
      "MoviePy - Done.\n",
      "Moviepy - Writing video resized_Videos/1038_unedited_resized.mp4\n",
      "\n"
     ]
    },
    {
     "name": "stderr",
     "output_type": "stream",
     "text": [
      "                                                                 \r"
     ]
    },
    {
     "name": "stdout",
     "output_type": "stream",
     "text": [
      "Moviepy - Done !\n",
      "Moviepy - video ready resized_Videos/1038_unedited_resized.mp4\n",
      "Videos/1039_unedited.mp4\n",
      "<moviepy.video.io.VideoFileClip.VideoFileClip object at 0x0000022D60DB7D30>\n",
      "Moviepy - Building video resized_Videos/1039_unedited_resized.mp4.\n",
      "MoviePy - Writing audio in 1039_unedited_resizedTEMP_MPY_wvf_snd.mp3\n"
     ]
    },
    {
     "name": "stderr",
     "output_type": "stream",
     "text": [
      "                                                                  \r"
     ]
    },
    {
     "name": "stdout",
     "output_type": "stream",
     "text": [
      "MoviePy - Done.\n",
      "Moviepy - Writing video resized_Videos/1039_unedited_resized.mp4\n",
      "\n"
     ]
    },
    {
     "name": "stderr",
     "output_type": "stream",
     "text": [
      "                                                               \r"
     ]
    },
    {
     "name": "stdout",
     "output_type": "stream",
     "text": [
      "Moviepy - Done !\n",
      "Moviepy - video ready resized_Videos/1039_unedited_resized.mp4\n",
      "Videos/103_unedited.mp4\n",
      "<moviepy.video.io.VideoFileClip.VideoFileClip object at 0x0000022D60DB6F50>\n",
      "Moviepy - Building video resized_Videos/103_unedited_resized.mp4.\n",
      "MoviePy - Writing audio in 103_unedited_resizedTEMP_MPY_wvf_snd.mp3\n"
     ]
    },
    {
     "name": "stderr",
     "output_type": "stream",
     "text": [
      "                                                                  \r"
     ]
    },
    {
     "name": "stdout",
     "output_type": "stream",
     "text": [
      "MoviePy - Done.\n",
      "Moviepy - Writing video resized_Videos/103_unedited_resized.mp4\n",
      "\n"
     ]
    },
    {
     "name": "stderr",
     "output_type": "stream",
     "text": [
      "                                                              \r"
     ]
    },
    {
     "name": "stdout",
     "output_type": "stream",
     "text": [
      "Moviepy - Done !\n",
      "Moviepy - video ready resized_Videos/103_unedited_resized.mp4\n",
      "Videos/1040_unedited.mp4\n",
      "<moviepy.video.io.VideoFileClip.VideoFileClip object at 0x0000022D60DB7E80>\n",
      "Moviepy - Building video resized_Videos/1040_unedited_resized.mp4.\n",
      "MoviePy - Writing audio in 1040_unedited_resizedTEMP_MPY_wvf_snd.mp3\n"
     ]
    },
    {
     "name": "stderr",
     "output_type": "stream",
     "text": [
      "                                                                    \r"
     ]
    },
    {
     "name": "stdout",
     "output_type": "stream",
     "text": [
      "MoviePy - Done.\n",
      "Moviepy - Writing video resized_Videos/1040_unedited_resized.mp4\n",
      "\n"
     ]
    },
    {
     "name": "stderr",
     "output_type": "stream",
     "text": [
      "                                                               \r"
     ]
    },
    {
     "name": "stdout",
     "output_type": "stream",
     "text": [
      "Moviepy - Done !\n",
      "Moviepy - video ready resized_Videos/1040_unedited_resized.mp4\n",
      "Videos/1041_unedited.mp4\n",
      "<moviepy.video.io.VideoFileClip.VideoFileClip object at 0x0000022D60DB7EB0>\n",
      "Moviepy - Building video resized_Videos/1041_unedited_resized.mp4.\n",
      "MoviePy - Writing audio in 1041_unedited_resizedTEMP_MPY_wvf_snd.mp3\n"
     ]
    },
    {
     "name": "stderr",
     "output_type": "stream",
     "text": [
      "                                                        \r"
     ]
    },
    {
     "name": "stdout",
     "output_type": "stream",
     "text": [
      "MoviePy - Done.\n",
      "Moviepy - Writing video resized_Videos/1041_unedited_resized.mp4\n",
      "\n"
     ]
    },
    {
     "name": "stderr",
     "output_type": "stream",
     "text": [
      "                                                               \r"
     ]
    },
    {
     "name": "stdout",
     "output_type": "stream",
     "text": [
      "Moviepy - Done !\n",
      "Moviepy - video ready resized_Videos/1041_unedited_resized.mp4\n",
      "Videos/1042_unedited.mp4\n",
      "<moviepy.video.io.VideoFileClip.VideoFileClip object at 0x0000022D60DB7C40>\n",
      "Moviepy - Building video resized_Videos/1042_unedited_resized.mp4.\n",
      "MoviePy - Writing audio in 1042_unedited_resizedTEMP_MPY_wvf_snd.mp3\n"
     ]
    },
    {
     "name": "stderr",
     "output_type": "stream",
     "text": [
      "                                                       \r"
     ]
    },
    {
     "name": "stdout",
     "output_type": "stream",
     "text": [
      "MoviePy - Done.\n",
      "Moviepy - Writing video resized_Videos/1042_unedited_resized.mp4\n",
      "\n"
     ]
    },
    {
     "name": "stderr",
     "output_type": "stream",
     "text": [
      "                                                               \r"
     ]
    },
    {
     "name": "stdout",
     "output_type": "stream",
     "text": [
      "Moviepy - Done !\n",
      "Moviepy - video ready resized_Videos/1042_unedited_resized.mp4\n",
      "Videos/1043_unedited.mp4\n",
      "<moviepy.video.io.VideoFileClip.VideoFileClip object at 0x0000022D60DB7220>\n",
      "Moviepy - Building video resized_Videos/1043_unedited_resized.mp4.\n",
      "MoviePy - Writing audio in 1043_unedited_resizedTEMP_MPY_wvf_snd.mp3\n"
     ]
    },
    {
     "name": "stderr",
     "output_type": "stream",
     "text": [
      "                                                       \r"
     ]
    },
    {
     "name": "stdout",
     "output_type": "stream",
     "text": [
      "MoviePy - Done.\n",
      "Moviepy - Writing video resized_Videos/1043_unedited_resized.mp4\n",
      "\n"
     ]
    },
    {
     "name": "stderr",
     "output_type": "stream",
     "text": [
      "                                                             \r"
     ]
    },
    {
     "name": "stdout",
     "output_type": "stream",
     "text": [
      "Moviepy - Done !\n",
      "Moviepy - video ready resized_Videos/1043_unedited_resized.mp4\n",
      "Videos/1044_unedited.mp4\n",
      "<moviepy.video.io.VideoFileClip.VideoFileClip object at 0x0000022D60DB7D90>\n",
      "Moviepy - Building video resized_Videos/1044_unedited_resized.mp4.\n",
      "MoviePy - Writing audio in 1044_unedited_resizedTEMP_MPY_wvf_snd.mp3\n"
     ]
    },
    {
     "name": "stderr",
     "output_type": "stream",
     "text": [
      "                                                                 \r"
     ]
    },
    {
     "name": "stdout",
     "output_type": "stream",
     "text": [
      "MoviePy - Done.\n",
      "Moviepy - Writing video resized_Videos/1044_unedited_resized.mp4\n",
      "\n"
     ]
    },
    {
     "name": "stderr",
     "output_type": "stream",
     "text": [
      "                                                             \r"
     ]
    },
    {
     "name": "stdout",
     "output_type": "stream",
     "text": [
      "Moviepy - Done !\n",
      "Moviepy - video ready resized_Videos/1044_unedited_resized.mp4\n",
      "Videos/1045_unedited.mp4\n",
      "<moviepy.video.io.VideoFileClip.VideoFileClip object at 0x0000022D61451360>\n",
      "Moviepy - Building video resized_Videos/1045_unedited_resized.mp4.\n",
      "MoviePy - Writing audio in 1045_unedited_resizedTEMP_MPY_wvf_snd.mp3\n"
     ]
    },
    {
     "name": "stderr",
     "output_type": "stream",
     "text": [
      "                                                                    \r"
     ]
    },
    {
     "name": "stdout",
     "output_type": "stream",
     "text": [
      "MoviePy - Done.\n",
      "Moviepy - Writing video resized_Videos/1045_unedited_resized.mp4\n",
      "\n"
     ]
    },
    {
     "name": "stderr",
     "output_type": "stream",
     "text": [
      "                                                              \r"
     ]
    },
    {
     "name": "stdout",
     "output_type": "stream",
     "text": [
      "Moviepy - Done !\n",
      "Moviepy - video ready resized_Videos/1045_unedited_resized.mp4\n",
      "Videos/1046_unedited.mp4\n",
      "<moviepy.video.io.VideoFileClip.VideoFileClip object at 0x0000022D61450AF0>\n",
      "Moviepy - Building video resized_Videos/1046_unedited_resized.mp4.\n",
      "MoviePy - Writing audio in 1046_unedited_resizedTEMP_MPY_wvf_snd.mp3\n"
     ]
    },
    {
     "name": "stderr",
     "output_type": "stream",
     "text": [
      "                                                                    \r"
     ]
    },
    {
     "name": "stdout",
     "output_type": "stream",
     "text": [
      "MoviePy - Done.\n",
      "Moviepy - Writing video resized_Videos/1046_unedited_resized.mp4\n",
      "\n"
     ]
    },
    {
     "name": "stderr",
     "output_type": "stream",
     "text": [
      "                                                               \r"
     ]
    },
    {
     "name": "stdout",
     "output_type": "stream",
     "text": [
      "Moviepy - Done !\n",
      "Moviepy - video ready resized_Videos/1046_unedited_resized.mp4\n",
      "Videos/1047_unedited.mp4\n",
      "<moviepy.video.io.VideoFileClip.VideoFileClip object at 0x0000022D61450A60>\n",
      "Moviepy - Building video resized_Videos/1047_unedited_resized.mp4.\n",
      "MoviePy - Writing audio in 1047_unedited_resizedTEMP_MPY_wvf_snd.mp3\n"
     ]
    },
    {
     "name": "stderr",
     "output_type": "stream",
     "text": [
      "                                                                    \r"
     ]
    },
    {
     "name": "stdout",
     "output_type": "stream",
     "text": [
      "MoviePy - Done.\n",
      "Moviepy - Writing video resized_Videos/1047_unedited_resized.mp4\n",
      "\n"
     ]
    },
    {
     "name": "stderr",
     "output_type": "stream",
     "text": [
      "                                                               \r"
     ]
    },
    {
     "name": "stdout",
     "output_type": "stream",
     "text": [
      "Moviepy - Done !\n",
      "Moviepy - video ready resized_Videos/1047_unedited_resized.mp4\n",
      "Videos/1048_unedited.mp4\n",
      "<moviepy.video.io.VideoFileClip.VideoFileClip object at 0x0000022D614502B0>\n",
      "Moviepy - Building video resized_Videos/1048_unedited_resized.mp4.\n",
      "MoviePy - Writing audio in 1048_unedited_resizedTEMP_MPY_wvf_snd.mp3\n"
     ]
    },
    {
     "name": "stderr",
     "output_type": "stream",
     "text": [
      "                                                                    \r"
     ]
    },
    {
     "name": "stdout",
     "output_type": "stream",
     "text": [
      "MoviePy - Done.\n",
      "Moviepy - Writing video resized_Videos/1048_unedited_resized.mp4\n",
      "\n"
     ]
    },
    {
     "name": "stderr",
     "output_type": "stream",
     "text": [
      "                                                               \r"
     ]
    },
    {
     "name": "stdout",
     "output_type": "stream",
     "text": [
      "Moviepy - Done !\n",
      "Moviepy - video ready resized_Videos/1048_unedited_resized.mp4\n",
      "Videos/1049_unedited.mp4\n",
      "<moviepy.video.io.VideoFileClip.VideoFileClip object at 0x0000022D614514B0>\n",
      "Moviepy - Building video resized_Videos/1049_unedited_resized.mp4.\n",
      "MoviePy - Writing audio in 1049_unedited_resizedTEMP_MPY_wvf_snd.mp3\n"
     ]
    },
    {
     "name": "stderr",
     "output_type": "stream",
     "text": [
      "                                                                   \r"
     ]
    },
    {
     "name": "stdout",
     "output_type": "stream",
     "text": [
      "MoviePy - Done.\n",
      "Moviepy - Writing video resized_Videos/1049_unedited_resized.mp4\n",
      "\n"
     ]
    },
    {
     "name": "stderr",
     "output_type": "stream",
     "text": [
      "                                                              \r"
     ]
    },
    {
     "name": "stdout",
     "output_type": "stream",
     "text": [
      "Moviepy - Done !\n",
      "Moviepy - video ready resized_Videos/1049_unedited_resized.mp4\n",
      "Videos/104_unedited.mp4\n",
      "<moviepy.video.io.VideoFileClip.VideoFileClip object at 0x0000022D60DB75B0>\n",
      "Moviepy - Building video resized_Videos/104_unedited_resized.mp4.\n",
      "MoviePy - Writing audio in 104_unedited_resizedTEMP_MPY_wvf_snd.mp3\n"
     ]
    },
    {
     "name": "stderr",
     "output_type": "stream",
     "text": [
      "                                                                    \r"
     ]
    },
    {
     "name": "stdout",
     "output_type": "stream",
     "text": [
      "MoviePy - Done.\n",
      "Moviepy - Writing video resized_Videos/104_unedited_resized.mp4\n",
      "\n"
     ]
    },
    {
     "name": "stderr",
     "output_type": "stream",
     "text": [
      "                                                               \r"
     ]
    },
    {
     "name": "stdout",
     "output_type": "stream",
     "text": [
      "Moviepy - Done !\n",
      "Moviepy - video ready resized_Videos/104_unedited_resized.mp4\n",
      "Videos/1050_unedited.mp4\n",
      "<moviepy.video.io.VideoFileClip.VideoFileClip object at 0x0000022D60DB7F40>\n",
      "Moviepy - Building video resized_Videos/1050_unedited_resized.mp4.\n",
      "MoviePy - Writing audio in 1050_unedited_resizedTEMP_MPY_wvf_snd.mp3\n"
     ]
    },
    {
     "name": "stderr",
     "output_type": "stream",
     "text": [
      "                                                                    \r"
     ]
    },
    {
     "name": "stdout",
     "output_type": "stream",
     "text": [
      "MoviePy - Done.\n",
      "Moviepy - Writing video resized_Videos/1050_unedited_resized.mp4\n",
      "\n"
     ]
    },
    {
     "name": "stderr",
     "output_type": "stream",
     "text": [
      "                                                              \r"
     ]
    },
    {
     "name": "stdout",
     "output_type": "stream",
     "text": [
      "Moviepy - Done !\n",
      "Moviepy - video ready resized_Videos/1050_unedited_resized.mp4\n",
      "Videos/1051_unedited.mp4\n",
      "<moviepy.video.io.VideoFileClip.VideoFileClip object at 0x0000022D60DB6950>\n",
      "Moviepy - Building video resized_Videos/1051_unedited_resized.mp4.\n",
      "MoviePy - Writing audio in 1051_unedited_resizedTEMP_MPY_wvf_snd.mp3\n"
     ]
    },
    {
     "name": "stderr",
     "output_type": "stream",
     "text": [
      "                                                                    \r"
     ]
    },
    {
     "name": "stdout",
     "output_type": "stream",
     "text": [
      "MoviePy - Done.\n",
      "Moviepy - Writing video resized_Videos/1051_unedited_resized.mp4\n",
      "\n"
     ]
    },
    {
     "name": "stderr",
     "output_type": "stream",
     "text": [
      "                                                               \r"
     ]
    },
    {
     "name": "stdout",
     "output_type": "stream",
     "text": [
      "Moviepy - Done !\n",
      "Moviepy - video ready resized_Videos/1051_unedited_resized.mp4\n",
      "Videos/1052_unedited.mp4\n",
      "<moviepy.video.io.VideoFileClip.VideoFileClip object at 0x0000022D60DB6E00>\n",
      "Moviepy - Building video resized_Videos/1052_unedited_resized.mp4.\n",
      "MoviePy - Writing audio in 1052_unedited_resizedTEMP_MPY_wvf_snd.mp3\n"
     ]
    },
    {
     "name": "stderr",
     "output_type": "stream",
     "text": [
      "                                                                    \r"
     ]
    },
    {
     "name": "stdout",
     "output_type": "stream",
     "text": [
      "MoviePy - Done.\n",
      "Moviepy - Writing video resized_Videos/1052_unedited_resized.mp4\n",
      "\n"
     ]
    },
    {
     "name": "stderr",
     "output_type": "stream",
     "text": [
      "                                                               \r"
     ]
    },
    {
     "name": "stdout",
     "output_type": "stream",
     "text": [
      "Moviepy - Done !\n",
      "Moviepy - video ready resized_Videos/1052_unedited_resized.mp4\n",
      "Videos/1053_unedited.mp4\n",
      "<moviepy.video.io.VideoFileClip.VideoFileClip object at 0x0000022D60DB6E90>\n",
      "Moviepy - Building video resized_Videos/1053_unedited_resized.mp4.\n",
      "MoviePy - Writing audio in 1053_unedited_resizedTEMP_MPY_wvf_snd.mp3\n"
     ]
    },
    {
     "name": "stderr",
     "output_type": "stream",
     "text": [
      "                                                                 \r"
     ]
    },
    {
     "name": "stdout",
     "output_type": "stream",
     "text": [
      "MoviePy - Done.\n",
      "Moviepy - Writing video resized_Videos/1053_unedited_resized.mp4\n",
      "\n"
     ]
    },
    {
     "name": "stderr",
     "output_type": "stream",
     "text": [
      "                                                               \r"
     ]
    },
    {
     "name": "stdout",
     "output_type": "stream",
     "text": [
      "Moviepy - Done !\n",
      "Moviepy - video ready resized_Videos/1053_unedited_resized.mp4\n",
      "Videos/1054_unedited.mp4\n",
      "<moviepy.video.io.VideoFileClip.VideoFileClip object at 0x0000022D60DB7D30>\n",
      "Moviepy - Building video resized_Videos/1054_unedited_resized.mp4.\n",
      "MoviePy - Writing audio in 1054_unedited_resizedTEMP_MPY_wvf_snd.mp3\n"
     ]
    },
    {
     "name": "stderr",
     "output_type": "stream",
     "text": [
      "                                                                  \r"
     ]
    },
    {
     "name": "stdout",
     "output_type": "stream",
     "text": [
      "MoviePy - Done.\n",
      "Moviepy - Writing video resized_Videos/1054_unedited_resized.mp4\n",
      "\n"
     ]
    },
    {
     "name": "stderr",
     "output_type": "stream",
     "text": [
      "                                                              \r"
     ]
    },
    {
     "name": "stdout",
     "output_type": "stream",
     "text": [
      "Moviepy - Done !\n",
      "Moviepy - video ready resized_Videos/1054_unedited_resized.mp4\n",
      "Videos/1055_unedited.mp4\n",
      "<moviepy.video.io.VideoFileClip.VideoFileClip object at 0x0000022D60DB6440>\n",
      "Moviepy - Building video resized_Videos/1055_unedited_resized.mp4.\n",
      "MoviePy - Writing audio in 1055_unedited_resizedTEMP_MPY_wvf_snd.mp3\n"
     ]
    },
    {
     "name": "stderr",
     "output_type": "stream",
     "text": [
      "                                                                    \r"
     ]
    },
    {
     "name": "stdout",
     "output_type": "stream",
     "text": [
      "MoviePy - Done.\n",
      "Moviepy - Writing video resized_Videos/1055_unedited_resized.mp4\n",
      "\n"
     ]
    },
    {
     "name": "stderr",
     "output_type": "stream",
     "text": [
      "                                                              \r"
     ]
    },
    {
     "name": "stdout",
     "output_type": "stream",
     "text": [
      "Moviepy - Done !\n",
      "Moviepy - video ready resized_Videos/1055_unedited_resized.mp4\n",
      "Videos/1056_unedited.mp4\n",
      "<moviepy.video.io.VideoFileClip.VideoFileClip object at 0x0000022D60DB61D0>\n",
      "Moviepy - Building video resized_Videos/1056_unedited_resized.mp4.\n",
      "MoviePy - Writing audio in 1056_unedited_resizedTEMP_MPY_wvf_snd.mp3\n"
     ]
    },
    {
     "name": "stderr",
     "output_type": "stream",
     "text": [
      "                                                        \r"
     ]
    },
    {
     "name": "stdout",
     "output_type": "stream",
     "text": [
      "MoviePy - Done.\n",
      "Moviepy - Writing video resized_Videos/1056_unedited_resized.mp4\n",
      "\n"
     ]
    },
    {
     "name": "stderr",
     "output_type": "stream",
     "text": [
      "                                                               \r"
     ]
    },
    {
     "name": "stdout",
     "output_type": "stream",
     "text": [
      "Moviepy - Done !\n",
      "Moviepy - video ready resized_Videos/1056_unedited_resized.mp4\n",
      "Videos/1057_unedited.mp4\n",
      "<moviepy.video.io.VideoFileClip.VideoFileClip object at 0x0000022D60DB7100>\n",
      "Moviepy - Building video resized_Videos/1057_unedited_resized.mp4.\n",
      "MoviePy - Writing audio in 1057_unedited_resizedTEMP_MPY_wvf_snd.mp3\n"
     ]
    },
    {
     "name": "stderr",
     "output_type": "stream",
     "text": [
      "                                                        \r"
     ]
    },
    {
     "name": "stdout",
     "output_type": "stream",
     "text": [
      "MoviePy - Done.\n",
      "Moviepy - Writing video resized_Videos/1057_unedited_resized.mp4\n",
      "\n"
     ]
    },
    {
     "name": "stderr",
     "output_type": "stream",
     "text": [
      "                                                               \r"
     ]
    },
    {
     "name": "stdout",
     "output_type": "stream",
     "text": [
      "Moviepy - Done !\n",
      "Moviepy - video ready resized_Videos/1057_unedited_resized.mp4\n",
      "Videos/1058_unedited.mp4\n",
      "<moviepy.video.io.VideoFileClip.VideoFileClip object at 0x0000022D60DB65C0>\n",
      "Moviepy - Building video resized_Videos/1058_unedited_resized.mp4.\n",
      "MoviePy - Writing audio in 1058_unedited_resizedTEMP_MPY_wvf_snd.mp3\n"
     ]
    },
    {
     "name": "stderr",
     "output_type": "stream",
     "text": [
      "                                                                  \r"
     ]
    },
    {
     "name": "stdout",
     "output_type": "stream",
     "text": [
      "MoviePy - Done.\n",
      "Moviepy - Writing video resized_Videos/1058_unedited_resized.mp4\n",
      "\n"
     ]
    },
    {
     "name": "stderr",
     "output_type": "stream",
     "text": [
      "                                                               \r"
     ]
    },
    {
     "name": "stdout",
     "output_type": "stream",
     "text": [
      "Moviepy - Done !\n",
      "Moviepy - video ready resized_Videos/1058_unedited_resized.mp4\n",
      "Videos/1059_unedited.mp4\n",
      "<moviepy.video.io.VideoFileClip.VideoFileClip object at 0x0000022D60DB7790>\n",
      "Moviepy - Building video resized_Videos/1059_unedited_resized.mp4.\n",
      "MoviePy - Writing audio in 1059_unedited_resizedTEMP_MPY_wvf_snd.mp3\n"
     ]
    },
    {
     "name": "stderr",
     "output_type": "stream",
     "text": [
      "                                                                    \r"
     ]
    },
    {
     "name": "stdout",
     "output_type": "stream",
     "text": [
      "MoviePy - Done.\n",
      "Moviepy - Writing video resized_Videos/1059_unedited_resized.mp4\n",
      "\n"
     ]
    },
    {
     "name": "stderr",
     "output_type": "stream",
     "text": [
      "                                                               \r"
     ]
    },
    {
     "name": "stdout",
     "output_type": "stream",
     "text": [
      "Moviepy - Done !\n",
      "Moviepy - video ready resized_Videos/1059_unedited_resized.mp4\n",
      "Videos/105_unedited.mp4\n",
      "<moviepy.video.io.VideoFileClip.VideoFileClip object at 0x0000022D614503D0>\n",
      "Moviepy - Building video resized_Videos/105_unedited_resized.mp4.\n",
      "MoviePy - Writing audio in 105_unedited_resizedTEMP_MPY_wvf_snd.mp3\n"
     ]
    },
    {
     "name": "stderr",
     "output_type": "stream",
     "text": [
      "                                                        \r"
     ]
    },
    {
     "name": "stdout",
     "output_type": "stream",
     "text": [
      "MoviePy - Done.\n",
      "Moviepy - Writing video resized_Videos/105_unedited_resized.mp4\n",
      "\n"
     ]
    },
    {
     "name": "stderr",
     "output_type": "stream",
     "text": [
      "                                                               \r"
     ]
    },
    {
     "name": "stdout",
     "output_type": "stream",
     "text": [
      "Moviepy - Done !\n",
      "Moviepy - video ready resized_Videos/105_unedited_resized.mp4\n",
      "Videos/1060_unedited.mp4\n",
      "<moviepy.video.io.VideoFileClip.VideoFileClip object at 0x0000022D614510F0>\n",
      "Moviepy - Building video resized_Videos/1060_unedited_resized.mp4.\n",
      "MoviePy - Writing audio in 1060_unedited_resizedTEMP_MPY_wvf_snd.mp3\n"
     ]
    },
    {
     "name": "stderr",
     "output_type": "stream",
     "text": [
      "                                                                    \r"
     ]
    },
    {
     "name": "stdout",
     "output_type": "stream",
     "text": [
      "MoviePy - Done.\n",
      "Moviepy - Writing video resized_Videos/1060_unedited_resized.mp4\n",
      "\n"
     ]
    },
    {
     "name": "stderr",
     "output_type": "stream",
     "text": [
      "                                                                 \r"
     ]
    },
    {
     "name": "stdout",
     "output_type": "stream",
     "text": [
      "Moviepy - Done !\n",
      "Moviepy - video ready resized_Videos/1060_unedited_resized.mp4\n",
      "Videos/106_unedited.mp4\n",
      "<moviepy.video.io.VideoFileClip.VideoFileClip object at 0x0000022D61451090>\n",
      "Moviepy - Building video resized_Videos/106_unedited_resized.mp4.\n",
      "MoviePy - Writing audio in 106_unedited_resizedTEMP_MPY_wvf_snd.mp3\n"
     ]
    },
    {
     "name": "stderr",
     "output_type": "stream",
     "text": [
      "                                                                    \r"
     ]
    },
    {
     "name": "stdout",
     "output_type": "stream",
     "text": [
      "MoviePy - Done.\n",
      "Moviepy - Writing video resized_Videos/106_unedited_resized.mp4\n",
      "\n"
     ]
    },
    {
     "name": "stderr",
     "output_type": "stream",
     "text": [
      "                                                               \r"
     ]
    },
    {
     "name": "stdout",
     "output_type": "stream",
     "text": [
      "Moviepy - Done !\n",
      "Moviepy - video ready resized_Videos/106_unedited_resized.mp4\n",
      "Videos/107_unedited.mp4\n",
      "<moviepy.video.io.VideoFileClip.VideoFileClip object at 0x0000022D61451300>\n",
      "Moviepy - Building video resized_Videos/107_unedited_resized.mp4.\n",
      "MoviePy - Writing audio in 107_unedited_resizedTEMP_MPY_wvf_snd.mp3\n"
     ]
    },
    {
     "name": "stderr",
     "output_type": "stream",
     "text": [
      "                                                                  \r"
     ]
    },
    {
     "name": "stdout",
     "output_type": "stream",
     "text": [
      "MoviePy - Done.\n",
      "Moviepy - Writing video resized_Videos/107_unedited_resized.mp4\n",
      "\n"
     ]
    },
    {
     "name": "stderr",
     "output_type": "stream",
     "text": [
      "                                                               \r"
     ]
    },
    {
     "name": "stdout",
     "output_type": "stream",
     "text": [
      "Moviepy - Done !\n",
      "Moviepy - video ready resized_Videos/107_unedited_resized.mp4\n",
      "Videos/108_unedited.mp4\n",
      "<moviepy.video.io.VideoFileClip.VideoFileClip object at 0x0000022D61451540>\n",
      "Moviepy - Building video resized_Videos/108_unedited_resized.mp4.\n",
      "MoviePy - Writing audio in 108_unedited_resizedTEMP_MPY_wvf_snd.mp3\n"
     ]
    },
    {
     "name": "stderr",
     "output_type": "stream",
     "text": [
      "                                                       \r"
     ]
    },
    {
     "name": "stdout",
     "output_type": "stream",
     "text": [
      "MoviePy - Done.\n",
      "Moviepy - Writing video resized_Videos/108_unedited_resized.mp4\n",
      "\n"
     ]
    },
    {
     "name": "stderr",
     "output_type": "stream",
     "text": [
      "                                                              \r"
     ]
    },
    {
     "name": "stdout",
     "output_type": "stream",
     "text": [
      "Moviepy - Done !\n",
      "Moviepy - video ready resized_Videos/108_unedited_resized.mp4\n",
      "Videos/109_unedited.mp4\n",
      "<moviepy.video.io.VideoFileClip.VideoFileClip object at 0x0000022D60DB74C0>\n",
      "Moviepy - Building video resized_Videos/109_unedited_resized.mp4.\n",
      "MoviePy - Writing audio in 109_unedited_resizedTEMP_MPY_wvf_snd.mp3\n"
     ]
    },
    {
     "name": "stderr",
     "output_type": "stream",
     "text": [
      "                                                                  \r"
     ]
    },
    {
     "name": "stdout",
     "output_type": "stream",
     "text": [
      "MoviePy - Done.\n",
      "Moviepy - Writing video resized_Videos/109_unedited_resized.mp4\n",
      "\n"
     ]
    },
    {
     "name": "stderr",
     "output_type": "stream",
     "text": [
      "                                                               \r"
     ]
    },
    {
     "name": "stdout",
     "output_type": "stream",
     "text": [
      "Moviepy - Done !\n",
      "Moviepy - video ready resized_Videos/109_unedited_resized.mp4\n",
      "Videos/2002_unedited.mp4\n",
      "<moviepy.video.io.VideoFileClip.VideoFileClip object at 0x0000022D60DB7100>\n",
      "Moviepy - Building video resized_Videos/2002_unedited_resized.mp4.\n",
      "MoviePy - Writing audio in 2002_unedited_resizedTEMP_MPY_wvf_snd.mp3\n"
     ]
    },
    {
     "name": "stderr",
     "output_type": "stream",
     "text": [
      "                                                                    \r"
     ]
    },
    {
     "name": "stdout",
     "output_type": "stream",
     "text": [
      "MoviePy - Done.\n",
      "Moviepy - Writing video resized_Videos/2002_unedited_resized.mp4\n",
      "\n"
     ]
    },
    {
     "name": "stderr",
     "output_type": "stream",
     "text": [
      "                                                               \r"
     ]
    },
    {
     "name": "stdout",
     "output_type": "stream",
     "text": [
      "Moviepy - Done !\n",
      "Moviepy - video ready resized_Videos/2002_unedited_resized.mp4\n",
      "Videos/2003_unedited.mp4\n",
      "<moviepy.video.io.VideoFileClip.VideoFileClip object at 0x0000022D60DB6EC0>\n",
      "Moviepy - Building video resized_Videos/2003_unedited_resized.mp4.\n",
      "MoviePy - Writing audio in 2003_unedited_resizedTEMP_MPY_wvf_snd.mp3\n"
     ]
    },
    {
     "name": "stderr",
     "output_type": "stream",
     "text": [
      "                                                       \r"
     ]
    },
    {
     "name": "stdout",
     "output_type": "stream",
     "text": [
      "MoviePy - Done.\n",
      "Moviepy - Writing video resized_Videos/2003_unedited_resized.mp4\n",
      "\n"
     ]
    },
    {
     "name": "stderr",
     "output_type": "stream",
     "text": [
      "                                                               \r"
     ]
    },
    {
     "name": "stdout",
     "output_type": "stream",
     "text": [
      "Moviepy - Done !\n",
      "Moviepy - video ready resized_Videos/2003_unedited_resized.mp4\n",
      "Videos/2004_unedited.mp4\n",
      "<moviepy.video.io.VideoFileClip.VideoFileClip object at 0x0000022D60DB7A00>\n",
      "Moviepy - Building video resized_Videos/2004_unedited_resized.mp4.\n",
      "MoviePy - Writing audio in 2004_unedited_resizedTEMP_MPY_wvf_snd.mp3\n"
     ]
    },
    {
     "name": "stderr",
     "output_type": "stream",
     "text": [
      "                                                                  \r"
     ]
    },
    {
     "name": "stdout",
     "output_type": "stream",
     "text": [
      "MoviePy - Done.\n",
      "Moviepy - Writing video resized_Videos/2004_unedited_resized.mp4\n",
      "\n"
     ]
    },
    {
     "name": "stderr",
     "output_type": "stream",
     "text": [
      "                                                               \r"
     ]
    },
    {
     "name": "stdout",
     "output_type": "stream",
     "text": [
      "Moviepy - Done !\n",
      "Moviepy - video ready resized_Videos/2004_unedited_resized.mp4\n",
      "Videos/2005_unedited.mp4\n",
      "<moviepy.video.io.VideoFileClip.VideoFileClip object at 0x0000022D60DB63E0>\n",
      "Moviepy - Building video resized_Videos/2005_unedited_resized.mp4.\n",
      "MoviePy - Writing audio in 2005_unedited_resizedTEMP_MPY_wvf_snd.mp3\n"
     ]
    },
    {
     "name": "stderr",
     "output_type": "stream",
     "text": [
      "                                                                   \r"
     ]
    },
    {
     "name": "stdout",
     "output_type": "stream",
     "text": [
      "MoviePy - Done.\n",
      "Moviepy - Writing video resized_Videos/2005_unedited_resized.mp4\n",
      "\n"
     ]
    },
    {
     "name": "stderr",
     "output_type": "stream",
     "text": [
      "                                                              \r"
     ]
    },
    {
     "name": "stdout",
     "output_type": "stream",
     "text": [
      "Moviepy - Done !\n",
      "Moviepy - video ready resized_Videos/2005_unedited_resized.mp4\n",
      "Videos/2006_unedited.mp4\n",
      "<moviepy.video.io.VideoFileClip.VideoFileClip object at 0x0000022D60DB73A0>\n",
      "Moviepy - Building video resized_Videos/2006_unedited_resized.mp4.\n",
      "MoviePy - Writing audio in 2006_unedited_resizedTEMP_MPY_wvf_snd.mp3\n"
     ]
    },
    {
     "name": "stderr",
     "output_type": "stream",
     "text": [
      "                                                                  \r"
     ]
    },
    {
     "name": "stdout",
     "output_type": "stream",
     "text": [
      "MoviePy - Done.\n",
      "Moviepy - Writing video resized_Videos/2006_unedited_resized.mp4\n",
      "\n"
     ]
    },
    {
     "name": "stderr",
     "output_type": "stream",
     "text": [
      "                                                               \r"
     ]
    },
    {
     "name": "stdout",
     "output_type": "stream",
     "text": [
      "Moviepy - Done !\n",
      "Moviepy - video ready resized_Videos/2006_unedited_resized.mp4\n",
      "Videos/2007_unedited.mp4\n",
      "<moviepy.video.io.VideoFileClip.VideoFileClip object at 0x0000022D60DB7BE0>\n",
      "Moviepy - Building video resized_Videos/2007_unedited_resized.mp4.\n",
      "MoviePy - Writing audio in 2007_unedited_resizedTEMP_MPY_wvf_snd.mp3\n"
     ]
    },
    {
     "name": "stderr",
     "output_type": "stream",
     "text": [
      "                                                                   \r"
     ]
    },
    {
     "name": "stdout",
     "output_type": "stream",
     "text": [
      "MoviePy - Done.\n",
      "Moviepy - Writing video resized_Videos/2007_unedited_resized.mp4\n",
      "\n"
     ]
    },
    {
     "name": "stderr",
     "output_type": "stream",
     "text": [
      "                                                               \r"
     ]
    },
    {
     "name": "stdout",
     "output_type": "stream",
     "text": [
      "Moviepy - Done !\n",
      "Moviepy - video ready resized_Videos/2007_unedited_resized.mp4\n",
      "Videos/2008_unedited.mp4\n",
      "<moviepy.video.io.VideoFileClip.VideoFileClip object at 0x0000022D60DB7C70>\n",
      "Moviepy - Building video resized_Videos/2008_unedited_resized.mp4.\n",
      "MoviePy - Writing audio in 2008_unedited_resizedTEMP_MPY_wvf_snd.mp3\n"
     ]
    },
    {
     "name": "stderr",
     "output_type": "stream",
     "text": [
      "                                                                    \r"
     ]
    },
    {
     "name": "stdout",
     "output_type": "stream",
     "text": [
      "MoviePy - Done.\n",
      "Moviepy - Writing video resized_Videos/2008_unedited_resized.mp4\n",
      "\n"
     ]
    },
    {
     "name": "stderr",
     "output_type": "stream",
     "text": [
      "                                                               \r"
     ]
    },
    {
     "name": "stdout",
     "output_type": "stream",
     "text": [
      "Moviepy - Done !\n",
      "Moviepy - video ready resized_Videos/2008_unedited_resized.mp4\n",
      "Videos/2009_unedited.mp4\n",
      "<moviepy.video.io.VideoFileClip.VideoFileClip object at 0x0000022D60DB7190>\n",
      "Moviepy - Building video resized_Videos/2009_unedited_resized.mp4.\n",
      "MoviePy - Writing audio in 2009_unedited_resizedTEMP_MPY_wvf_snd.mp3\n"
     ]
    },
    {
     "name": "stderr",
     "output_type": "stream",
     "text": [
      "                                                                    \r"
     ]
    },
    {
     "name": "stdout",
     "output_type": "stream",
     "text": [
      "MoviePy - Done.\n",
      "Moviepy - Writing video resized_Videos/2009_unedited_resized.mp4\n",
      "\n"
     ]
    },
    {
     "name": "stderr",
     "output_type": "stream",
     "text": [
      "                                                               \r"
     ]
    },
    {
     "name": "stdout",
     "output_type": "stream",
     "text": [
      "Moviepy - Done !\n",
      "Moviepy - video ready resized_Videos/2009_unedited_resized.mp4\n",
      "Videos/2010_unedited.mp4\n",
      "<moviepy.video.io.VideoFileClip.VideoFileClip object at 0x0000022D60DB6740>\n",
      "Moviepy - Building video resized_Videos/2010_unedited_resized.mp4.\n",
      "MoviePy - Writing audio in 2010_unedited_resizedTEMP_MPY_wvf_snd.mp3\n"
     ]
    },
    {
     "name": "stderr",
     "output_type": "stream",
     "text": [
      "                                                       \r"
     ]
    },
    {
     "name": "stdout",
     "output_type": "stream",
     "text": [
      "MoviePy - Done.\n",
      "Moviepy - Writing video resized_Videos/2010_unedited_resized.mp4\n",
      "\n"
     ]
    },
    {
     "name": "stderr",
     "output_type": "stream",
     "text": [
      "                                                             \r"
     ]
    },
    {
     "name": "stdout",
     "output_type": "stream",
     "text": [
      "Moviepy - Done !\n",
      "Moviepy - video ready resized_Videos/2010_unedited_resized.mp4\n",
      "Videos/2011_unedited.mp4\n",
      "<moviepy.video.io.VideoFileClip.VideoFileClip object at 0x0000022D60DB7B50>\n",
      "Moviepy - Building video resized_Videos/2011_unedited_resized.mp4.\n",
      "MoviePy - Writing audio in 2011_unedited_resizedTEMP_MPY_wvf_snd.mp3\n"
     ]
    },
    {
     "name": "stderr",
     "output_type": "stream",
     "text": [
      "                                                       \r"
     ]
    },
    {
     "name": "stdout",
     "output_type": "stream",
     "text": [
      "MoviePy - Done.\n",
      "Moviepy - Writing video resized_Videos/2011_unedited_resized.mp4\n",
      "\n"
     ]
    },
    {
     "name": "stderr",
     "output_type": "stream",
     "text": [
      "                                                              \r"
     ]
    },
    {
     "name": "stdout",
     "output_type": "stream",
     "text": [
      "Moviepy - Done !\n",
      "Moviepy - video ready resized_Videos/2011_unedited_resized.mp4\n",
      "Videos/4001_unedited.mp4\n",
      "<moviepy.video.io.VideoFileClip.VideoFileClip object at 0x0000022D614513F0>\n",
      "Moviepy - Building video resized_Videos/4001_unedited_resized.mp4.\n",
      "MoviePy - Writing audio in 4001_unedited_resizedTEMP_MPY_wvf_snd.mp3\n"
     ]
    },
    {
     "name": "stderr",
     "output_type": "stream",
     "text": [
      "                                                                   \r"
     ]
    },
    {
     "name": "stdout",
     "output_type": "stream",
     "text": [
      "MoviePy - Done.\n",
      "Moviepy - Writing video resized_Videos/4001_unedited_resized.mp4\n",
      "\n"
     ]
    },
    {
     "name": "stderr",
     "output_type": "stream",
     "text": [
      "                                                               \r"
     ]
    },
    {
     "name": "stdout",
     "output_type": "stream",
     "text": [
      "Moviepy - Done !\n",
      "Moviepy - video ready resized_Videos/4001_unedited_resized.mp4\n",
      "Videos/4002_unedited.mp4\n",
      "<moviepy.video.io.VideoFileClip.VideoFileClip object at 0x0000022D61451840>\n",
      "Moviepy - Building video resized_Videos/4002_unedited_resized.mp4.\n",
      "MoviePy - Writing audio in 4002_unedited_resizedTEMP_MPY_wvf_snd.mp3\n"
     ]
    },
    {
     "name": "stderr",
     "output_type": "stream",
     "text": [
      "                                                                  \r"
     ]
    },
    {
     "name": "stdout",
     "output_type": "stream",
     "text": [
      "MoviePy - Done.\n",
      "Moviepy - Writing video resized_Videos/4002_unedited_resized.mp4\n",
      "\n"
     ]
    },
    {
     "name": "stderr",
     "output_type": "stream",
     "text": [
      "                                                              \r"
     ]
    },
    {
     "name": "stdout",
     "output_type": "stream",
     "text": [
      "Moviepy - Done !\n",
      "Moviepy - video ready resized_Videos/4002_unedited_resized.mp4\n",
      "Videos/4003_unedited.mp4\n",
      "<moviepy.video.io.VideoFileClip.VideoFileClip object at 0x0000022D61451120>\n",
      "Moviepy - Building video resized_Videos/4003_unedited_resized.mp4.\n",
      "MoviePy - Writing audio in 4003_unedited_resizedTEMP_MPY_wvf_snd.mp3\n"
     ]
    },
    {
     "name": "stderr",
     "output_type": "stream",
     "text": [
      "                                                        \r"
     ]
    },
    {
     "name": "stdout",
     "output_type": "stream",
     "text": [
      "MoviePy - Done.\n",
      "Moviepy - Writing video resized_Videos/4003_unedited_resized.mp4\n",
      "\n"
     ]
    },
    {
     "name": "stderr",
     "output_type": "stream",
     "text": [
      "                                                               \r"
     ]
    },
    {
     "name": "stdout",
     "output_type": "stream",
     "text": [
      "Moviepy - Done !\n",
      "Moviepy - video ready resized_Videos/4003_unedited_resized.mp4\n",
      "Videos/4004_unedited.mp4\n",
      "<moviepy.video.io.VideoFileClip.VideoFileClip object at 0x0000022D614518A0>\n",
      "Moviepy - Building video resized_Videos/4004_unedited_resized.mp4.\n",
      "MoviePy - Writing audio in 4004_unedited_resizedTEMP_MPY_wvf_snd.mp3\n"
     ]
    },
    {
     "name": "stderr",
     "output_type": "stream",
     "text": [
      "                                                                    "
     ]
    },
    {
     "name": "stdout",
     "output_type": "stream",
     "text": [
      "MoviePy - Done.\n",
      "Moviepy - Writing video resized_Videos/4004_unedited_resized.mp4\n",
      "\n"
     ]
    },
    {
     "name": "stderr",
     "output_type": "stream",
     "text": [
      "                                                               \r"
     ]
    },
    {
     "name": "stdout",
     "output_type": "stream",
     "text": [
      "Moviepy - Done !\n",
      "Moviepy - video ready resized_Videos/4004_unedited_resized.mp4\n",
      "Videos/4005_unedited.mp4\n",
      "<moviepy.video.io.VideoFileClip.VideoFileClip object at 0x0000022D614511E0>\n",
      "Moviepy - Building video resized_Videos/4005_unedited_resized.mp4.\n",
      "MoviePy - Writing audio in 4005_unedited_resizedTEMP_MPY_wvf_snd.mp3\n"
     ]
    },
    {
     "name": "stderr",
     "output_type": "stream",
     "text": [
      "                                                                 \r"
     ]
    },
    {
     "name": "stdout",
     "output_type": "stream",
     "text": [
      "MoviePy - Done.\n",
      "Moviepy - Writing video resized_Videos/4005_unedited_resized.mp4\n",
      "\n"
     ]
    },
    {
     "name": "stderr",
     "output_type": "stream",
     "text": [
      "                                                               \r"
     ]
    },
    {
     "name": "stdout",
     "output_type": "stream",
     "text": [
      "Moviepy - Done !\n",
      "Moviepy - video ready resized_Videos/4005_unedited_resized.mp4\n",
      "Videos/4006_unedited.mp4\n",
      "<moviepy.video.io.VideoFileClip.VideoFileClip object at 0x0000022D60DB7C70>\n",
      "Moviepy - Building video resized_Videos/4006_unedited_resized.mp4.\n",
      "MoviePy - Writing audio in 4006_unedited_resizedTEMP_MPY_wvf_snd.mp3\n"
     ]
    },
    {
     "name": "stderr",
     "output_type": "stream",
     "text": [
      "                                                                 \r"
     ]
    },
    {
     "name": "stdout",
     "output_type": "stream",
     "text": [
      "MoviePy - Done.\n",
      "Moviepy - Writing video resized_Videos/4006_unedited_resized.mp4\n",
      "\n"
     ]
    },
    {
     "name": "stderr",
     "output_type": "stream",
     "text": [
      "                                                             \r"
     ]
    },
    {
     "name": "stdout",
     "output_type": "stream",
     "text": [
      "Moviepy - Done !\n",
      "Moviepy - video ready resized_Videos/4006_unedited_resized.mp4\n",
      "Videos/4007_unedited.mp4\n",
      "<moviepy.video.io.VideoFileClip.VideoFileClip object at 0x0000022D60DB65F0>\n",
      "Moviepy - Building video resized_Videos/4007_unedited_resized.mp4.\n",
      "MoviePy - Writing audio in 4007_unedited_resizedTEMP_MPY_wvf_snd.mp3\n"
     ]
    },
    {
     "name": "stderr",
     "output_type": "stream",
     "text": [
      "                                                        \r"
     ]
    },
    {
     "name": "stdout",
     "output_type": "stream",
     "text": [
      "MoviePy - Done.\n",
      "Moviepy - Writing video resized_Videos/4007_unedited_resized.mp4\n",
      "\n"
     ]
    },
    {
     "name": "stderr",
     "output_type": "stream",
     "text": [
      "                                                               \r"
     ]
    },
    {
     "name": "stdout",
     "output_type": "stream",
     "text": [
      "Moviepy - Done !\n",
      "Moviepy - video ready resized_Videos/4007_unedited_resized.mp4\n",
      "Videos/4008_unedited.mp4\n",
      "<moviepy.video.io.VideoFileClip.VideoFileClip object at 0x0000022D60DB6E00>\n",
      "Moviepy - Building video resized_Videos/4008_unedited_resized.mp4.\n",
      "MoviePy - Writing audio in 4008_unedited_resizedTEMP_MPY_wvf_snd.mp3\n"
     ]
    },
    {
     "name": "stderr",
     "output_type": "stream",
     "text": [
      "                                                       \r"
     ]
    },
    {
     "name": "stdout",
     "output_type": "stream",
     "text": [
      "MoviePy - Done.\n",
      "Moviepy - Writing video resized_Videos/4008_unedited_resized.mp4\n",
      "\n"
     ]
    },
    {
     "name": "stderr",
     "output_type": "stream",
     "text": [
      "                                                             \r"
     ]
    },
    {
     "name": "stdout",
     "output_type": "stream",
     "text": [
      "Moviepy - Done !\n",
      "Moviepy - video ready resized_Videos/4008_unedited_resized.mp4\n",
      "Videos/4009_unedited.mp4\n",
      "<moviepy.video.io.VideoFileClip.VideoFileClip object at 0x0000022D60DB6470>\n",
      "Moviepy - Building video resized_Videos/4009_unedited_resized.mp4.\n",
      "MoviePy - Writing audio in 4009_unedited_resizedTEMP_MPY_wvf_snd.mp3\n"
     ]
    },
    {
     "name": "stderr",
     "output_type": "stream",
     "text": [
      "                                                                  \r"
     ]
    },
    {
     "name": "stdout",
     "output_type": "stream",
     "text": [
      "MoviePy - Done.\n",
      "Moviepy - Writing video resized_Videos/4009_unedited_resized.mp4\n",
      "\n"
     ]
    },
    {
     "name": "stderr",
     "output_type": "stream",
     "text": [
      "                                                               \r"
     ]
    },
    {
     "name": "stdout",
     "output_type": "stream",
     "text": [
      "Moviepy - Done !\n",
      "Moviepy - video ready resized_Videos/4009_unedited_resized.mp4\n",
      "Videos/4010_unedited.mp4\n",
      "<moviepy.video.io.VideoFileClip.VideoFileClip object at 0x0000022D60DB7670>\n",
      "Moviepy - Building video resized_Videos/4010_unedited_resized.mp4.\n",
      "MoviePy - Writing audio in 4010_unedited_resizedTEMP_MPY_wvf_snd.mp3\n"
     ]
    },
    {
     "name": "stderr",
     "output_type": "stream",
     "text": [
      "                                                        \r"
     ]
    },
    {
     "name": "stdout",
     "output_type": "stream",
     "text": [
      "MoviePy - Done.\n",
      "Moviepy - Writing video resized_Videos/4010_unedited_resized.mp4\n",
      "\n"
     ]
    },
    {
     "name": "stderr",
     "output_type": "stream",
     "text": [
      "                                                               \r"
     ]
    },
    {
     "name": "stdout",
     "output_type": "stream",
     "text": [
      "Moviepy - Done !\n",
      "Moviepy - video ready resized_Videos/4010_unedited_resized.mp4\n",
      "Videos/4011_unedited.mp4\n",
      "<moviepy.video.io.VideoFileClip.VideoFileClip object at 0x0000022D60DB7BE0>\n",
      "Moviepy - Building video resized_Videos/4011_unedited_resized.mp4.\n",
      "MoviePy - Writing audio in 4011_unedited_resizedTEMP_MPY_wvf_snd.mp3\n"
     ]
    },
    {
     "name": "stderr",
     "output_type": "stream",
     "text": [
      "                                                        \r"
     ]
    },
    {
     "name": "stdout",
     "output_type": "stream",
     "text": [
      "MoviePy - Done.\n",
      "Moviepy - Writing video resized_Videos/4011_unedited_resized.mp4\n",
      "\n"
     ]
    },
    {
     "name": "stderr",
     "output_type": "stream",
     "text": [
      "                                                               \r"
     ]
    },
    {
     "name": "stdout",
     "output_type": "stream",
     "text": [
      "Moviepy - Done !\n",
      "Moviepy - video ready resized_Videos/4011_unedited_resized.mp4\n",
      "Videos/4012_unedited.mp4\n",
      "<moviepy.video.io.VideoFileClip.VideoFileClip object at 0x0000022D60DB6B60>\n",
      "Moviepy - Building video resized_Videos/4012_unedited_resized.mp4.\n",
      "MoviePy - Writing audio in 4012_unedited_resizedTEMP_MPY_wvf_snd.mp3\n"
     ]
    },
    {
     "name": "stderr",
     "output_type": "stream",
     "text": [
      "                                                        \r"
     ]
    },
    {
     "name": "stdout",
     "output_type": "stream",
     "text": [
      "MoviePy - Done.\n",
      "Moviepy - Writing video resized_Videos/4012_unedited_resized.mp4\n",
      "\n"
     ]
    },
    {
     "name": "stderr",
     "output_type": "stream",
     "text": [
      "                                                               \r"
     ]
    },
    {
     "name": "stdout",
     "output_type": "stream",
     "text": [
      "Moviepy - Done !\n",
      "Moviepy - video ready resized_Videos/4012_unedited_resized.mp4\n",
      "Videos/4013_unedited.mp4\n",
      "<moviepy.video.io.VideoFileClip.VideoFileClip object at 0x0000022D60DB6710>\n",
      "Moviepy - Building video resized_Videos/4013_unedited_resized.mp4.\n",
      "MoviePy - Writing audio in 4013_unedited_resizedTEMP_MPY_wvf_snd.mp3\n"
     ]
    },
    {
     "name": "stderr",
     "output_type": "stream",
     "text": [
      "                                                        \r"
     ]
    },
    {
     "name": "stdout",
     "output_type": "stream",
     "text": [
      "MoviePy - Done.\n",
      "Moviepy - Writing video resized_Videos/4013_unedited_resized.mp4\n",
      "\n"
     ]
    },
    {
     "name": "stderr",
     "output_type": "stream",
     "text": [
      "                                                               \r"
     ]
    },
    {
     "name": "stdout",
     "output_type": "stream",
     "text": [
      "Moviepy - Done !\n",
      "Moviepy - video ready resized_Videos/4013_unedited_resized.mp4\n",
      "Videos/4014_unedited.mp4\n",
      "<moviepy.video.io.VideoFileClip.VideoFileClip object at 0x0000022D60DB77C0>\n",
      "Moviepy - Building video resized_Videos/4014_unedited_resized.mp4.\n",
      "MoviePy - Writing audio in 4014_unedited_resizedTEMP_MPY_wvf_snd.mp3\n"
     ]
    },
    {
     "name": "stderr",
     "output_type": "stream",
     "text": [
      "                                                                  \r"
     ]
    },
    {
     "name": "stdout",
     "output_type": "stream",
     "text": [
      "MoviePy - Done.\n",
      "Moviepy - Writing video resized_Videos/4014_unedited_resized.mp4\n",
      "\n"
     ]
    },
    {
     "name": "stderr",
     "output_type": "stream",
     "text": [
      "                                                               \r"
     ]
    },
    {
     "name": "stdout",
     "output_type": "stream",
     "text": [
      "Moviepy - Done !\n",
      "Moviepy - video ready resized_Videos/4014_unedited_resized.mp4\n",
      "Videos/4015_unedited.mp4\n",
      "<moviepy.video.io.VideoFileClip.VideoFileClip object at 0x0000022D60DB64A0>\n",
      "Moviepy - Building video resized_Videos/4015_unedited_resized.mp4.\n",
      "MoviePy - Writing audio in 4015_unedited_resizedTEMP_MPY_wvf_snd.mp3\n"
     ]
    },
    {
     "name": "stderr",
     "output_type": "stream",
     "text": [
      "                                                                    \r"
     ]
    },
    {
     "name": "stdout",
     "output_type": "stream",
     "text": [
      "MoviePy - Done.\n",
      "Moviepy - Writing video resized_Videos/4015_unedited_resized.mp4\n",
      "\n"
     ]
    },
    {
     "name": "stderr",
     "output_type": "stream",
     "text": [
      "                                                               \r"
     ]
    },
    {
     "name": "stdout",
     "output_type": "stream",
     "text": [
      "Moviepy - Done !\n",
      "Moviepy - video ready resized_Videos/4015_unedited_resized.mp4\n",
      "Videos/4016_unedited.mp4\n",
      "<moviepy.video.io.VideoFileClip.VideoFileClip object at 0x0000022D60DB7E50>\n",
      "Moviepy - Building video resized_Videos/4016_unedited_resized.mp4.\n",
      "MoviePy - Writing audio in 4016_unedited_resizedTEMP_MPY_wvf_snd.mp3\n"
     ]
    },
    {
     "name": "stderr",
     "output_type": "stream",
     "text": [
      "                                                                  \r"
     ]
    },
    {
     "name": "stdout",
     "output_type": "stream",
     "text": [
      "MoviePy - Done.\n",
      "Moviepy - Writing video resized_Videos/4016_unedited_resized.mp4\n",
      "\n"
     ]
    },
    {
     "name": "stderr",
     "output_type": "stream",
     "text": [
      "                                                               \r"
     ]
    },
    {
     "name": "stdout",
     "output_type": "stream",
     "text": [
      "Moviepy - Done !\n",
      "Moviepy - video ready resized_Videos/4016_unedited_resized.mp4\n",
      "Videos/4017_unedited.mp4\n",
      "<moviepy.video.io.VideoFileClip.VideoFileClip object at 0x0000022D61451540>\n",
      "Moviepy - Building video resized_Videos/4017_unedited_resized.mp4.\n",
      "MoviePy - Writing audio in 4017_unedited_resizedTEMP_MPY_wvf_snd.mp3\n"
     ]
    },
    {
     "name": "stderr",
     "output_type": "stream",
     "text": [
      "                                                                   \r"
     ]
    },
    {
     "name": "stdout",
     "output_type": "stream",
     "text": [
      "MoviePy - Done.\n",
      "Moviepy - Writing video resized_Videos/4017_unedited_resized.mp4\n",
      "\n"
     ]
    },
    {
     "name": "stderr",
     "output_type": "stream",
     "text": [
      "                                                               \r"
     ]
    },
    {
     "name": "stdout",
     "output_type": "stream",
     "text": [
      "Moviepy - Done !\n",
      "Moviepy - video ready resized_Videos/4017_unedited_resized.mp4\n",
      "Videos/4018_unedited.mp4\n",
      "<moviepy.video.io.VideoFileClip.VideoFileClip object at 0x0000022D61450460>\n",
      "Moviepy - Building video resized_Videos/4018_unedited_resized.mp4.\n",
      "MoviePy - Writing audio in 4018_unedited_resizedTEMP_MPY_wvf_snd.mp3\n"
     ]
    },
    {
     "name": "stderr",
     "output_type": "stream",
     "text": [
      "                                                                  \r"
     ]
    },
    {
     "name": "stdout",
     "output_type": "stream",
     "text": [
      "MoviePy - Done.\n",
      "Moviepy - Writing video resized_Videos/4018_unedited_resized.mp4\n",
      "\n"
     ]
    },
    {
     "name": "stderr",
     "output_type": "stream",
     "text": [
      "                                                               \r"
     ]
    },
    {
     "name": "stdout",
     "output_type": "stream",
     "text": [
      "Moviepy - Done !\n",
      "Moviepy - video ready resized_Videos/4018_unedited_resized.mp4\n",
      "Videos/4019_unedited.mp4\n",
      "<moviepy.video.io.VideoFileClip.VideoFileClip object at 0x0000022D61450AF0>\n",
      "Moviepy - Building video resized_Videos/4019_unedited_resized.mp4.\n",
      "MoviePy - Writing audio in 4019_unedited_resizedTEMP_MPY_wvf_snd.mp3\n"
     ]
    },
    {
     "name": "stderr",
     "output_type": "stream",
     "text": [
      "                                                                  \r"
     ]
    },
    {
     "name": "stdout",
     "output_type": "stream",
     "text": [
      "MoviePy - Done.\n",
      "Moviepy - Writing video resized_Videos/4019_unedited_resized.mp4\n",
      "\n"
     ]
    },
    {
     "name": "stderr",
     "output_type": "stream",
     "text": [
      "                                                               \r"
     ]
    },
    {
     "name": "stdout",
     "output_type": "stream",
     "text": [
      "Moviepy - Done !\n",
      "Moviepy - video ready resized_Videos/4019_unedited_resized.mp4\n",
      "Videos/4020_unedited.mp4\n",
      "<moviepy.video.io.VideoFileClip.VideoFileClip object at 0x0000022D614511B0>\n",
      "Moviepy - Building video resized_Videos/4020_unedited_resized.mp4.\n",
      "MoviePy - Writing audio in 4020_unedited_resizedTEMP_MPY_wvf_snd.mp3\n"
     ]
    },
    {
     "name": "stderr",
     "output_type": "stream",
     "text": [
      "                                                                  \r"
     ]
    },
    {
     "name": "stdout",
     "output_type": "stream",
     "text": [
      "MoviePy - Done.\n",
      "Moviepy - Writing video resized_Videos/4020_unedited_resized.mp4\n",
      "\n"
     ]
    },
    {
     "name": "stderr",
     "output_type": "stream",
     "text": [
      "                                                               \r"
     ]
    },
    {
     "name": "stdout",
     "output_type": "stream",
     "text": [
      "Moviepy - Done !\n",
      "Moviepy - video ready resized_Videos/4020_unedited_resized.mp4\n",
      "Videos/4021_unedited.mp4\n",
      "<moviepy.video.io.VideoFileClip.VideoFileClip object at 0x0000022D61451840>\n",
      "Moviepy - Building video resized_Videos/4021_unedited_resized.mp4.\n",
      "MoviePy - Writing audio in 4021_unedited_resizedTEMP_MPY_wvf_snd.mp3\n"
     ]
    },
    {
     "name": "stderr",
     "output_type": "stream",
     "text": [
      "                                                                  \r"
     ]
    },
    {
     "name": "stdout",
     "output_type": "stream",
     "text": [
      "MoviePy - Done.\n",
      "Moviepy - Writing video resized_Videos/4021_unedited_resized.mp4\n",
      "\n"
     ]
    },
    {
     "name": "stderr",
     "output_type": "stream",
     "text": [
      "                                                               \r"
     ]
    },
    {
     "name": "stdout",
     "output_type": "stream",
     "text": [
      "Moviepy - Done !\n",
      "Moviepy - video ready resized_Videos/4021_unedited_resized.mp4\n",
      "Videos/4022_unedited.mp4\n",
      "<moviepy.video.io.VideoFileClip.VideoFileClip object at 0x0000022D60DB5FF0>\n",
      "Moviepy - Building video resized_Videos/4022_unedited_resized.mp4.\n",
      "MoviePy - Writing audio in 4022_unedited_resizedTEMP_MPY_wvf_snd.mp3\n"
     ]
    },
    {
     "name": "stderr",
     "output_type": "stream",
     "text": [
      "                                                                  \r"
     ]
    },
    {
     "name": "stdout",
     "output_type": "stream",
     "text": [
      "MoviePy - Done.\n",
      "Moviepy - Writing video resized_Videos/4022_unedited_resized.mp4\n",
      "\n"
     ]
    },
    {
     "name": "stderr",
     "output_type": "stream",
     "text": [
      "                                                              \r"
     ]
    },
    {
     "name": "stdout",
     "output_type": "stream",
     "text": [
      "Moviepy - Done !\n",
      "Moviepy - video ready resized_Videos/4022_unedited_resized.mp4\n",
      "Videos/4023_unedited.mp4\n",
      "<moviepy.video.io.VideoFileClip.VideoFileClip object at 0x0000022D60DB6830>\n",
      "Moviepy - Building video resized_Videos/4023_unedited_resized.mp4.\n",
      "MoviePy - Writing audio in 4023_unedited_resizedTEMP_MPY_wvf_snd.mp3\n"
     ]
    },
    {
     "name": "stderr",
     "output_type": "stream",
     "text": [
      "                                                                 \r"
     ]
    },
    {
     "name": "stdout",
     "output_type": "stream",
     "text": [
      "MoviePy - Done.\n",
      "Moviepy - Writing video resized_Videos/4023_unedited_resized.mp4\n",
      "\n"
     ]
    },
    {
     "name": "stderr",
     "output_type": "stream",
     "text": [
      "                                                               \r"
     ]
    },
    {
     "name": "stdout",
     "output_type": "stream",
     "text": [
      "Moviepy - Done !\n",
      "Moviepy - video ready resized_Videos/4023_unedited_resized.mp4\n",
      "Videos/4024__unedited.mp4\n",
      "<moviepy.video.io.VideoFileClip.VideoFileClip object at 0x0000022D60DB6F50>\n",
      "Moviepy - Building video resized_Videos/4024__unedited_resized.mp4.\n",
      "MoviePy - Writing audio in 4024__unedited_resizedTEMP_MPY_wvf_snd.mp3\n"
     ]
    },
    {
     "name": "stderr",
     "output_type": "stream",
     "text": [
      "                                                                  \r"
     ]
    },
    {
     "name": "stdout",
     "output_type": "stream",
     "text": [
      "MoviePy - Done.\n",
      "Moviepy - Writing video resized_Videos/4024__unedited_resized.mp4\n",
      "\n"
     ]
    },
    {
     "name": "stderr",
     "output_type": "stream",
     "text": [
      "                                                              \r"
     ]
    },
    {
     "name": "stdout",
     "output_type": "stream",
     "text": [
      "Moviepy - Done !\n",
      "Moviepy - video ready resized_Videos/4024__unedited_resized.mp4\n",
      "Videos/4025_unedited.mp4\n",
      "<moviepy.video.io.VideoFileClip.VideoFileClip object at 0x0000022D60DB6770>\n",
      "Moviepy - Building video resized_Videos/4025_unedited_resized.mp4.\n",
      "MoviePy - Writing audio in 4025_unedited_resizedTEMP_MPY_wvf_snd.mp3\n"
     ]
    },
    {
     "name": "stderr",
     "output_type": "stream",
     "text": [
      "                                                                  \r"
     ]
    },
    {
     "name": "stdout",
     "output_type": "stream",
     "text": [
      "MoviePy - Done.\n",
      "Moviepy - Writing video resized_Videos/4025_unedited_resized.mp4\n",
      "\n"
     ]
    },
    {
     "name": "stderr",
     "output_type": "stream",
     "text": [
      "                                                               \r"
     ]
    },
    {
     "name": "stdout",
     "output_type": "stream",
     "text": [
      "Moviepy - Done !\n",
      "Moviepy - video ready resized_Videos/4025_unedited_resized.mp4\n",
      "Videos/4026_unedited.mp4\n",
      "<moviepy.video.io.VideoFileClip.VideoFileClip object at 0x0000022D60DB7790>\n",
      "Moviepy - Building video resized_Videos/4026_unedited_resized.mp4.\n",
      "MoviePy - Writing audio in 4026_unedited_resizedTEMP_MPY_wvf_snd.mp3\n"
     ]
    },
    {
     "name": "stderr",
     "output_type": "stream",
     "text": [
      "                                                                    \r"
     ]
    },
    {
     "name": "stdout",
     "output_type": "stream",
     "text": [
      "MoviePy - Done.\n",
      "Moviepy - Writing video resized_Videos/4026_unedited_resized.mp4\n",
      "\n"
     ]
    },
    {
     "name": "stderr",
     "output_type": "stream",
     "text": [
      "                                                               \r"
     ]
    },
    {
     "name": "stdout",
     "output_type": "stream",
     "text": [
      "Moviepy - Done !\n",
      "Moviepy - video ready resized_Videos/4026_unedited_resized.mp4\n",
      "Videos/4027_unedited.mp4\n",
      "<moviepy.video.io.VideoFileClip.VideoFileClip object at 0x0000022D60DB6740>\n",
      "Moviepy - Building video resized_Videos/4027_unedited_resized.mp4.\n",
      "Moviepy - Writing video resized_Videos/4027_unedited_resized.mp4\n",
      "\n"
     ]
    },
    {
     "name": "stderr",
     "output_type": "stream",
     "text": [
      "                                                               \r"
     ]
    },
    {
     "name": "stdout",
     "output_type": "stream",
     "text": [
      "Moviepy - Done !\n",
      "Moviepy - video ready resized_Videos/4027_unedited_resized.mp4\n",
      "Videos/4028_unedited.mp4\n",
      "<moviepy.video.io.VideoFileClip.VideoFileClip object at 0x0000022D60DB7FA0>\n",
      "Moviepy - Building video resized_Videos/4028_unedited_resized.mp4.\n",
      "Moviepy - Writing video resized_Videos/4028_unedited_resized.mp4\n",
      "\n"
     ]
    },
    {
     "name": "stderr",
     "output_type": "stream",
     "text": [
      "                                                               \r"
     ]
    },
    {
     "name": "stdout",
     "output_type": "stream",
     "text": [
      "Moviepy - Done !\n",
      "Moviepy - video ready resized_Videos/4028_unedited_resized.mp4\n",
      "Videos/4029_unedited.mp4\n",
      "<moviepy.video.io.VideoFileClip.VideoFileClip object at 0x0000022D60DB63E0>\n",
      "Moviepy - Building video resized_Videos/4029_unedited_resized.mp4.\n",
      "MoviePy - Writing audio in 4029_unedited_resizedTEMP_MPY_wvf_snd.mp3\n"
     ]
    },
    {
     "name": "stderr",
     "output_type": "stream",
     "text": [
      "                                                                    \r"
     ]
    },
    {
     "name": "stdout",
     "output_type": "stream",
     "text": [
      "MoviePy - Done.\n",
      "Moviepy - Writing video resized_Videos/4029_unedited_resized.mp4\n",
      "\n"
     ]
    },
    {
     "name": "stderr",
     "output_type": "stream",
     "text": [
      "                                                               \r"
     ]
    },
    {
     "name": "stdout",
     "output_type": "stream",
     "text": [
      "Moviepy - Done !\n",
      "Moviepy - video ready resized_Videos/4029_unedited_resized.mp4\n",
      "Videos/4030_unedited.mp4\n",
      "<moviepy.video.io.VideoFileClip.VideoFileClip object at 0x0000022D60DB76A0>\n",
      "Moviepy - Building video resized_Videos/4030_unedited_resized.mp4.\n",
      "MoviePy - Writing audio in 4030_unedited_resizedTEMP_MPY_wvf_snd.mp3\n"
     ]
    },
    {
     "name": "stderr",
     "output_type": "stream",
     "text": [
      "                                                                    \r"
     ]
    },
    {
     "name": "stdout",
     "output_type": "stream",
     "text": [
      "MoviePy - Done.\n",
      "Moviepy - Writing video resized_Videos/4030_unedited_resized.mp4\n",
      "\n"
     ]
    },
    {
     "name": "stderr",
     "output_type": "stream",
     "text": [
      "                                                               \r"
     ]
    },
    {
     "name": "stdout",
     "output_type": "stream",
     "text": [
      "Moviepy - Done !\n",
      "Moviepy - video ready resized_Videos/4030_unedited_resized.mp4\n",
      "Videos/4031_unedited.mp4\n",
      "<moviepy.video.io.VideoFileClip.VideoFileClip object at 0x0000022D60DB73D0>\n",
      "Moviepy - Building video resized_Videos/4031_unedited_resized.mp4.\n",
      "MoviePy - Writing audio in 4031_unedited_resizedTEMP_MPY_wvf_snd.mp3\n"
     ]
    },
    {
     "name": "stderr",
     "output_type": "stream",
     "text": [
      "                                                                  \r"
     ]
    },
    {
     "name": "stdout",
     "output_type": "stream",
     "text": [
      "MoviePy - Done.\n",
      "Moviepy - Writing video resized_Videos/4031_unedited_resized.mp4\n",
      "\n"
     ]
    },
    {
     "name": "stderr",
     "output_type": "stream",
     "text": [
      "                                                               \r"
     ]
    },
    {
     "name": "stdout",
     "output_type": "stream",
     "text": [
      "Moviepy - Done !\n",
      "Moviepy - video ready resized_Videos/4031_unedited_resized.mp4\n",
      "Videos/4032_unedited.mp4\n",
      "<moviepy.video.io.VideoFileClip.VideoFileClip object at 0x0000022D60DB7610>\n",
      "Moviepy - Building video resized_Videos/4032_unedited_resized.mp4.\n",
      "MoviePy - Writing audio in 4032_unedited_resizedTEMP_MPY_wvf_snd.mp3\n"
     ]
    },
    {
     "name": "stderr",
     "output_type": "stream",
     "text": [
      "                                                                  \r"
     ]
    },
    {
     "name": "stdout",
     "output_type": "stream",
     "text": [
      "MoviePy - Done.\n",
      "Moviepy - Writing video resized_Videos/4032_unedited_resized.mp4\n",
      "\n"
     ]
    },
    {
     "name": "stderr",
     "output_type": "stream",
     "text": [
      "                                                               \r"
     ]
    },
    {
     "name": "stdout",
     "output_type": "stream",
     "text": [
      "Moviepy - Done !\n",
      "Moviepy - video ready resized_Videos/4032_unedited_resized.mp4\n",
      "Videos/4033_unedited.mp4\n",
      "<moviepy.video.io.VideoFileClip.VideoFileClip object at 0x0000022D60DB7220>\n",
      "Moviepy - Building video resized_Videos/4033_unedited_resized.mp4.\n",
      "Moviepy - Writing video resized_Videos/4033_unedited_resized.mp4\n",
      "\n"
     ]
    },
    {
     "name": "stderr",
     "output_type": "stream",
     "text": [
      "                                                               \r"
     ]
    },
    {
     "name": "stdout",
     "output_type": "stream",
     "text": [
      "Moviepy - Done !\n",
      "Moviepy - video ready resized_Videos/4033_unedited_resized.mp4\n",
      "Videos/4034_unedited.mp4\n",
      "<moviepy.video.io.VideoFileClip.VideoFileClip object at 0x0000022D60DB7E50>\n",
      "Moviepy - Building video resized_Videos/4034_unedited_resized.mp4.\n",
      "MoviePy - Writing audio in 4034_unedited_resizedTEMP_MPY_wvf_snd.mp3\n"
     ]
    },
    {
     "name": "stderr",
     "output_type": "stream",
     "text": [
      "                                                                    \r"
     ]
    },
    {
     "name": "stdout",
     "output_type": "stream",
     "text": [
      "MoviePy - Done.\n",
      "Moviepy - Writing video resized_Videos/4034_unedited_resized.mp4\n",
      "\n"
     ]
    },
    {
     "name": "stderr",
     "output_type": "stream",
     "text": [
      "                                                               \r"
     ]
    },
    {
     "name": "stdout",
     "output_type": "stream",
     "text": [
      "Moviepy - Done !\n",
      "Moviepy - video ready resized_Videos/4034_unedited_resized.mp4\n",
      "Videos/4035_unedited.mp4\n",
      "<moviepy.video.io.VideoFileClip.VideoFileClip object at 0x0000022D61450550>\n",
      "Moviepy - Building video resized_Videos/4035_unedited_resized.mp4.\n",
      "MoviePy - Writing audio in 4035_unedited_resizedTEMP_MPY_wvf_snd.mp3\n"
     ]
    },
    {
     "name": "stderr",
     "output_type": "stream",
     "text": [
      "                                                                    \r"
     ]
    },
    {
     "name": "stdout",
     "output_type": "stream",
     "text": [
      "MoviePy - Done.\n",
      "Moviepy - Writing video resized_Videos/4035_unedited_resized.mp4\n",
      "\n"
     ]
    },
    {
     "name": "stderr",
     "output_type": "stream",
     "text": [
      "                                                               \r"
     ]
    },
    {
     "name": "stdout",
     "output_type": "stream",
     "text": [
      "Moviepy - Done !\n",
      "Moviepy - video ready resized_Videos/4035_unedited_resized.mp4\n",
      "Videos/4036_unedited.mp4\n",
      "<moviepy.video.io.VideoFileClip.VideoFileClip object at 0x0000022D614512A0>\n",
      "Moviepy - Building video resized_Videos/4036_unedited_resized.mp4.\n",
      "MoviePy - Writing audio in 4036_unedited_resizedTEMP_MPY_wvf_snd.mp3\n"
     ]
    },
    {
     "name": "stderr",
     "output_type": "stream",
     "text": [
      "                                                        \r"
     ]
    },
    {
     "name": "stdout",
     "output_type": "stream",
     "text": [
      "MoviePy - Done.\n",
      "Moviepy - Writing video resized_Videos/4036_unedited_resized.mp4\n",
      "\n"
     ]
    },
    {
     "name": "stderr",
     "output_type": "stream",
     "text": [
      "                                                               \r"
     ]
    },
    {
     "name": "stdout",
     "output_type": "stream",
     "text": [
      "Moviepy - Done !\n",
      "Moviepy - video ready resized_Videos/4036_unedited_resized.mp4\n",
      "Videos/4037_unedited.mp4\n",
      "<moviepy.video.io.VideoFileClip.VideoFileClip object at 0x0000022D61451810>\n",
      "Moviepy - Building video resized_Videos/4037_unedited_resized.mp4.\n",
      "MoviePy - Writing audio in 4037_unedited_resizedTEMP_MPY_wvf_snd.mp3\n"
     ]
    },
    {
     "name": "stderr",
     "output_type": "stream",
     "text": [
      "                                                                  \r"
     ]
    },
    {
     "name": "stdout",
     "output_type": "stream",
     "text": [
      "MoviePy - Done.\n",
      "Moviepy - Writing video resized_Videos/4037_unedited_resized.mp4\n",
      "\n"
     ]
    },
    {
     "name": "stderr",
     "output_type": "stream",
     "text": [
      "                                                               \r"
     ]
    },
    {
     "name": "stdout",
     "output_type": "stream",
     "text": [
      "Moviepy - Done !\n",
      "Moviepy - video ready resized_Videos/4037_unedited_resized.mp4\n",
      "Videos/4038_unedited.mp4\n",
      "<moviepy.video.io.VideoFileClip.VideoFileClip object at 0x0000022D61451690>\n",
      "Moviepy - Building video resized_Videos/4038_unedited_resized.mp4.\n",
      "MoviePy - Writing audio in 4038_unedited_resizedTEMP_MPY_wvf_snd.mp3\n"
     ]
    },
    {
     "name": "stderr",
     "output_type": "stream",
     "text": [
      "                                                                   \r"
     ]
    },
    {
     "name": "stdout",
     "output_type": "stream",
     "text": [
      "MoviePy - Done.\n",
      "Moviepy - Writing video resized_Videos/4038_unedited_resized.mp4\n",
      "\n"
     ]
    },
    {
     "name": "stderr",
     "output_type": "stream",
     "text": [
      "                                                               \r"
     ]
    },
    {
     "name": "stdout",
     "output_type": "stream",
     "text": [
      "Moviepy - Done !\n",
      "Moviepy - video ready resized_Videos/4038_unedited_resized.mp4\n",
      "Videos/4039_unedited.mp4\n",
      "<moviepy.video.io.VideoFileClip.VideoFileClip object at 0x0000022D60DB7BE0>\n",
      "Moviepy - Building video resized_Videos/4039_unedited_resized.mp4.\n",
      "Moviepy - Writing video resized_Videos/4039_unedited_resized.mp4\n",
      "\n"
     ]
    },
    {
     "name": "stderr",
     "output_type": "stream",
     "text": [
      "                                                               \r"
     ]
    },
    {
     "name": "stdout",
     "output_type": "stream",
     "text": [
      "Moviepy - Done !\n",
      "Moviepy - video ready resized_Videos/4039_unedited_resized.mp4\n",
      "Videos/4040_unedited.mp4\n",
      "<moviepy.video.io.VideoFileClip.VideoFileClip object at 0x0000022D60DB63E0>\n",
      "Moviepy - Building video resized_Videos/4040_unedited_resized.mp4.\n",
      "MoviePy - Writing audio in 4040_unedited_resizedTEMP_MPY_wvf_snd.mp3\n"
     ]
    },
    {
     "name": "stderr",
     "output_type": "stream",
     "text": [
      "                                                                    \r"
     ]
    },
    {
     "name": "stdout",
     "output_type": "stream",
     "text": [
      "MoviePy - Done.\n",
      "Moviepy - Writing video resized_Videos/4040_unedited_resized.mp4\n",
      "\n"
     ]
    },
    {
     "name": "stderr",
     "output_type": "stream",
     "text": [
      "                                                               \r"
     ]
    },
    {
     "name": "stdout",
     "output_type": "stream",
     "text": [
      "Moviepy - Done !\n",
      "Moviepy - video ready resized_Videos/4040_unedited_resized.mp4\n",
      "Videos/4041_unedited.mp4\n",
      "<moviepy.video.io.VideoFileClip.VideoFileClip object at 0x0000022D60DB72B0>\n",
      "Moviepy - Building video resized_Videos/4041_unedited_resized.mp4.\n",
      "MoviePy - Writing audio in 4041_unedited_resizedTEMP_MPY_wvf_snd.mp3\n"
     ]
    },
    {
     "name": "stderr",
     "output_type": "stream",
     "text": [
      "                                                                  \r"
     ]
    },
    {
     "name": "stdout",
     "output_type": "stream",
     "text": [
      "MoviePy - Done.\n",
      "Moviepy - Writing video resized_Videos/4041_unedited_resized.mp4\n",
      "\n"
     ]
    },
    {
     "name": "stderr",
     "output_type": "stream",
     "text": [
      "                                                               \r"
     ]
    },
    {
     "name": "stdout",
     "output_type": "stream",
     "text": [
      "Moviepy - Done !\n",
      "Moviepy - video ready resized_Videos/4041_unedited_resized.mp4\n",
      "Videos/4042_unedited.mp4\n",
      "<moviepy.video.io.VideoFileClip.VideoFileClip object at 0x0000022D60DB7970>\n",
      "Moviepy - Building video resized_Videos/4042_unedited_resized.mp4.\n",
      "MoviePy - Writing audio in 4042_unedited_resizedTEMP_MPY_wvf_snd.mp3\n"
     ]
    },
    {
     "name": "stderr",
     "output_type": "stream",
     "text": [
      "                                                                   \r"
     ]
    },
    {
     "name": "stdout",
     "output_type": "stream",
     "text": [
      "MoviePy - Done.\n",
      "Moviepy - Writing video resized_Videos/4042_unedited_resized.mp4\n",
      "\n"
     ]
    },
    {
     "name": "stderr",
     "output_type": "stream",
     "text": [
      "                                                               \r"
     ]
    },
    {
     "name": "stdout",
     "output_type": "stream",
     "text": [
      "Moviepy - Done !\n",
      "Moviepy - video ready resized_Videos/4042_unedited_resized.mp4\n",
      "Videos/4043_unedited.mp4\n",
      "<moviepy.video.io.VideoFileClip.VideoFileClip object at 0x0000022D60DB69B0>\n",
      "Moviepy - Building video resized_Videos/4043_unedited_resized.mp4.\n",
      "MoviePy - Writing audio in 4043_unedited_resizedTEMP_MPY_wvf_snd.mp3\n"
     ]
    },
    {
     "name": "stderr",
     "output_type": "stream",
     "text": [
      "                                                                    \r"
     ]
    },
    {
     "name": "stdout",
     "output_type": "stream",
     "text": [
      "MoviePy - Done.\n",
      "Moviepy - Writing video resized_Videos/4043_unedited_resized.mp4\n",
      "\n"
     ]
    },
    {
     "name": "stderr",
     "output_type": "stream",
     "text": [
      "                                                               \r"
     ]
    },
    {
     "name": "stdout",
     "output_type": "stream",
     "text": [
      "Moviepy - Done !\n",
      "Moviepy - video ready resized_Videos/4043_unedited_resized.mp4\n",
      "Videos/4044_unedited.mp4\n",
      "<moviepy.video.io.VideoFileClip.VideoFileClip object at 0x0000022D60DB70A0>\n",
      "Moviepy - Building video resized_Videos/4044_unedited_resized.mp4.\n",
      "MoviePy - Writing audio in 4044_unedited_resizedTEMP_MPY_wvf_snd.mp3\n"
     ]
    },
    {
     "name": "stderr",
     "output_type": "stream",
     "text": [
      "                                                                    \r"
     ]
    },
    {
     "name": "stdout",
     "output_type": "stream",
     "text": [
      "MoviePy - Done.\n",
      "Moviepy - Writing video resized_Videos/4044_unedited_resized.mp4\n",
      "\n"
     ]
    },
    {
     "name": "stderr",
     "output_type": "stream",
     "text": [
      "                                                               \r"
     ]
    },
    {
     "name": "stdout",
     "output_type": "stream",
     "text": [
      "Moviepy - Done !\n",
      "Moviepy - video ready resized_Videos/4044_unedited_resized.mp4\n",
      "Videos/4045_unedited.mp4\n",
      "<moviepy.video.io.VideoFileClip.VideoFileClip object at 0x0000022D60DB6980>\n",
      "Moviepy - Building video resized_Videos/4045_unedited_resized.mp4.\n",
      "Moviepy - Writing video resized_Videos/4045_unedited_resized.mp4\n",
      "\n"
     ]
    },
    {
     "name": "stderr",
     "output_type": "stream",
     "text": [
      "                                                               \r"
     ]
    },
    {
     "name": "stdout",
     "output_type": "stream",
     "text": [
      "Moviepy - Done !\n",
      "Moviepy - video ready resized_Videos/4045_unedited_resized.mp4\n",
      "Videos/4046_unedited.mp4\n",
      "<moviepy.video.io.VideoFileClip.VideoFileClip object at 0x0000022D60DB7820>\n",
      "Moviepy - Building video resized_Videos/4046_unedited_resized.mp4.\n",
      "MoviePy - Writing audio in 4046_unedited_resizedTEMP_MPY_wvf_snd.mp3\n"
     ]
    },
    {
     "name": "stderr",
     "output_type": "stream",
     "text": [
      "                                                                    \r"
     ]
    },
    {
     "name": "stdout",
     "output_type": "stream",
     "text": [
      "MoviePy - Done.\n",
      "Moviepy - Writing video resized_Videos/4046_unedited_resized.mp4\n",
      "\n"
     ]
    },
    {
     "name": "stderr",
     "output_type": "stream",
     "text": [
      "                                                               \r"
     ]
    },
    {
     "name": "stdout",
     "output_type": "stream",
     "text": [
      "Moviepy - Done !\n",
      "Moviepy - video ready resized_Videos/4046_unedited_resized.mp4\n",
      "Videos/4047_unedited.mp4\n",
      "<moviepy.video.io.VideoFileClip.VideoFileClip object at 0x0000022D60DB4F70>\n",
      "Moviepy - Building video resized_Videos/4047_unedited_resized.mp4.\n",
      "MoviePy - Writing audio in 4047_unedited_resizedTEMP_MPY_wvf_snd.mp3\n"
     ]
    },
    {
     "name": "stderr",
     "output_type": "stream",
     "text": [
      "                                                                    \r"
     ]
    },
    {
     "name": "stdout",
     "output_type": "stream",
     "text": [
      "MoviePy - Done.\n",
      "Moviepy - Writing video resized_Videos/4047_unedited_resized.mp4\n",
      "\n"
     ]
    },
    {
     "name": "stderr",
     "output_type": "stream",
     "text": [
      "                                                               \r"
     ]
    },
    {
     "name": "stdout",
     "output_type": "stream",
     "text": [
      "Moviepy - Done !\n",
      "Moviepy - video ready resized_Videos/4047_unedited_resized.mp4\n",
      "Videos/4048_unedited.mp4\n",
      "<moviepy.video.io.VideoFileClip.VideoFileClip object at 0x0000022D60DB6F50>\n",
      "Moviepy - Building video resized_Videos/4048_unedited_resized.mp4.\n",
      "MoviePy - Writing audio in 4048_unedited_resizedTEMP_MPY_wvf_snd.mp3\n"
     ]
    },
    {
     "name": "stderr",
     "output_type": "stream",
     "text": [
      "                                                                  \r"
     ]
    },
    {
     "name": "stdout",
     "output_type": "stream",
     "text": [
      "MoviePy - Done.\n",
      "Moviepy - Writing video resized_Videos/4048_unedited_resized.mp4\n",
      "\n"
     ]
    },
    {
     "name": "stderr",
     "output_type": "stream",
     "text": [
      "                                                               \r"
     ]
    },
    {
     "name": "stdout",
     "output_type": "stream",
     "text": [
      "Moviepy - Done !\n",
      "Moviepy - video ready resized_Videos/4048_unedited_resized.mp4\n",
      "Videos/4049_unedited.mp4\n",
      "<moviepy.video.io.VideoFileClip.VideoFileClip object at 0x0000022D60DB6410>\n",
      "Moviepy - Building video resized_Videos/4049_unedited_resized.mp4.\n",
      "MoviePy - Writing audio in 4049_unedited_resizedTEMP_MPY_wvf_snd.mp3\n"
     ]
    },
    {
     "name": "stderr",
     "output_type": "stream",
     "text": [
      "                                                                    \r"
     ]
    },
    {
     "name": "stdout",
     "output_type": "stream",
     "text": [
      "MoviePy - Done.\n",
      "Moviepy - Writing video resized_Videos/4049_unedited_resized.mp4\n",
      "\n"
     ]
    },
    {
     "name": "stderr",
     "output_type": "stream",
     "text": [
      "                                                               \r"
     ]
    },
    {
     "name": "stdout",
     "output_type": "stream",
     "text": [
      "Moviepy - Done !\n",
      "Moviepy - video ready resized_Videos/4049_unedited_resized.mp4\n",
      "Videos/4050_unedited.mp4\n",
      "<moviepy.video.io.VideoFileClip.VideoFileClip object at 0x0000022D60DB73A0>\n",
      "Moviepy - Building video resized_Videos/4050_unedited_resized.mp4.\n",
      "MoviePy - Writing audio in 4050_unedited_resizedTEMP_MPY_wvf_snd.mp3\n"
     ]
    },
    {
     "name": "stderr",
     "output_type": "stream",
     "text": [
      "                                                        \r"
     ]
    },
    {
     "name": "stdout",
     "output_type": "stream",
     "text": [
      "MoviePy - Done.\n",
      "Moviepy - Writing video resized_Videos/4050_unedited_resized.mp4\n",
      "\n"
     ]
    },
    {
     "name": "stderr",
     "output_type": "stream",
     "text": [
      "                                                               \r"
     ]
    },
    {
     "name": "stdout",
     "output_type": "stream",
     "text": [
      "Moviepy - Done !\n",
      "Moviepy - video ready resized_Videos/4050_unedited_resized.mp4\n",
      "Videos/4051_unedited.mp4\n",
      "<moviepy.video.io.VideoFileClip.VideoFileClip object at 0x0000022D60DB6BC0>\n",
      "Moviepy - Building video resized_Videos/4051_unedited_resized.mp4.\n",
      "MoviePy - Writing audio in 4051_unedited_resizedTEMP_MPY_wvf_snd.mp3\n"
     ]
    },
    {
     "name": "stderr",
     "output_type": "stream",
     "text": [
      "                                                                    \r"
     ]
    },
    {
     "name": "stdout",
     "output_type": "stream",
     "text": [
      "MoviePy - Done.\n",
      "Moviepy - Writing video resized_Videos/4051_unedited_resized.mp4\n",
      "\n"
     ]
    },
    {
     "name": "stderr",
     "output_type": "stream",
     "text": [
      "                                                              \r"
     ]
    },
    {
     "name": "stdout",
     "output_type": "stream",
     "text": [
      "Moviepy - Done !\n",
      "Moviepy - video ready resized_Videos/4051_unedited_resized.mp4\n",
      "Videos/4052_unedited.mp4\n",
      "<moviepy.video.io.VideoFileClip.VideoFileClip object at 0x0000022D61451E10>\n",
      "Moviepy - Building video resized_Videos/4052_unedited_resized.mp4.\n",
      "MoviePy - Writing audio in 4052_unedited_resizedTEMP_MPY_wvf_snd.mp3\n"
     ]
    },
    {
     "name": "stderr",
     "output_type": "stream",
     "text": [
      "                                                                   \r"
     ]
    },
    {
     "name": "stdout",
     "output_type": "stream",
     "text": [
      "MoviePy - Done.\n",
      "Moviepy - Writing video resized_Videos/4052_unedited_resized.mp4\n",
      "\n"
     ]
    },
    {
     "name": "stderr",
     "output_type": "stream",
     "text": [
      "                                                               \r"
     ]
    },
    {
     "name": "stdout",
     "output_type": "stream",
     "text": [
      "Moviepy - Done !\n",
      "Moviepy - video ready resized_Videos/4052_unedited_resized.mp4\n",
      "Videos/4053_unedited.mp4\n",
      "<moviepy.video.io.VideoFileClip.VideoFileClip object at 0x0000022D61451390>\n",
      "Moviepy - Building video resized_Videos/4053_unedited_resized.mp4.\n",
      "MoviePy - Writing audio in 4053_unedited_resizedTEMP_MPY_wvf_snd.mp3\n"
     ]
    },
    {
     "name": "stderr",
     "output_type": "stream",
     "text": [
      "                                                                    \r"
     ]
    },
    {
     "name": "stdout",
     "output_type": "stream",
     "text": [
      "MoviePy - Done.\n",
      "Moviepy - Writing video resized_Videos/4053_unedited_resized.mp4\n",
      "\n"
     ]
    },
    {
     "name": "stderr",
     "output_type": "stream",
     "text": [
      "                                                               \r"
     ]
    },
    {
     "name": "stdout",
     "output_type": "stream",
     "text": [
      "Moviepy - Done !\n",
      "Moviepy - video ready resized_Videos/4053_unedited_resized.mp4\n",
      "Videos/4054_unedited.mp4\n",
      "<moviepy.video.io.VideoFileClip.VideoFileClip object at 0x0000022D61451AB0>\n",
      "Moviepy - Building video resized_Videos/4054_unedited_resized.mp4.\n",
      "MoviePy - Writing audio in 4054_unedited_resizedTEMP_MPY_wvf_snd.mp3\n"
     ]
    },
    {
     "name": "stderr",
     "output_type": "stream",
     "text": [
      "                                                                    \r"
     ]
    },
    {
     "name": "stdout",
     "output_type": "stream",
     "text": [
      "MoviePy - Done.\n",
      "Moviepy - Writing video resized_Videos/4054_unedited_resized.mp4\n",
      "\n"
     ]
    },
    {
     "name": "stderr",
     "output_type": "stream",
     "text": [
      "                                                               \r"
     ]
    },
    {
     "name": "stdout",
     "output_type": "stream",
     "text": [
      "Moviepy - Done !\n",
      "Moviepy - video ready resized_Videos/4054_unedited_resized.mp4\n",
      "Videos/4055_unedited.mp4\n",
      "<moviepy.video.io.VideoFileClip.VideoFileClip object at 0x0000022D614511B0>\n",
      "Moviepy - Building video resized_Videos/4055_unedited_resized.mp4.\n",
      "MoviePy - Writing audio in 4055_unedited_resizedTEMP_MPY_wvf_snd.mp3\n"
     ]
    },
    {
     "name": "stderr",
     "output_type": "stream",
     "text": [
      "                                                        \r"
     ]
    },
    {
     "name": "stdout",
     "output_type": "stream",
     "text": [
      "MoviePy - Done.\n",
      "Moviepy - Writing video resized_Videos/4055_unedited_resized.mp4\n",
      "\n"
     ]
    },
    {
     "name": "stderr",
     "output_type": "stream",
     "text": [
      "                                                               \r"
     ]
    },
    {
     "name": "stdout",
     "output_type": "stream",
     "text": [
      "Moviepy - Done !\n",
      "Moviepy - video ready resized_Videos/4055_unedited_resized.mp4\n",
      "Videos/4056_unedited.mp4\n",
      "<moviepy.video.io.VideoFileClip.VideoFileClip object at 0x0000022D60DB77C0>\n",
      "Moviepy - Building video resized_Videos/4056_unedited_resized.mp4.\n",
      "MoviePy - Writing audio in 4056_unedited_resizedTEMP_MPY_wvf_snd.mp3\n"
     ]
    },
    {
     "name": "stderr",
     "output_type": "stream",
     "text": [
      "                                                                   \r"
     ]
    },
    {
     "name": "stdout",
     "output_type": "stream",
     "text": [
      "MoviePy - Done.\n",
      "Moviepy - Writing video resized_Videos/4056_unedited_resized.mp4\n",
      "\n"
     ]
    },
    {
     "name": "stderr",
     "output_type": "stream",
     "text": [
      "                                                               \r"
     ]
    },
    {
     "name": "stdout",
     "output_type": "stream",
     "text": [
      "Moviepy - Done !\n",
      "Moviepy - video ready resized_Videos/4056_unedited_resized.mp4\n",
      "Videos/4057_unedited.mp4\n",
      "<moviepy.video.io.VideoFileClip.VideoFileClip object at 0x0000022D60DB6AA0>\n",
      "Moviepy - Building video resized_Videos/4057_unedited_resized.mp4.\n",
      "MoviePy - Writing audio in 4057_unedited_resizedTEMP_MPY_wvf_snd.mp3\n"
     ]
    },
    {
     "name": "stderr",
     "output_type": "stream",
     "text": [
      "                                                                    \r"
     ]
    },
    {
     "name": "stdout",
     "output_type": "stream",
     "text": [
      "MoviePy - Done.\n",
      "Moviepy - Writing video resized_Videos/4057_unedited_resized.mp4\n",
      "\n"
     ]
    },
    {
     "name": "stderr",
     "output_type": "stream",
     "text": [
      "                                                               \r"
     ]
    },
    {
     "name": "stdout",
     "output_type": "stream",
     "text": [
      "Moviepy - Done !\n",
      "Moviepy - video ready resized_Videos/4057_unedited_resized.mp4\n",
      "Videos/4058_unedited.mp4\n",
      "<moviepy.video.io.VideoFileClip.VideoFileClip object at 0x0000022D60DB7730>\n",
      "Moviepy - Building video resized_Videos/4058_unedited_resized.mp4.\n",
      "MoviePy - Writing audio in 4058_unedited_resizedTEMP_MPY_wvf_snd.mp3\n"
     ]
    },
    {
     "name": "stderr",
     "output_type": "stream",
     "text": [
      "                                                                    \r"
     ]
    },
    {
     "name": "stdout",
     "output_type": "stream",
     "text": [
      "MoviePy - Done.\n",
      "Moviepy - Writing video resized_Videos/4058_unedited_resized.mp4\n",
      "\n"
     ]
    },
    {
     "name": "stderr",
     "output_type": "stream",
     "text": [
      "                                                               \r"
     ]
    },
    {
     "name": "stdout",
     "output_type": "stream",
     "text": [
      "Moviepy - Done !\n",
      "Moviepy - video ready resized_Videos/4058_unedited_resized.mp4\n",
      "Videos/4059_unedited.mp4\n",
      "<moviepy.video.io.VideoFileClip.VideoFileClip object at 0x0000022D60DB7160>\n",
      "Moviepy - Building video resized_Videos/4059_unedited_resized.mp4.\n",
      "MoviePy - Writing audio in 4059_unedited_resizedTEMP_MPY_wvf_snd.mp3\n"
     ]
    },
    {
     "name": "stderr",
     "output_type": "stream",
     "text": [
      "                                                        \r"
     ]
    },
    {
     "name": "stdout",
     "output_type": "stream",
     "text": [
      "MoviePy - Done.\n",
      "Moviepy - Writing video resized_Videos/4059_unedited_resized.mp4\n",
      "\n"
     ]
    },
    {
     "name": "stderr",
     "output_type": "stream",
     "text": [
      "                                                               \r"
     ]
    },
    {
     "name": "stdout",
     "output_type": "stream",
     "text": [
      "Moviepy - Done !\n",
      "Moviepy - video ready resized_Videos/4059_unedited_resized.mp4\n",
      "Videos/4060_unedited.mp4\n",
      "<moviepy.video.io.VideoFileClip.VideoFileClip object at 0x0000022D60DB72B0>\n",
      "Moviepy - Building video resized_Videos/4060_unedited_resized.mp4.\n",
      "MoviePy - Writing audio in 4060_unedited_resizedTEMP_MPY_wvf_snd.mp3\n"
     ]
    },
    {
     "name": "stderr",
     "output_type": "stream",
     "text": [
      "                                                                   \r"
     ]
    },
    {
     "name": "stdout",
     "output_type": "stream",
     "text": [
      "MoviePy - Done.\n",
      "Moviepy - Writing video resized_Videos/4060_unedited_resized.mp4\n",
      "\n"
     ]
    },
    {
     "name": "stderr",
     "output_type": "stream",
     "text": [
      "                                                               \r"
     ]
    },
    {
     "name": "stdout",
     "output_type": "stream",
     "text": [
      "Moviepy - Done !\n",
      "Moviepy - video ready resized_Videos/4060_unedited_resized.mp4\n",
      "Videos/4061_unedited.mp4\n",
      "<moviepy.video.io.VideoFileClip.VideoFileClip object at 0x0000022D60DB70A0>\n",
      "Moviepy - Building video resized_Videos/4061_unedited_resized.mp4.\n",
      "MoviePy - Writing audio in 4061_unedited_resizedTEMP_MPY_wvf_snd.mp3\n"
     ]
    },
    {
     "name": "stderr",
     "output_type": "stream",
     "text": [
      "                                                        \r"
     ]
    },
    {
     "name": "stdout",
     "output_type": "stream",
     "text": [
      "MoviePy - Done.\n",
      "Moviepy - Writing video resized_Videos/4061_unedited_resized.mp4\n",
      "\n"
     ]
    },
    {
     "name": "stderr",
     "output_type": "stream",
     "text": [
      "                                                               \r"
     ]
    },
    {
     "name": "stdout",
     "output_type": "stream",
     "text": [
      "Moviepy - Done !\n",
      "Moviepy - video ready resized_Videos/4061_unedited_resized.mp4\n"
     ]
    }
   ],
   "source": [
    "resize_video(video_paths)"
   ]
  },
  {
   "cell_type": "code",
   "execution_count": 7,
   "id": "c275f7ac-99e0-4b54-8bd8-35a9efd64b94",
   "metadata": {},
   "outputs": [],
   "source": [
    "class imagePainter:\n",
    "    def __init__(self, title='ImagePainter!'):\n",
    "        self.title = title\n",
    "        self.running = True\n",
    "        \n",
    "        \n",
    "    def paint_images(self, list_of_video_paths):\n",
    "        for video_path in list_of_video_paths:\n",
    "            frames = self.frames_from_video(video_path)\n",
    "            for frame in frames:\n",
    "                self.image_painter(frame)\n",
    "                \n",
    "                    \n",
    "    def frames_from_video(self, video_path):\n",
    "        folder = video_path.rstrip('.mp4')\n",
    "        face_folder =  f'{folder}_faces'\n",
    "        coords_folder = f'{folder}_faces_coords'\n",
    "        try:\n",
    "            os.mkdir(folder)\n",
    "        except FileExistsError:\n",
    "            print('folder exists, not making a new one!')\n",
    "        try:\n",
    "            os.mkdir(face_folder)\n",
    "        except FileExistsError:\n",
    "            print('folder exists, not making a new one!') \n",
    "        try:\n",
    "            os.mkdir(coords_folder)\n",
    "        except FileExistsError:\n",
    "            print('folder exists, not making a new one!') \n",
    "            \n",
    "        vid = cv2.VideoCapture(video_path)\n",
    "        count = 0\n",
    "        success = True\n",
    "        while success:\n",
    "            success, self.img = vid.read()\n",
    "            self.original_img = self.img.copy()\n",
    "            \n",
    "            filename_base = folder.lstrip('resized_Videos/')\n",
    "            \n",
    "            or_frame_path = f'{folder}/{filename_base}_frame{count}.jpg'\n",
    "            face_frame_path = f'{face_folder}/{filename_base}_face_frame{count}.jpg'\n",
    "            coords_path = f'{coords_folder}/{filename_base}_coords{count}.csv'\n",
    "            print(face_frame_path)\n",
    "            self.image_painter()\n",
    "            \n",
    "            cv2.imwrite(face_frame_path, self.temp_img)\n",
    "            self.rectangle_coords.to_csv(coords_path)\n",
    "            cv2.imwrite(or_frame_path, self.original_img)\n",
    "            count += 1   \n",
    "            \n",
    "        \n",
    "    def image_painter(self):\n",
    "        self.ix = -1\n",
    "        self.iy = -1\n",
    "        self.drawing = False\n",
    "        self.temp_img = None\n",
    "        self.rectangle_coords = pd.DataFrame({'x1': [], 'y1': [], 'x2': [], 'y2': []})\n",
    "        \n",
    "        while self.running:\n",
    "            cv2.namedWindow(winname = self.title) \n",
    "            cv2.setMouseCallback(self.title,  self.draw_rectangle_with_drag)  \n",
    "            cv2.imshow(self.title, self.img)\n",
    "            key = cv2.waitKey(0)\n",
    "            if key == 27:\n",
    "                self.running = False\n",
    "                cv2.destroyAllWindows() \n",
    "            else:\n",
    "                cv2.destroyAllWindows()  \n",
    "                break\n",
    "\n",
    "          \n",
    "    \n",
    "    def draw_rectangle_with_drag(self, event, x, y, flags, param):     \n",
    "        if event == cv2.EVENT_LBUTTONDOWN: \n",
    "            self.drawing = True\n",
    "            self.ix = x \n",
    "            self.iy = y\n",
    "            self.temp_img = self.img.copy()\n",
    "            \n",
    "        elif event == cv2.EVENT_MOUSEMOVE: \n",
    "            if self.drawing == True: \n",
    "                self.temp_img = self.img.copy()\n",
    "                cv2.rectangle(self.temp_img, \n",
    "                              pt1=(self.ix, self.iy), pt2=(x, y), \n",
    "                              color=(0, 0, 255), \n",
    "                              thickness=3, \n",
    "                              lineType=cv2.LINE_AA)\n",
    "                cv2.imshow(self.title, self.temp_img)\n",
    "        \n",
    "        elif event == cv2.EVENT_LBUTTONUP: \n",
    "            self.img = self.temp_img\n",
    "            coords = pd.DataFrame({'x1': [self.ix], 'y1': [self.iy], 'x2': [x], 'y2': [y]})\n",
    "            self.rectangle_coords = pd.concat([self.rectangle_coords, coords], axis=0)\n",
    "            self.drawing = False\n",
    "            "
   ]
  },
  {
   "cell_type": "code",
   "execution_count": 8,
   "id": "ec457068",
   "metadata": {},
   "outputs": [
    {
     "name": "stdout",
     "output_type": "stream",
     "text": [
      "resized_Videos/061_unedited_resized_faces/061_unedited_resized_face_frame0.jpg\n",
      "resized_Videos/061_unedited_resized_faces/061_unedited_resized_face_frame1.jpg\n",
      "resized_Videos/061_unedited_resized_faces/061_unedited_resized_face_frame2.jpg\n"
     ]
    },
    {
     "ename": "error",
     "evalue": "OpenCV(4.9.0) D:\\a\\opencv-python\\opencv-python\\opencv\\modules\\imgcodecs\\src\\loadsave.cpp:786: error: (-215:Assertion failed) !_img.empty() in function 'cv::imwrite'\n",
     "output_type": "error",
     "traceback": [
      "\u001b[1;31m---------------------------------------------------------------------------\u001b[0m",
      "\u001b[1;31merror\u001b[0m                                     Traceback (most recent call last)",
      "Cell \u001b[1;32mIn[8], line 2\u001b[0m\n\u001b[0;32m      1\u001b[0m image_painter \u001b[38;5;241m=\u001b[39m imagePainter()\n\u001b[1;32m----> 2\u001b[0m \u001b[43mimage_painter\u001b[49m\u001b[38;5;241;43m.\u001b[39;49m\u001b[43mpaint_images\u001b[49m\u001b[43m(\u001b[49m\u001b[43mrezised_video_paths\u001b[49m\u001b[43m[\u001b[49m\u001b[38;5;241;43m0\u001b[39;49m\u001b[43m:\u001b[49m\u001b[38;5;241;43m2\u001b[39;49m\u001b[43m]\u001b[49m\u001b[43m)\u001b[49m\n",
      "Cell \u001b[1;32mIn[7], line 9\u001b[0m, in \u001b[0;36mimagePainter.paint_images\u001b[1;34m(self, list_of_video_paths)\u001b[0m\n\u001b[0;32m      7\u001b[0m \u001b[38;5;28;01mdef\u001b[39;00m \u001b[38;5;21mpaint_images\u001b[39m(\u001b[38;5;28mself\u001b[39m, list_of_video_paths):\n\u001b[0;32m      8\u001b[0m     \u001b[38;5;28;01mfor\u001b[39;00m video_path \u001b[38;5;129;01min\u001b[39;00m list_of_video_paths:\n\u001b[1;32m----> 9\u001b[0m         frames \u001b[38;5;241m=\u001b[39m \u001b[38;5;28;43mself\u001b[39;49m\u001b[38;5;241;43m.\u001b[39;49m\u001b[43mframes_from_video\u001b[49m\u001b[43m(\u001b[49m\u001b[43mvideo_path\u001b[49m\u001b[43m)\u001b[49m\n\u001b[0;32m     10\u001b[0m         \u001b[38;5;28;01mfor\u001b[39;00m frame \u001b[38;5;129;01min\u001b[39;00m frames:\n\u001b[0;32m     11\u001b[0m             \u001b[38;5;28mself\u001b[39m\u001b[38;5;241m.\u001b[39mimage_painter(frame)\n",
      "Cell \u001b[1;32mIn[7], line 46\u001b[0m, in \u001b[0;36mimagePainter.frames_from_video\u001b[1;34m(self, video_path)\u001b[0m\n\u001b[0;32m     43\u001b[0m \u001b[38;5;28mprint\u001b[39m(face_frame_path)\n\u001b[0;32m     44\u001b[0m \u001b[38;5;28mself\u001b[39m\u001b[38;5;241m.\u001b[39mimage_painter()\n\u001b[1;32m---> 46\u001b[0m \u001b[43mcv2\u001b[49m\u001b[38;5;241;43m.\u001b[39;49m\u001b[43mimwrite\u001b[49m\u001b[43m(\u001b[49m\u001b[43mface_frame_path\u001b[49m\u001b[43m,\u001b[49m\u001b[43m \u001b[49m\u001b[38;5;28;43mself\u001b[39;49m\u001b[38;5;241;43m.\u001b[39;49m\u001b[43mtemp_img\u001b[49m\u001b[43m)\u001b[49m\n\u001b[0;32m     47\u001b[0m \u001b[38;5;28mself\u001b[39m\u001b[38;5;241m.\u001b[39mrectangle_coords\u001b[38;5;241m.\u001b[39mto_csv(coords_path)\n\u001b[0;32m     48\u001b[0m cv2\u001b[38;5;241m.\u001b[39mimwrite(or_frame_path, \u001b[38;5;28mself\u001b[39m\u001b[38;5;241m.\u001b[39moriginal_img)\n",
      "\u001b[1;31merror\u001b[0m: OpenCV(4.9.0) D:\\a\\opencv-python\\opencv-python\\opencv\\modules\\imgcodecs\\src\\loadsave.cpp:786: error: (-215:Assertion failed) !_img.empty() in function 'cv::imwrite'\n"
     ]
    }
   ],
   "source": [
    "image_painter = imagePainter()\n",
    "image_painter.paint_images(rezised_video_paths[0:2])"
   ]
  },
  {
   "cell_type": "code",
   "execution_count": null,
   "id": "30a4d57d",
   "metadata": {},
   "outputs": [],
   "source": []
  },
  {
   "cell_type": "code",
   "execution_count": null,
   "id": "305be6a9",
   "metadata": {},
   "outputs": [],
   "source": []
  }
 ],
 "metadata": {
  "kernelspec": {
   "display_name": "Python 3 (ipykernel)",
   "language": "python",
   "name": "python3"
  },
  "language_info": {
   "codemirror_mode": {
    "name": "ipython",
    "version": 3
   },
   "file_extension": ".py",
   "mimetype": "text/x-python",
   "name": "python",
   "nbconvert_exporter": "python",
   "pygments_lexer": "ipython3",
   "version": "3.10.14"
  }
 },
 "nbformat": 4,
 "nbformat_minor": 5
}
