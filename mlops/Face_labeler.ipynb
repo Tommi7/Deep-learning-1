{
 "cells": [
  {
   "cell_type": "markdown",
   "id": "2b08d97e",
   "metadata": {},
   "source": [
    "# Dataset downloaden en setup\n",
    "Dataset-link: https://github.com/adobe-research/VideoSham-dataset\n",
    "\n",
    "## Dataset downloaden:\n",
    "### stap 1:\n",
    "- >Volg de Dataset-link naar de gihub pagina en scroll naar beneden en download \"Unedited-Part1.zip\" onder \"Dataset Structure\"\n",
    "\n",
    "### stap 2:\n",
    "- >extract de gedownloadde \"Unedited-Part1.zip\" naar een folder in je projectfolder genaamd \"Videos\"\n",
    "\n",
    "## setup\n",
    "Run alle cellen tot de volgende markdown cel om de setup te voltooien."
   ]
  },
  {
   "cell_type": "code",
   "execution_count": 3,
   "id": "46d7ba4c-9c16-44cb-94ab-2d7302309c29",
   "metadata": {},
   "outputs": [],
   "source": [
    "import cv2\n",
    "import os\n",
    "import moviepy.editor as mp\n",
    "import pandas as pd"
   ]
  },
  {
   "cell_type": "code",
   "execution_count": 4,
   "id": "dc0b6ee9",
   "metadata": {},
   "outputs": [],
   "source": [
    "base_path = 'Videos'\n",
    "resized_path = 'resized_' + base_path "
   ]
  },
  {
   "cell_type": "code",
   "execution_count": 5,
   "id": "964e8cbe-5398-4ec6-a966-a37dcbd065d7",
   "metadata": {},
   "outputs": [],
   "source": [
    "def get_video_paths(path):\n",
    "    video_paths = []\n",
    "    for video in os.listdir(path):\n",
    "        if video.endswith('.mp4'):\n",
    "            video_paths.append(f'{path}/{video}')\n",
    "        else:\n",
    "            pass\n",
    "    return video_paths"
   ]
  },
  {
   "cell_type": "code",
   "execution_count": 6,
   "id": "013f34bc",
   "metadata": {},
   "outputs": [],
   "source": [
    "video_paths = get_video_paths(base_path)"
   ]
  },
  {
   "cell_type": "code",
   "execution_count": 7,
   "id": "3f42095c-b466-4eb3-a843-c98140e686eb",
   "metadata": {},
   "outputs": [],
   "source": [
    "def resize_video(folder, paths):\n",
    "    try:\n",
    "        os.mkdir(folder)\n",
    "    except FileExistsError:\n",
    "        print(f'{folder} exists, no folder creation needed!')\n",
    "    for index, path in enumerate(paths):\n",
    "        new_path = f'{folder}/video_{index}.mp4'\n",
    "        clip = mp.VideoFileClip(path)\n",
    "        clip_resized = clip.resize((1280, 720))\n",
    "        clip_resized.write_videofile(new_path)"
   ]
  },
  {
   "cell_type": "markdown",
   "id": "ce4f300e",
   "metadata": {},
   "source": [
    "## Resizing videos\n",
    "run dit door de volgende code cel te uncommenten\n",
    "### run dit als:\n",
    "- >Dit de eerste keer is dat je dit project runt\n",
    "\n",
    "- >De geresizede images per ongeluk veranderd of verwijderd zijn"
   ]
  },
  {
   "cell_type": "code",
   "execution_count": 8,
   "id": "295fb1a8",
   "metadata": {},
   "outputs": [],
   "source": [
    "# resize_video(resized_path, video_paths)"
   ]
  },
  {
   "cell_type": "markdown",
   "id": "56e5a2a0",
   "metadata": {},
   "source": [
    "## Maak een imagePainter class aan:\n",
    "Hier wordt een imagePainter class aangemaakt die wordt gebruikt om de frames(images) van een video te labelen. Je heeft een video_path mee bij het aanmaken van het object en dan runt de labeler automatisch met de aangegeven video. "
   ]
  },
  {
   "cell_type": "code",
   "execution_count": 11,
   "id": "c275f7ac-99e0-4b54-8bd8-35a9efd64b94",
   "metadata": {},
   "outputs": [],
   "source": [
    "class imagePainter:\n",
    "    def __init__(self, video_path, title='ImagePainter!'):\n",
    "        self.running = True\n",
    "        \n",
    "        self.title = title\n",
    "        self.video_name = video_path.lstrip('resized_Videos/').rstrip('.mp4')\n",
    "        self.rectangle_coords = pd.DataFrame({'image': [], 'x1': [], 'y1': [], 'x2': [], 'y2': []})\n",
    "        \n",
    "        self.frame_folder, self.face_folder, self.data_folder = self.create_folders()\n",
    "        \n",
    "        self.draw_on_frames_from_video(video_path)\n",
    "        \n",
    "    def create_folders(self):\n",
    "        data_folder = 'data'\n",
    "        frame_folder = f'{data_folder}/{self.video_name}_frames'\n",
    "        face_folder =  f'{frame_folder}_face_boxes'\n",
    "\n",
    "        self.check_and_create_folder(data_folder)\n",
    "        self.check_and_create_folder(frame_folder)\n",
    "        self.check_and_create_folder(face_folder)\n",
    "        \n",
    "        return (frame_folder, face_folder, data_folder)\n",
    "    \n",
    "    def check_and_create_folder(self, folder):\n",
    "        try:\n",
    "            os.mkdir(folder)\n",
    "            print(f'Creating {folder}')\n",
    "        except FileExistsError:\n",
    "            print(f'{folder} folder already exists! skipping creation...')\n",
    "            \n",
    "    def get_data_paths(self, count):\n",
    "        frame_path = f'{self.frame_folder}/{self.video_name}_frame_{count}.jpg'\n",
    "        face_path = f'{self.face_folder}/{self.video_name}_face_frame_{count}.jpg'\n",
    "        self.coords_path = f'{self.data_folder}/{self.video_name}_coords.csv'\n",
    "        \n",
    "        return (frame_path, face_path)\n",
    "    \n",
    "\n",
    "                \n",
    "    def draw_on_frames_from_video(self, video_path):\n",
    "        self.show_previous_frame = False\n",
    "        vid = cv2.VideoCapture(video_path)\n",
    "        frame_count = int(vid.get(cv2.CAP_PROP_FRAME_COUNT))\n",
    "        count = 0\n",
    "        \n",
    "        while self.running and vid.isOpened():\n",
    "            if self.show_previous_frame:\n",
    "                count -= 1\n",
    "                vid.set(cv2.CAP_PROP_POS_FRAMES, current_frame-1)\n",
    "                self.running, self.img = vid.read()\n",
    "                self.show_previous_frame = False\n",
    "            else:\n",
    "                self.running, self.img = vid.read()\n",
    "                \n",
    "                \n",
    "            next_frame = vid.get(cv2.CAP_PROP_POS_FRAMES)\n",
    "            current_frame = next_frame - 1\n",
    "            \n",
    "            try:\n",
    "                self.original_img = self.img.copy()\n",
    "            except AttributeError:\n",
    "                cv2.destroyAllWindows() \n",
    "                self.rectangle_coords.to_csv(self.coords_path, index=False)\n",
    "                break\n",
    "            self.drawing_img = self.img.copy()\n",
    "\n",
    "            self.image_painter(count)\n",
    "            \n",
    "            count += 1\n",
    "            self.title = f'ImagePainter - {self.video_name} - Image{count}/{frame_count}'  \n",
    "        self.rectangle_coords.to_csv(self.coords_path, index=False)\n",
    "    def image_painter(self, count):\n",
    "        self.image_name = f'{self.video_name}_frame_{count}.jpg'\n",
    "        frame_path, face_path = self.get_data_paths(count)\n",
    "        \n",
    "        self.ix = -1\n",
    "        self.iy = -1\n",
    "        self.drawing = False\n",
    "        \n",
    "        while self.running:\n",
    "            cv2.namedWindow(winname = self.title) \n",
    "            cv2.setMouseCallback(self.title,  self.draw_rectangle_with_drag) \n",
    "            cv2.imshow(self.title, self.img)\n",
    "                \n",
    "            key = cv2.waitKey(0)\n",
    "            if key == 27:\n",
    "                self.running = False\n",
    "                cv2.destroyAllWindows() \n",
    "                self.rectangle_coords.to_csv(self.coords_path, index=False)\n",
    "            elif key == ord('z'):\n",
    "                self.show_previous_frame = True\n",
    "                print('Going to the previous frame')\n",
    "                cv2.destroyAllWindows() \n",
    "                break\n",
    "            else:\n",
    "                cv2.imwrite(frame_path, self.original_img)\n",
    "                cv2.imwrite(face_path, self.drawing_img)\n",
    "                cv2.destroyAllWindows()  \n",
    "                break\n",
    "    \n",
    "    def draw_rectangle_with_drag(self, event, x, y, flags, param):\n",
    "        if event == cv2.EVENT_LBUTTONDOWN: \n",
    "            self.drawing = True\n",
    "            self.ix = x \n",
    "            self.iy = y\n",
    "            \n",
    "        elif event == cv2.EVENT_MOUSEMOVE: \n",
    "            if self.drawing == True: \n",
    "                self.drawing_img = self.img.copy()\n",
    "                cv2.rectangle(self.drawing_img, \n",
    "                              pt1=(self.ix, self.iy), pt2=(x, y), \n",
    "                              color=(0, 0, 255), \n",
    "                              thickness=1, \n",
    "                              lineType=cv2.LINE_AA)\n",
    "                cv2.imshow(self.title, self.drawing_img)\n",
    "        \n",
    "        elif event == cv2.EVENT_LBUTTONUP: \n",
    "            self.img = self.drawing_img\n",
    "            coords = pd.DataFrame({'image': [self.image_name], 'x1': [self.ix], 'y1': [self.iy], 'x2': [x], 'y2': [y]})\n",
    "            self.rectangle_coords = pd.concat([self.rectangle_coords, coords], axis=0)\n",
    "            self.drawing = False\n",
    "            "
   ]
  },
  {
   "cell_type": "markdown",
   "id": "17eb45ee",
   "metadata": {},
   "source": [
    "# Run de ImagePainter:\n",
    "Hieronder wordt rezised_video_paths gedefinieerd, deze variabel bevat een lijst met de paths naar alle geresizede videos\n",
    "\n",
    "Kies een video door de video variabele gelijk te zetten aan een waarde uit de lijst met videos.\n",
    "\n",
    "<b><u> Houd bij welke videos je hebt gelabeled om dubbel werk te voorkomen!!!</u></b>\n",
    "\n",
    "# imagePainter uitleg:\n",
    "De imagePainter opent een frame van de video en laat deze aan jou zien in een aparte window, op deze frame kan jij rechthoeken tekenen door je linkermuisknop in te drukken en te slepen.\n",
    "Zodra je alle gezichten heb gelabeld kan je op een willekeurige knop drukken zolang deze nog niet wordt gebruikt voor een andere doeleinde.\n",
    "\n",
    "## knoppen met andere doeleindes:\n",
    "- escape: \n",
    "    - eindig het programma en sla de coordinaten van alle labels op\n",
    "- z:\n",
    "    - Ga een frame terug en label deze opnieuw\n",
    "    - Als je op de eerste frame bent wordt het frame gerefreshed\n",
    "\n",
    "<b>Als alle frames van een video gelabeld zijn eindigt het programma ook.</b>"
   ]
  },
  {
   "cell_type": "code",
   "execution_count": 12,
   "id": "ec457068",
   "metadata": {},
   "outputs": [
    {
     "name": "stdout",
     "output_type": "stream",
     "text": [
      "data folder already exists! skipping creation...\n",
      "data/video_0_frames folder already exists! skipping creation...\n",
      "data/video_0_frames_face_boxes folder already exists! skipping creation...\n"
     ]
    }
   ],
   "source": [
    "rezised_video_paths = get_video_paths(resized_path)\n",
    "video = rezised_video_paths[0]\n",
    "image_painter = imagePainter(video)"
   ]
  },
  {
   "cell_type": "code",
   "execution_count": null,
   "id": "8810efbf",
   "metadata": {},
   "outputs": [],
   "source": []
  },
  {
   "cell_type": "code",
   "execution_count": null,
   "id": "7297ad96",
   "metadata": {},
   "outputs": [],
   "source": []
  }
 ],
 "metadata": {
  "kernelspec": {
   "display_name": "Python 3 (ipykernel)",
   "language": "python",
   "name": "python3"
  },
  "language_info": {
   "codemirror_mode": {
    "name": "ipython",
    "version": 3
   },
   "file_extension": ".py",
   "mimetype": "text/x-python",
   "name": "python",
   "nbconvert_exporter": "python",
   "pygments_lexer": "ipython3",
   "version": "3.10.14"
  }
 },
 "nbformat": 4,
 "nbformat_minor": 5
}
